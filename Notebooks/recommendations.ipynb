{
 "cells": [
  {
   "cell_type": "code",
   "execution_count": 3,
   "metadata": {},
   "outputs": [],
   "source": [
    "import pandas as pd\n",
    "pd.set_option('display.max_columns', None)\n",
    "import numpy as np\n",
    "import re\n",
    "import requests\n",
    "import pickle\n",
    "import seaborn as sns\n",
    "import matplotlib.pyplot as plt\n",
    "\n",
    "from sklearn.model_selection import train_test_split\n",
    "from sklearn.feature_extraction.text import CountVectorizer\n",
    "from nltk.tokenize import word_tokenize\n",
    "from sklearn.feature_extraction.text import TfidfVectorizer\n",
    "from sklearn.decomposition import NMF\n",
    "from sklearn.metrics import pairwise_distances"
   ]
  },
  {
   "cell_type": "code",
   "execution_count": 2,
   "metadata": {},
   "outputs": [],
   "source": [
    "with open('coffee_words.pickle','rb') as read_file:\n",
    "    coffee = pickle.load(read_file)\n",
    "with open('coffee_ratings.pickle','rb') as read_file:\n",
    "    ratings = pickle.load(read_file)\n",
    "with open('combined.pickle','rb') as read_file:\n",
    "    combined = pickle.load(read_file)\n",
    "with open('df.pickle','rb') as read_file:\n",
    "    df = pickle.load(read_file)\n",
    "with open('df_topic_breakdown.pickle','rb') as read_file:\n",
    "    df_topic_breakdown = pickle.load(read_file)\n",
    "with open('sentiment.pickle','rb') as read_file:\n",
    "    sentiment = pickle.load(read_file)"
   ]
  },
  {
   "cell_type": "code",
   "execution_count": 7,
   "metadata": {},
   "outputs": [],
   "source": [
    "from nltk.corpus import stopwords\n",
    "sw = stopwords.words(\"english\")\n",
    "sw = sw + ['coffee','coffees','cup','john', 'diruocco','jen','apodaca','ken','kevin','keurig','espresso','serve','capsule','device','serving','flavor','notes','mouthfeel','aroma','finish','brewed','brewing','parts','one','two','three','evaluate','evaluated','hint']"
   ]
  },
  {
   "cell_type": "code",
   "execution_count": 8,
   "metadata": {},
   "outputs": [
    {
     "data": {
      "text/plain": [
       "[['flowers', 'honey', 'silky', 'acidity', 'like', 'bright'],\n",
       " ['chocolate', 'dark', 'cedar', 'milk', 'small', 'chocolaty'],\n",
       " ['structure', 'tart', 'sweet', 'zest', 'richly', 'savory'],\n",
       " ['cocoa', 'toned', 'powder', 'nib', 'cedar', 'structure'],\n",
       " ['fresh', 'cut', 'fir', 'lightly', 'syrupy', 'drying'],\n",
       " ['cacao', 'nib', 'roasted', 'drying', 'lively', 'juicy'],\n",
       " ['black', 'currant', 'cherry', 'savory', 'red', 'pungent'],\n",
       " ['wood', 'body', 'aromatic', 'nut', 'sweetness', 'rather'],\n",
       " ['fruit', 'toned', 'cherry', 'chocolate', 'sweet', 'rich']]"
      ]
     },
     "execution_count": 8,
     "metadata": {},
     "output_type": "execute_result"
    }
   ],
   "source": [
    "blindtfidf = TfidfVectorizer(min_df=10, stop_words = sw)\n",
    "doc_word = blindtfidf.fit_transform(coffee.Review.str.replace(r'\\d+','',regex=True))\n",
    "\n",
    "nmf_model = NMF(9)\n",
    "doc_topic = nmf_model.fit_transform(doc_word)\n",
    "\n",
    "topic_word = nmf_model.components_\n",
    "\n",
    "words = blindtfidf.get_feature_names()\n",
    "t = nmf_model.components_.argsort(axis=1)[:,-1:-7:-1]\n",
    "topic_words = [[words[e] for e in l] for l in t]\n",
    "topic_words"
   ]
  },
  {
   "cell_type": "code",
   "execution_count": 53,
   "metadata": {},
   "outputs": [
    {
     "data": {
      "text/plain": [
       "'Deeply pungent, sweetly savory. Dark chocolate, narcissus, black cherry, cardamom, cashew in aroma and cup. Sweet-savory structure with roundly tart acidity; full, creamy mouthfeel. The floral-toned finish leads with notes of narcissus, balanced by dark chocolate and cashew underneath. '"
      ]
     },
     "execution_count": 53,
     "metadata": {},
     "output_type": "execute_result"
    }
   ],
   "source": [
    "coffee.iloc[10].Review"
   ]
  },
  {
   "cell_type": "code",
   "execution_count": 55,
   "metadata": {},
   "outputs": [
    {
     "data": {
      "text/plain": [
       "'Soft, round aroma: muted notes of lemon and flowers. In the cup balanced, gently tart acidity, lightish body, silky mouthfeel, continuing lemon and flowers. Some flavor carries into a clean, simple finish.'"
      ]
     },
     "execution_count": 55,
     "metadata": {},
     "output_type": "execute_result"
    }
   ],
   "source": [
    "indices = pairwise_distances(doc_topic[10].reshape(1,-1),doc_topic,metric='cosine').argsort()\n",
    "recs = list(indices[0][-3:])\n",
    "df_topic_breakdown.iloc[recs]\n",
    "\n",
    "coffee.iloc[recs[0]].Review"
   ]
  },
  {
   "cell_type": "code",
   "execution_count": null,
   "metadata": {},
   "outputs": [],
   "source": [
    "t = ['basketball is the best']\n",
    "vt = vectorizer.transform(t)"
   ]
  }
 ],
 "metadata": {
  "kernelspec": {
   "display_name": "Python 3",
   "language": "python",
   "name": "python3"
  },
  "language_info": {
   "codemirror_mode": {
    "name": "ipython",
    "version": 3
   },
   "file_extension": ".py",
   "mimetype": "text/x-python",
   "name": "python",
   "nbconvert_exporter": "python",
   "pygments_lexer": "ipython3",
   "version": "3.8.3"
  }
 },
 "nbformat": 4,
 "nbformat_minor": 4
}
