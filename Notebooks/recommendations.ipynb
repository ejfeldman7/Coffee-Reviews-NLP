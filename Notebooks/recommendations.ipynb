{
 "cells": [
  {
   "cell_type": "markdown",
   "metadata": {},
   "source": [
    "## Recommendation Model\n",
    "\n",
    "The goal of this notebook is to take in the text review of a coffee, a flavor description really, and find the most similar coffee to it as a recommendation. Each coffee review has been assigned a nine dimensional flavor score based on NMF topic modeling and these vectors are compared using a cosine distance to find the two most similar coffees."
   ]
  },
  {
   "cell_type": "code",
   "execution_count": 1,
   "metadata": {},
   "outputs": [],
   "source": [
    "import pandas as pd\n",
    "pd.set_option('display.max_columns', None)\n",
    "import numpy as np\n",
    "import re\n",
    "import requests\n",
    "import pickle\n",
    "import seaborn as sns\n",
    "import matplotlib.pyplot as plt\n",
    "\n",
    "from sklearn.model_selection import train_test_split\n",
    "from sklearn.feature_extraction.text import CountVectorizer\n",
    "from nltk.tokenize import word_tokenize\n",
    "from sklearn.feature_extraction.text import TfidfVectorizer\n",
    "from sklearn.decomposition import NMF\n",
    "from sklearn.metrics import pairwise_distances"
   ]
  },
  {
   "cell_type": "code",
   "execution_count": 2,
   "metadata": {},
   "outputs": [],
   "source": [
    "with open('coffee_words.pickle','rb') as read_file:\n",
    "    coffee = pickle.load(read_file)\n",
    "with open('coffee_ratings.pickle','rb') as read_file:\n",
    "    ratings = pickle.load(read_file)\n",
    "with open('combined.pickle','rb') as read_file:\n",
    "    combined = pickle.load(read_file)\n",
    "with open('df_full.pickle','rb') as read_file:\n",
    "    df = pickle.load(read_file)\n",
    "with open('df_topic_breakdown.pickle','rb') as read_file:\n",
    "    df_topic_breakdown = pickle.load(read_file)\n",
    "with open('sentiment.pickle','rb') as read_file:\n",
    "    sentiment = pickle.load(read_file)\n",
    "\n",
    "with open('blindtfidf_vec.pickle', 'rb') as read_file:\n",
    "    blindtfidf = pickle.load(read_file)\n",
    "with open('blindtfidf_mat.pickle', 'rb') as read_file:\n",
    "    tfidf_blind = pickle.load(read_file)\n",
    "ratings = ratings.reset_index().rename(columns={'index':'Roaster'})\n"
   ]
  },
  {
   "cell_type": "code",
   "execution_count": 3,
   "metadata": {},
   "outputs": [],
   "source": [
    "from nltk.corpus import stopwords\n",
    "sw = stopwords.words(\"english\")\n",
    "sw = sw + ['coffee','coffees','cup','john', 'diruocco','jen','apodaca','ken','kevin','keurig','espresso','serve','capsule','device','serving','flavor','notes','mouthfeel','aroma','finish','brewed','brewing','parts','one','two','three','evaluate','evaluated','hint']"
   ]
  },
  {
   "cell_type": "code",
   "execution_count": 4,
   "metadata": {},
   "outputs": [],
   "source": [
    "with open('nmf_tfidfblind.pickle', 'rb') as read_file:\n",
    "    nmf_tfidfblind = pickle.load(read_file)\n",
    "\n",
    "with open('blindtfidf_topic.pickle', 'rb') as read_file:\n",
    "    blindtfidf_topic = pickle.load(read_file)\n",
    "\n",
    "with open('blindtopic_tfidf.pickle', 'rb') as read_file:\n",
    "    blindtopic_tfidf = pickle.load(read_file)"
   ]
  },
  {
   "cell_type": "markdown",
   "metadata": {},
   "source": [
    "## NMF topics\n",
    "As a reminder from previous work, here are the most common words in coffee reviews from the topics based on the NMF modeling."
   ]
  },
  {
   "cell_type": "code",
   "execution_count": 5,
   "metadata": {},
   "outputs": [
    {
     "data": {
      "text/plain": [
       "[['black', 'currant', 'cherry', 'savory', 'red', 'pungent'],\n",
       " ['chocolate', 'dark', 'cedar', 'milk', 'small', 'chocolaty'],\n",
       " ['structure', 'tart', 'sweet', 'zest', 'richly', 'savory'],\n",
       " ['cocoa', 'toned', 'powder', 'nib', 'cedar', 'structure'],\n",
       " ['fresh', 'cut', 'fir', 'lightly', 'syrupy', 'drying'],\n",
       " ['cacao', 'nib', 'roasted', 'drying', 'lively', 'juicy'],\n",
       " ['flowers', 'honey', 'silky', 'acidity', 'like', 'bright'],\n",
       " ['wood', 'body', 'nut', 'aromatic', 'sweetness', 'rather'],\n",
       " ['fruit', 'toned', 'cherry', 'chocolate', 'sweet', 'rich']]"
      ]
     },
     "execution_count": 5,
     "metadata": {},
     "output_type": "execute_result"
    }
   ],
   "source": [
    "doc_word = tfidf_blind\n",
    "\n",
    "nmf_model = nmf_tfidfblind\n",
    "doc_topic = blindtfidf_topic\n",
    "topic_word = nmf_model.components_\n",
    "\n",
    "words = blindtfidf.get_feature_names()\n",
    "t = nmf_model.components_.argsort(axis=1)[:,-1:-7:-1]\n",
    "\n",
    "topic_words = [[words[e] for e in l] for l in t]\n",
    "topic_words"
   ]
  },
  {
   "cell_type": "markdown",
   "metadata": {},
   "source": [
    "## Example coffee\n",
    "\n",
    "Below is an example of a coffee that was reviewed as is part of the original corpus. Then, that review was converted into a nine dimensional flavor vector using it's NMF topic values."
   ]
  },
  {
   "cell_type": "code",
   "execution_count": 6,
   "metadata": {},
   "outputs": [
    {
     "data": {
      "text/plain": [
       "'Deeply pungent, sweetly savory. Dark chocolate, narcissus, black cherry, cardamom, cashew in aroma and cup. Sweet-savory structure with roundly tart acidity; full, creamy mouthfeel. The floral-toned finish leads with notes of narcissus, balanced by dark chocolate and cashew underneath. '"
      ]
     },
     "execution_count": 6,
     "metadata": {},
     "output_type": "execute_result"
    }
   ],
   "source": [
    "coffee.iloc[10].Review"
   ]
  },
  {
   "cell_type": "code",
   "execution_count": 7,
   "metadata": {},
   "outputs": [
    {
     "data": {
      "text/plain": [
       "array([0.06078979, 0.06336553, 0.08229621, 0.        , 0.        ,\n",
       "       0.        , 0.        , 0.        , 0.00760888])"
      ]
     },
     "execution_count": 7,
     "metadata": {},
     "output_type": "execute_result"
    }
   ],
   "source": [
    "doc_topic[10]"
   ]
  },
  {
   "cell_type": "markdown",
   "metadata": {},
   "source": [
    "Pairwise distances are computed between the above vector and the vectors of all other coffees in the corpus. Their cosine distances are then sorted and I am interested in finding those which are most similar (recs). By taking the second recommendation (as the first would be the original coffee), we can see our most similarly described coffee."
   ]
  },
  {
   "cell_type": "code",
   "execution_count": 23,
   "metadata": {},
   "outputs": [
    {
     "data": {
      "text/plain": [
       "'Sweetly savory, layered. Rhododendron-like flowers, cinnamon, baker’s chocolate, cedar, red currant in aroma and cup. Round, savory-leaning structure; crisp, velvety mouthfeel. The quiet finish centers on notes of vanilla-like florals and baker’s chocolate, with a hint of cinnamon. '"
      ]
     },
     "execution_count": 23,
     "metadata": {},
     "output_type": "execute_result"
    }
   ],
   "source": [
    "indices = pairwise_distances(doc_topic[10].reshape(1,-1),doc_topic,metric='cosine').argsort()\n",
    "recs = list(indices[0][0:4])\n",
    "df_topic_breakdown.iloc[recs]\n",
    "\n",
    "coffee.iloc[recs[1]].Review"
   ]
  },
  {
   "cell_type": "markdown",
   "metadata": {},
   "source": [
    "## Formatting\n",
    "\n",
    "Same work as above, but working on cleaning up the process before moving it to the streamlit app."
   ]
  },
  {
   "cell_type": "code",
   "execution_count": 20,
   "metadata": {},
   "outputs": [
    {
     "data": {
      "text/plain": [
       "array([[0.00036605, 0.        , 0.09780715, 0.02406052, 0.00661351,\n",
       "        0.        , 0.02649725, 0.03088748, 0.00711122]])"
      ]
     },
     "execution_count": 20,
     "metadata": {},
     "output_type": "execute_result"
    }
   ],
   "source": [
    "# t = ['Delicate, lyrically sweet, gently tart. Tea rose, pink grapefruit zest, cocoa nib, fresh-cut oak, wild honey in aroma and cup. Sweet structure with gently bright acidity; plush, satiny mouthfeel. The finish consolidates to richly sweet notes of tea rose and honey with cocoa nib undertones.']\n",
    "# item = ['Crisp, balanced, richly nut-toned. Nutella, red apple, freesia, agave syrup, cedar in aroma and cup. Very sweet in structure with brisk acidity; plush, syrupy-smooth mouthfeel. Sweetly nut-toned finish supported by freesia-like floral tones.']\n",
    "item = ['Crisply sweet, nut-toned, richly floral. Almond butter, lilac, lemon verbena, red apple, oak in aroma and cup. Sweet structure with soft, round acidity; very full, syrupy-smooth mouthfeel. Lemon verbena supports the resonantly nut-toned finish.']\n",
    "w= []\n",
    "w.append(coffee.Review[0])\n",
    "vt = blindtfidf.transform(item).todense()\n",
    "tt1 = nmf_model.transform(vt)\n",
    "tt1"
   ]
  },
  {
   "cell_type": "code",
   "execution_count": 19,
   "metadata": {},
   "outputs": [
    {
     "name": "stdout",
     "output_type": "stream",
     "text": [
      "The coffee you liked was described as: ['Crisp, balanced, richly nut-toned. Nutella, red apple, freesia, agave syrup, cedar in aroma and cup. Very sweet in structure with brisk acidity; plush, syrupy-smooth mouthfeel. Sweetly nut-toned finish supported by freesia-like floral tones.']\n",
      "\n",
      "\n",
      "Based on your input coffee, I recommend you try the Medium-Light roasted Santa Barbara, Honduras by Small Eyes Cafe . \n",
      " It could be desribed as: Crisply sweet, nut-toned, richly floral. Almond butter, lilac, lemon verbena, red apple, oak in aroma and cup. Sweet structure with soft, round acidity; very full, syrupy-smooth mouthfeel. Lemon verbena supports the resonantly nut-toned finish.\n"
     ]
    }
   ],
   "source": [
    "indices = pairwise_distances(tt1.reshape(1,-1),doc_topic,metric='cosine').argsort()\n",
    "recs = list(indices[0][0:4])\n",
    "df_topic_breakdown.iloc[recs]\n",
    "print('The coffee you liked was described as:',str(item))\n",
    "print('\\n')\n",
    "print('Based on your input coffee, I recommend you try the',ratings.iloc[recs[0]]['Roast Level'],'roasted',ratings.iloc[recs[0]]['Coffee Origin'],'by',ratings.iloc[recs[0]]['Roaster'],'.','\\n','It could be desribed as:',coffee.iloc[recs[0]].Review)"
   ]
  },
  {
   "cell_type": "code",
   "execution_count": 88,
   "metadata": {},
   "outputs": [
    {
     "data": {
      "text/plain": [
       "array([[0.02186967, 0.00078154, 0.04314666, 0.01241035, 0.00014772,\n",
       "        0.00245299, 0.        , 0.        , 0.03365916]])"
      ]
     },
     "execution_count": 88,
     "metadata": {},
     "output_type": "execute_result"
    }
   ],
   "source": [
    "t = [coffee.iloc[recs[0]].Review]\n",
    "vt = blindtfidf.transform(t).todense()\n",
    "tt2 = nmf_model.transform(vt)\n",
    "tt2"
   ]
  },
  {
   "cell_type": "code",
   "execution_count": 89,
   "metadata": {},
   "outputs": [
    {
     "data": {
      "text/plain": [
       "array([[0.00301434]])"
      ]
     },
     "execution_count": 89,
     "metadata": {},
     "output_type": "execute_result"
    }
   ],
   "source": [
    "pairwise_distances(tt1.reshape(1,-1),tt2.reshape(1,-1),metric='cosine')"
   ]
  },
  {
   "cell_type": "code",
   "execution_count": null,
   "metadata": {},
   "outputs": [],
   "source": []
  }
 ],
 "metadata": {
  "kernelspec": {
   "display_name": "Python 3",
   "language": "python",
   "name": "python3"
  },
  "language_info": {
   "codemirror_mode": {
    "name": "ipython",
    "version": 3
   },
   "file_extension": ".py",
   "mimetype": "text/x-python",
   "name": "python",
   "nbconvert_exporter": "python",
   "pygments_lexer": "ipython3",
   "version": "3.8.3"
  }
 },
 "nbformat": 4,
 "nbformat_minor": 4
}
