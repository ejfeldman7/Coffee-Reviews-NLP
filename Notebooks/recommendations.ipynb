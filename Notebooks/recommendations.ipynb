{
 "cells": [
  {
   "cell_type": "code",
   "execution_count": 3,
   "metadata": {},
   "outputs": [],
   "source": [
    "import pandas as pd\n",
    "pd.set_option('display.max_columns', None)\n",
    "import numpy as np\n",
    "import re\n",
    "import requests\n",
    "import pickle\n",
    "import seaborn as sns\n",
    "import matplotlib.pyplot as plt\n",
    "\n",
    "from sklearn.model_selection import train_test_split\n",
    "from sklearn.feature_extraction.text import CountVectorizer\n",
    "from nltk.tokenize import word_tokenize\n",
    "from sklearn.feature_extraction.text import TfidfVectorizer\n",
    "from sklearn.decomposition import NMF\n",
    "from sklearn.metrics import pairwise_distances"
   ]
  },
  {
   "cell_type": "code",
   "execution_count": 71,
   "metadata": {},
   "outputs": [],
   "source": [
    "with open('coffee_words.pickle','rb') as read_file:\n",
    "    coffee = pickle.load(read_file)\n",
    "with open('coffee_ratings.pickle','rb') as read_file:\n",
    "    ratings = pickle.load(read_file)\n",
    "with open('combined.pickle','rb') as read_file:\n",
    "    combined = pickle.load(read_file)\n",
    "with open('df.pickle','rb') as read_file:\n",
    "    df = pickle.load(read_file)\n",
    "with open('df_topic_breakdown.pickle','rb') as read_file:\n",
    "    df_topic_breakdown = pickle.load(read_file)\n",
    "with open('sentiment.pickle','rb') as read_file:\n",
    "    sentiment = pickle.load(read_file)\n",
    "ratings = ratings.reset_index().rename(columns={'index':'Roaster'})"
   ]
  },
  {
   "cell_type": "code",
   "execution_count": 7,
   "metadata": {},
   "outputs": [],
   "source": [
    "from nltk.corpus import stopwords\n",
    "sw = stopwords.words(\"english\")\n",
    "sw = sw + ['coffee','coffees','cup','john', 'diruocco','jen','apodaca','ken','kevin','keurig','espresso','serve','capsule','device','serving','flavor','notes','mouthfeel','aroma','finish','brewed','brewing','parts','one','two','three','evaluate','evaluated','hint']"
   ]
  },
  {
   "cell_type": "code",
   "execution_count": 8,
   "metadata": {},
   "outputs": [
    {
     "data": {
      "text/plain": [
       "[['flowers', 'honey', 'silky', 'acidity', 'like', 'bright'],\n",
       " ['chocolate', 'dark', 'cedar', 'milk', 'small', 'chocolaty'],\n",
       " ['structure', 'tart', 'sweet', 'zest', 'richly', 'savory'],\n",
       " ['cocoa', 'toned', 'powder', 'nib', 'cedar', 'structure'],\n",
       " ['fresh', 'cut', 'fir', 'lightly', 'syrupy', 'drying'],\n",
       " ['cacao', 'nib', 'roasted', 'drying', 'lively', 'juicy'],\n",
       " ['black', 'currant', 'cherry', 'savory', 'red', 'pungent'],\n",
       " ['wood', 'body', 'aromatic', 'nut', 'sweetness', 'rather'],\n",
       " ['fruit', 'toned', 'cherry', 'chocolate', 'sweet', 'rich']]"
      ]
     },
     "execution_count": 8,
     "metadata": {},
     "output_type": "execute_result"
    }
   ],
   "source": [
    "blindtfidf = TfidfVectorizer(min_df=10, stop_words = sw)\n",
    "doc_word = blindtfidf.fit_transform(coffee.Review.str.replace(r'\\d+','',regex=True))\n",
    "\n",
    "nmf_model = NMF(9)\n",
    "doc_topic = nmf_model.fit_transform(doc_word)\n",
    "\n",
    "topic_word = nmf_model.components_\n",
    "\n",
    "words = blindtfidf.get_feature_names()\n",
    "t = nmf_model.components_.argsort(axis=1)[:,-1:-7:-1]\n",
    "topic_words = [[words[e] for e in l] for l in t]\n",
    "topic_words"
   ]
  },
  {
   "cell_type": "code",
   "execution_count": 53,
   "metadata": {},
   "outputs": [
    {
     "data": {
      "text/plain": [
       "'Deeply pungent, sweetly savory. Dark chocolate, narcissus, black cherry, cardamom, cashew in aroma and cup. Sweet-savory structure with roundly tart acidity; full, creamy mouthfeel. The floral-toned finish leads with notes of narcissus, balanced by dark chocolate and cashew underneath. '"
      ]
     },
     "execution_count": 53,
     "metadata": {},
     "output_type": "execute_result"
    }
   ],
   "source": [
    "coffee.iloc[10].Review"
   ]
  },
  {
   "cell_type": "code",
   "execution_count": 55,
   "metadata": {},
   "outputs": [
    {
     "data": {
      "text/plain": [
       "'Soft, round aroma: muted notes of lemon and flowers. In the cup balanced, gently tart acidity, lightish body, silky mouthfeel, continuing lemon and flowers. Some flavor carries into a clean, simple finish.'"
      ]
     },
     "execution_count": 55,
     "metadata": {},
     "output_type": "execute_result"
    }
   ],
   "source": [
    "indices = pairwise_distances(doc_topic[10].reshape(1,-1),doc_topic,metric='cosine').argsort()\n",
    "recs = list(indices[0][-3:])\n",
    "df_topic_breakdown.iloc[recs]\n",
    "\n",
    "coffee.iloc[recs[0]].Review"
   ]
  },
  {
   "cell_type": "code",
   "execution_count": 90,
   "metadata": {},
   "outputs": [
    {
     "data": {
      "text/plain": [
       "array([[0.03285689, 0.        , 0.0692112 , 0.08157737, 0.0558586 ,\n",
       "        0.03514688, 0.        , 0.        , 0.        ]])"
      ]
     },
     "execution_count": 90,
     "metadata": {},
     "output_type": "execute_result"
    }
   ],
   "source": [
    "t = ['Delicate, lyrically sweet, gently tart. Tea rose, pink grapefruit zest, cocoa nib, fresh-cut oak, wild honey in aroma and cup. Sweet structure with gently bright acidity; plush, satiny mouthfeel. The finish consolidates to richly sweet notes of tea rose and honey with cocoa nib undertones.']\n",
    "vt = blindtfidf.transform(t).todense()\n",
    "tt1 = nmf_model.transform(vt)\n",
    "tt1"
   ]
  },
  {
   "cell_type": "code",
   "execution_count": 91,
   "metadata": {},
   "outputs": [
    {
     "name": "stdout",
     "output_type": "stream",
     "text": [
      "The coffee you liked was described as: Delicate, lyrically sweet, gently tart. Tea rose, pink grapefruit zest, cocoa nib, fresh-cut oak, wild honey in aroma and cup. Sweet structure with gently bright acidity; plush, satiny mouthfeel. The finish consolidates to richly sweet notes of tea rose and honey with cocoa nib undertones.\n",
      "\n",
      "\n",
      "Based on your input coffee, I recommend you try the Medium-Light roasted Huila, Colombia by Badbeard’s Microroastery . \n",
      " It could be desribed as: Sweetly tart, floral-driven. Honeysuckle, vanilla bean, cocoa nib, peach, fresh-cut oak in aroma and cup. Crisply sweet structure with gently bright, ripe acidity; very full, viscous mouthfeel. The finish consolidates to notes of peach, vanilla bean and oak.\n"
     ]
    }
   ],
   "source": [
    "indices = pairwise_distances(tt1.reshape(1,-1),doc_topic,metric='cosine').argsort()\n",
    "recs = list(indices[0][0:4])\n",
    "df_topic_breakdown.iloc[recs]\n",
    "print('The coffee you liked was described as:',t[0])\n",
    "print('\\n')\n",
    "print('Based on your input coffee, I recommend you try the',ratings.iloc[recs[0]]['Roast Level'],'roasted',ratings.iloc[recs[0]]['Coffee Origin'],'by',ratings.iloc[recs[0]]['Roaster'],'.','\\n','It could be desribed as:',coffee.iloc[recs[0]].Review)"
   ]
  },
  {
   "cell_type": "code",
   "execution_count": 88,
   "metadata": {},
   "outputs": [
    {
     "data": {
      "text/plain": [
       "array([[0.02186967, 0.00078154, 0.04314666, 0.01241035, 0.00014772,\n",
       "        0.00245299, 0.        , 0.        , 0.03365916]])"
      ]
     },
     "execution_count": 88,
     "metadata": {},
     "output_type": "execute_result"
    }
   ],
   "source": [
    "t = [coffee.iloc[recs[0]].Review]\n",
    "vt = blindtfidf.transform(t).todense()\n",
    "tt2 = nmf_model.transform(vt)\n",
    "tt2"
   ]
  },
  {
   "cell_type": "code",
   "execution_count": 89,
   "metadata": {},
   "outputs": [
    {
     "data": {
      "text/plain": [
       "array([[0.00301434]])"
      ]
     },
     "execution_count": 89,
     "metadata": {},
     "output_type": "execute_result"
    }
   ],
   "source": [
    "pairwise_distances(tt1.reshape(1,-1),tt2.reshape(1,-1),metric='cosine')"
   ]
  },
  {
   "cell_type": "code",
   "execution_count": null,
   "metadata": {},
   "outputs": [],
   "source": []
  }
 ],
 "metadata": {
  "kernelspec": {
   "display_name": "Python 3",
   "language": "python",
   "name": "python3"
  },
  "language_info": {
   "codemirror_mode": {
    "name": "ipython",
    "version": 3
   },
   "file_extension": ".py",
   "mimetype": "text/x-python",
   "name": "python",
   "nbconvert_exporter": "python",
   "pygments_lexer": "ipython3",
   "version": "3.8.3"
  }
 },
 "nbformat": 4,
 "nbformat_minor": 4
}
