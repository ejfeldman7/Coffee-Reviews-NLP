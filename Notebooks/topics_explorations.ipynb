{
 "cells": [
  {
   "cell_type": "code",
   "execution_count": 1,
   "metadata": {},
   "outputs": [],
   "source": [
    "import pandas as pd\n",
    "pd.set_option('display.max_columns', None)\n",
    "import numpy as np\n",
    "import re\n",
    "import requests\n",
    "import pickle\n",
    "import seaborn as sns\n",
    "import matplotlib.pyplot as plt\n"
   ]
  },
  {
   "cell_type": "code",
   "execution_count": 2,
   "metadata": {},
   "outputs": [],
   "source": [
    "with open('coffee_words.pickle','rb') as read_file:\n",
    "    coffee = pickle.load(read_file)\n",
    "with open('coffee_ratings.pickle','rb') as read_file:\n",
    "    ratings = pickle.load(read_file)\n",
    "with open('combined.pickle','rb') as read_file:\n",
    "    combined = pickle.load(read_file)\n",
    "with open('df.pickle','rb') as read_file:\n",
    "    df = pickle.load(read_file)\n",
    "with open('df_topic_breakdown.pickle','rb') as read_file:\n",
    "    df_topic_breakdown = pickle.load(read_file)"
   ]
  },
  {
   "cell_type": "code",
   "execution_count": 6,
   "metadata": {},
   "outputs": [],
   "source": [
    "ratings = ratings.reset_index().rename(columns={'index':'Roaster'})"
   ]
  },
  {
   "cell_type": "code",
   "execution_count": 22,
   "metadata": {},
   "outputs": [
    {
     "data": {
      "text/plain": [
       "7    1266\n",
       "2     983\n",
       "1     860\n",
       "8     737\n",
       "0     492\n",
       "4     441\n",
       "3     429\n",
       "5     421\n",
       "6     330\n",
       "Name: group, dtype: int64"
      ]
     },
     "execution_count": 22,
     "metadata": {},
     "output_type": "execute_result"
    }
   ],
   "source": [
    "df_topic_breakdown.group.value_counts()"
   ]
  },
  {
   "cell_type": "code",
   "execution_count": 23,
   "metadata": {},
   "outputs": [
    {
     "data": {
      "text/html": [
       "<div>\n",
       "<style scoped>\n",
       "    .dataframe tbody tr th:only-of-type {\n",
       "        vertical-align: middle;\n",
       "    }\n",
       "\n",
       "    .dataframe tbody tr th {\n",
       "        vertical-align: top;\n",
       "    }\n",
       "\n",
       "    .dataframe thead th {\n",
       "        text-align: right;\n",
       "    }\n",
       "</style>\n",
       "<table border=\"1\" class=\"dataframe\">\n",
       "  <thead>\n",
       "    <tr style=\"text-align: right;\">\n",
       "      <th></th>\n",
       "      <th>roaster</th>\n",
       "      <th>origin</th>\n",
       "      <th>roast_level</th>\n",
       "      <th>rating</th>\n",
       "      <th>length</th>\n",
       "      <th>word count</th>\n",
       "      <th>group</th>\n",
       "      <th>bright_floral_citrus</th>\n",
       "      <th>choc_woody_dark</th>\n",
       "      <th>tart_sweet_smooth</th>\n",
       "      <th>cacao_nut_clean</th>\n",
       "      <th>sweet_nut_pine</th>\n",
       "      <th>juicy_cacao_honey</th>\n",
       "      <th>red_berries</th>\n",
       "      <th>woody_nut_caramel</th>\n",
       "      <th>cherry_vinuous_choc</th>\n",
       "      <th>date</th>\n",
       "      <th>aroma</th>\n",
       "      <th>body</th>\n",
       "      <th>flavor</th>\n",
       "      <th>aftertaste</th>\n",
       "      <th>acidity</th>\n",
       "      <th>origin_general</th>\n",
       "    </tr>\n",
       "  </thead>\n",
       "  <tbody>\n",
       "    <tr>\n",
       "      <th>0</th>\n",
       "      <td>Jackrabbit Java</td>\n",
       "      <td>Costa Rica</td>\n",
       "      <td>Medium-Light</td>\n",
       "      <td>93</td>\n",
       "      <td>257</td>\n",
       "      <td>24</td>\n",
       "      <td>4</td>\n",
       "      <td>0.00000</td>\n",
       "      <td>0.045379</td>\n",
       "      <td>0.073064</td>\n",
       "      <td>0.000000</td>\n",
       "      <td>0.104257</td>\n",
       "      <td>0.000000</td>\n",
       "      <td>0.010795</td>\n",
       "      <td>0.00000</td>\n",
       "      <td>0.000000</td>\n",
       "      <td>February 2021</td>\n",
       "      <td>9</td>\n",
       "      <td>9</td>\n",
       "      <td>9</td>\n",
       "      <td>8</td>\n",
       "      <td>8</td>\n",
       "      <td>Costa Rica</td>\n",
       "    </tr>\n",
       "    <tr>\n",
       "      <th>1</th>\n",
       "      <td>Jackrabbit Java</td>\n",
       "      <td>Nyamasheke District, Rwanda</td>\n",
       "      <td>Medium-Light</td>\n",
       "      <td>92</td>\n",
       "      <td>248</td>\n",
       "      <td>26</td>\n",
       "      <td>2</td>\n",
       "      <td>0.01818</td>\n",
       "      <td>0.000000</td>\n",
       "      <td>0.073098</td>\n",
       "      <td>0.063934</td>\n",
       "      <td>0.000000</td>\n",
       "      <td>0.009512</td>\n",
       "      <td>0.000000</td>\n",
       "      <td>0.00635</td>\n",
       "      <td>0.012827</td>\n",
       "      <td>February 2021</td>\n",
       "      <td>9</td>\n",
       "      <td>8</td>\n",
       "      <td>9</td>\n",
       "      <td>8</td>\n",
       "      <td>8</td>\n",
       "      <td>Rwanda</td>\n",
       "    </tr>\n",
       "  </tbody>\n",
       "</table>\n",
       "</div>"
      ],
      "text/plain": [
       "           roaster                       origin   roast_level rating  length  \\\n",
       "0  Jackrabbit Java                   Costa Rica  Medium-Light     93     257   \n",
       "1  Jackrabbit Java  Nyamasheke District, Rwanda  Medium-Light     92     248   \n",
       "\n",
       "   word count  group  bright_floral_citrus  choc_woody_dark  \\\n",
       "0          24      4               0.00000         0.045379   \n",
       "1          26      2               0.01818         0.000000   \n",
       "\n",
       "   tart_sweet_smooth  cacao_nut_clean  sweet_nut_pine  juicy_cacao_honey  \\\n",
       "0           0.073064         0.000000        0.104257           0.000000   \n",
       "1           0.073098         0.063934        0.000000           0.009512   \n",
       "\n",
       "   red_berries  woody_nut_caramel  cherry_vinuous_choc           date aroma  \\\n",
       "0     0.010795            0.00000             0.000000  February 2021     9   \n",
       "1     0.000000            0.00635             0.012827  February 2021     9   \n",
       "\n",
       "  body flavor aftertaste acidity origin_general  \n",
       "0    9      9          8       8     Costa Rica  \n",
       "1    8      9          8       8         Rwanda  "
      ]
     },
     "execution_count": 23,
     "metadata": {},
     "output_type": "execute_result"
    }
   ],
   "source": [
    "df_topic_breakdown['origin_general']=df_topic_breakdown.origin.str.split(', ').str[-1]\n",
    "df_topic_breakdown.head(2)"
   ]
  },
  {
   "cell_type": "code",
   "execution_count": 24,
   "metadata": {},
   "outputs": [
    {
     "data": {
      "text/html": [
       "<div>\n",
       "<style scoped>\n",
       "    .dataframe tbody tr th:only-of-type {\n",
       "        vertical-align: middle;\n",
       "    }\n",
       "\n",
       "    .dataframe tbody tr th {\n",
       "        vertical-align: top;\n",
       "    }\n",
       "\n",
       "    .dataframe thead th {\n",
       "        text-align: right;\n",
       "    }\n",
       "</style>\n",
       "<table border=\"1\" class=\"dataframe\">\n",
       "  <thead>\n",
       "    <tr style=\"text-align: right;\">\n",
       "      <th></th>\n",
       "      <th>bright_floral_citrus</th>\n",
       "      <th>choc_woody_dark</th>\n",
       "      <th>tart_sweet_smooth</th>\n",
       "      <th>cacao_nut_clean</th>\n",
       "      <th>sweet_nut_pine</th>\n",
       "      <th>juicy_cacao_honey</th>\n",
       "      <th>red_berries</th>\n",
       "      <th>woody_nut_caramel</th>\n",
       "      <th>cherry_vinuous_choc</th>\n",
       "    </tr>\n",
       "    <tr>\n",
       "      <th>origin_general</th>\n",
       "      <th></th>\n",
       "      <th></th>\n",
       "      <th></th>\n",
       "      <th></th>\n",
       "      <th></th>\n",
       "      <th></th>\n",
       "      <th></th>\n",
       "      <th></th>\n",
       "      <th></th>\n",
       "    </tr>\n",
       "  </thead>\n",
       "  <tbody>\n",
       "    <tr>\n",
       "      <th>Central Yemen</th>\n",
       "      <td>0.004864</td>\n",
       "      <td>0.006302</td>\n",
       "      <td>0.037899</td>\n",
       "      <td>0.002672</td>\n",
       "      <td>0.001141</td>\n",
       "      <td>0.004741</td>\n",
       "      <td>0.024173</td>\n",
       "      <td>0.011738</td>\n",
       "      <td>0.060668</td>\n",
       "    </tr>\n",
       "    <tr>\n",
       "      <th>Africa; Asia Pacific</th>\n",
       "      <td>0.017403</td>\n",
       "      <td>0.061002</td>\n",
       "      <td>0.054237</td>\n",
       "      <td>0.000745</td>\n",
       "      <td>0.003081</td>\n",
       "      <td>0.003330</td>\n",
       "      <td>0.000000</td>\n",
       "      <td>0.000000</td>\n",
       "      <td>0.043586</td>\n",
       "    </tr>\n",
       "    <tr>\n",
       "      <th>Java</th>\n",
       "      <td>0.000000</td>\n",
       "      <td>0.010941</td>\n",
       "      <td>0.000000</td>\n",
       "      <td>0.004782</td>\n",
       "      <td>0.002674</td>\n",
       "      <td>0.000000</td>\n",
       "      <td>0.000000</td>\n",
       "      <td>0.035410</td>\n",
       "      <td>0.017612</td>\n",
       "    </tr>\n",
       "  </tbody>\n",
       "</table>\n",
       "</div>"
      ],
      "text/plain": [
       "                      bright_floral_citrus  choc_woody_dark  \\\n",
       "origin_general                                                \n",
       "Central Yemen                     0.004864         0.006302   \n",
       "Africa; Asia Pacific              0.017403         0.061002   \n",
       "Java                              0.000000         0.010941   \n",
       "\n",
       "                      tart_sweet_smooth  cacao_nut_clean  sweet_nut_pine  \\\n",
       "origin_general                                                             \n",
       "Central Yemen                  0.037899         0.002672        0.001141   \n",
       "Africa; Asia Pacific           0.054237         0.000745        0.003081   \n",
       "Java                           0.000000         0.004782        0.002674   \n",
       "\n",
       "                      juicy_cacao_honey  red_berries  woody_nut_caramel  \\\n",
       "origin_general                                                            \n",
       "Central Yemen                  0.004741     0.024173           0.011738   \n",
       "Africa; Asia Pacific           0.003330     0.000000           0.000000   \n",
       "Java                           0.000000     0.000000           0.035410   \n",
       "\n",
       "                      cherry_vinuous_choc  \n",
       "origin_general                             \n",
       "Central Yemen                    0.060668  \n",
       "Africa; Asia Pacific             0.043586  \n",
       "Java                             0.017612  "
      ]
     },
     "execution_count": 24,
     "metadata": {},
     "output_type": "execute_result"
    }
   ],
   "source": [
    "topic_features = ['bright_floral_citrus', 'choc_woody_dark', 'tart_sweet_smooth','cacao_nut_clean', 'sweet_nut_pine', 'juicy_cacao_honey', 'red_berries','woody_nut_caramel', 'cherry_vinuous_choc']\n",
    "df_topic_breakdown.groupby(by='origin_general')[topic_features].mean().sample(3)"
   ]
  },
  {
   "cell_type": "code",
   "execution_count": 25,
   "metadata": {},
   "outputs": [
    {
     "data": {
      "text/html": [
       "<div>\n",
       "<style scoped>\n",
       "    .dataframe tbody tr th:only-of-type {\n",
       "        vertical-align: middle;\n",
       "    }\n",
       "\n",
       "    .dataframe tbody tr th {\n",
       "        vertical-align: top;\n",
       "    }\n",
       "\n",
       "    .dataframe thead th {\n",
       "        text-align: right;\n",
       "    }\n",
       "</style>\n",
       "<table border=\"1\" class=\"dataframe\">\n",
       "  <thead>\n",
       "    <tr style=\"text-align: right;\">\n",
       "      <th></th>\n",
       "      <th>roaster</th>\n",
       "      <th>origin</th>\n",
       "      <th>roast_level</th>\n",
       "      <th>rating</th>\n",
       "      <th>length</th>\n",
       "      <th>word count</th>\n",
       "      <th>group</th>\n",
       "      <th>bright_floral_citrus</th>\n",
       "      <th>choc_woody_dark</th>\n",
       "      <th>tart_sweet_smooth</th>\n",
       "      <th>cacao_nut_clean</th>\n",
       "      <th>sweet_nut_pine</th>\n",
       "      <th>juicy_cacao_honey</th>\n",
       "      <th>red_berries</th>\n",
       "      <th>woody_nut_caramel</th>\n",
       "      <th>cherry_vinuous_choc</th>\n",
       "      <th>date</th>\n",
       "      <th>aroma</th>\n",
       "      <th>body</th>\n",
       "      <th>flavor</th>\n",
       "      <th>aftertaste</th>\n",
       "      <th>acidity</th>\n",
       "      <th>origin_general</th>\n",
       "    </tr>\n",
       "  </thead>\n",
       "  <tbody>\n",
       "    <tr>\n",
       "      <th>0</th>\n",
       "      <td>Jackrabbit Java</td>\n",
       "      <td>Costa Rica</td>\n",
       "      <td>Medium-Light</td>\n",
       "      <td>93</td>\n",
       "      <td>257</td>\n",
       "      <td>24</td>\n",
       "      <td>4</td>\n",
       "      <td>0.000000</td>\n",
       "      <td>0.045379</td>\n",
       "      <td>0.073064</td>\n",
       "      <td>0.000000</td>\n",
       "      <td>0.104257</td>\n",
       "      <td>0.000000</td>\n",
       "      <td>0.010795</td>\n",
       "      <td>0.000000</td>\n",
       "      <td>0.000000</td>\n",
       "      <td>February 2021</td>\n",
       "      <td>9</td>\n",
       "      <td>9</td>\n",
       "      <td>9</td>\n",
       "      <td>8</td>\n",
       "      <td>8</td>\n",
       "      <td>Costa Rica</td>\n",
       "    </tr>\n",
       "    <tr>\n",
       "      <th>1</th>\n",
       "      <td>Jackrabbit Java</td>\n",
       "      <td>Nyamasheke District, Rwanda</td>\n",
       "      <td>Medium-Light</td>\n",
       "      <td>92</td>\n",
       "      <td>248</td>\n",
       "      <td>26</td>\n",
       "      <td>2</td>\n",
       "      <td>0.018180</td>\n",
       "      <td>0.000000</td>\n",
       "      <td>0.073098</td>\n",
       "      <td>0.063934</td>\n",
       "      <td>0.000000</td>\n",
       "      <td>0.009512</td>\n",
       "      <td>0.000000</td>\n",
       "      <td>0.006350</td>\n",
       "      <td>0.012827</td>\n",
       "      <td>February 2021</td>\n",
       "      <td>9</td>\n",
       "      <td>8</td>\n",
       "      <td>9</td>\n",
       "      <td>8</td>\n",
       "      <td>8</td>\n",
       "      <td>Rwanda</td>\n",
       "    </tr>\n",
       "    <tr>\n",
       "      <th>2</th>\n",
       "      <td>Red Rooster Coffee Roaster</td>\n",
       "      <td>Los Naranjos, La Argentina, Huila Department, ...</td>\n",
       "      <td>Light</td>\n",
       "      <td>96</td>\n",
       "      <td>365</td>\n",
       "      <td>32</td>\n",
       "      <td>2</td>\n",
       "      <td>0.017113</td>\n",
       "      <td>0.000000</td>\n",
       "      <td>0.077220</td>\n",
       "      <td>0.000000</td>\n",
       "      <td>0.027378</td>\n",
       "      <td>0.000000</td>\n",
       "      <td>0.007769</td>\n",
       "      <td>0.003145</td>\n",
       "      <td>0.022832</td>\n",
       "      <td>February 2021</td>\n",
       "      <td>9</td>\n",
       "      <td>9</td>\n",
       "      <td>10</td>\n",
       "      <td>9</td>\n",
       "      <td>9</td>\n",
       "      <td>Colombia</td>\n",
       "    </tr>\n",
       "    <tr>\n",
       "      <th>3</th>\n",
       "      <td>Paradise Roasters</td>\n",
       "      <td>Huila, Colombia</td>\n",
       "      <td>Light</td>\n",
       "      <td>95</td>\n",
       "      <td>268</td>\n",
       "      <td>27</td>\n",
       "      <td>2</td>\n",
       "      <td>0.008159</td>\n",
       "      <td>0.000000</td>\n",
       "      <td>0.143630</td>\n",
       "      <td>0.006424</td>\n",
       "      <td>0.000000</td>\n",
       "      <td>0.000000</td>\n",
       "      <td>0.000000</td>\n",
       "      <td>0.000000</td>\n",
       "      <td>0.005296</td>\n",
       "      <td>February 2021</td>\n",
       "      <td>9</td>\n",
       "      <td>9</td>\n",
       "      <td>9</td>\n",
       "      <td>9</td>\n",
       "      <td>9</td>\n",
       "      <td>Colombia</td>\n",
       "    </tr>\n",
       "    <tr>\n",
       "      <th>4</th>\n",
       "      <td>Kakalove Cafe</td>\n",
       "      <td>Antioquia Department, Colombia</td>\n",
       "      <td>Medium-Light</td>\n",
       "      <td>95</td>\n",
       "      <td>261</td>\n",
       "      <td>29</td>\n",
       "      <td>6</td>\n",
       "      <td>0.000000</td>\n",
       "      <td>0.037483</td>\n",
       "      <td>0.074243</td>\n",
       "      <td>0.009381</td>\n",
       "      <td>0.000000</td>\n",
       "      <td>0.000000</td>\n",
       "      <td>0.114548</td>\n",
       "      <td>0.000000</td>\n",
       "      <td>0.053789</td>\n",
       "      <td>February 2021</td>\n",
       "      <td>9</td>\n",
       "      <td>9</td>\n",
       "      <td>9</td>\n",
       "      <td>9</td>\n",
       "      <td>9</td>\n",
       "      <td>Colombia</td>\n",
       "    </tr>\n",
       "    <tr>\n",
       "      <th>...</th>\n",
       "      <td>...</td>\n",
       "      <td>...</td>\n",
       "      <td>...</td>\n",
       "      <td>...</td>\n",
       "      <td>...</td>\n",
       "      <td>...</td>\n",
       "      <td>...</td>\n",
       "      <td>...</td>\n",
       "      <td>...</td>\n",
       "      <td>...</td>\n",
       "      <td>...</td>\n",
       "      <td>...</td>\n",
       "      <td>...</td>\n",
       "      <td>...</td>\n",
       "      <td>...</td>\n",
       "      <td>...</td>\n",
       "      <td>...</td>\n",
       "      <td>...</td>\n",
       "      <td>...</td>\n",
       "      <td>...</td>\n",
       "      <td>...</td>\n",
       "      <td>...</td>\n",
       "      <td>...</td>\n",
       "    </tr>\n",
       "    <tr>\n",
       "      <th>5954</th>\n",
       "      <td>The Coffee Beanery</td>\n",
       "      <td>NaN</td>\n",
       "      <td>Medium-Light</td>\n",
       "      <td>83</td>\n",
       "      <td>209</td>\n",
       "      <td>15</td>\n",
       "      <td>5</td>\n",
       "      <td>0.006830</td>\n",
       "      <td>0.000000</td>\n",
       "      <td>0.000000</td>\n",
       "      <td>0.000000</td>\n",
       "      <td>0.000000</td>\n",
       "      <td>0.057304</td>\n",
       "      <td>0.000553</td>\n",
       "      <td>0.045314</td>\n",
       "      <td>0.000000</td>\n",
       "      <td>February 1997</td>\n",
       "      <td>8</td>\n",
       "      <td>7</td>\n",
       "      <td>7</td>\n",
       "      <td>NaN</td>\n",
       "      <td>7</td>\n",
       "      <td>NaN</td>\n",
       "    </tr>\n",
       "    <tr>\n",
       "      <th>5955</th>\n",
       "      <td>Starbucks Coffee</td>\n",
       "      <td>NaN</td>\n",
       "      <td>Dark</td>\n",
       "      <td>81</td>\n",
       "      <td>227</td>\n",
       "      <td>15</td>\n",
       "      <td>7</td>\n",
       "      <td>0.000000</td>\n",
       "      <td>0.013141</td>\n",
       "      <td>0.000000</td>\n",
       "      <td>0.000000</td>\n",
       "      <td>0.000000</td>\n",
       "      <td>0.025383</td>\n",
       "      <td>0.003274</td>\n",
       "      <td>0.042684</td>\n",
       "      <td>0.000000</td>\n",
       "      <td>February 1997</td>\n",
       "      <td>7</td>\n",
       "      <td>6</td>\n",
       "      <td>8</td>\n",
       "      <td>NaN</td>\n",
       "      <td>5</td>\n",
       "      <td>NaN</td>\n",
       "    </tr>\n",
       "    <tr>\n",
       "      <th>5956</th>\n",
       "      <td>Peerless Coffee</td>\n",
       "      <td>NaN</td>\n",
       "      <td>Medium</td>\n",
       "      <td>75</td>\n",
       "      <td>266</td>\n",
       "      <td>18</td>\n",
       "      <td>7</td>\n",
       "      <td>0.000000</td>\n",
       "      <td>0.000000</td>\n",
       "      <td>0.000000</td>\n",
       "      <td>0.000000</td>\n",
       "      <td>0.000000</td>\n",
       "      <td>0.000000</td>\n",
       "      <td>0.002932</td>\n",
       "      <td>0.048215</td>\n",
       "      <td>0.000000</td>\n",
       "      <td>February 1997</td>\n",
       "      <td>6</td>\n",
       "      <td>6</td>\n",
       "      <td>5</td>\n",
       "      <td>NaN</td>\n",
       "      <td>5</td>\n",
       "      <td>NaN</td>\n",
       "    </tr>\n",
       "    <tr>\n",
       "      <th>5957</th>\n",
       "      <td>Gevalia</td>\n",
       "      <td>NaN</td>\n",
       "      <td>Light</td>\n",
       "      <td>74</td>\n",
       "      <td>297</td>\n",
       "      <td>24</td>\n",
       "      <td>7</td>\n",
       "      <td>0.007255</td>\n",
       "      <td>0.000171</td>\n",
       "      <td>0.000000</td>\n",
       "      <td>0.000000</td>\n",
       "      <td>0.000000</td>\n",
       "      <td>0.000000</td>\n",
       "      <td>0.000000</td>\n",
       "      <td>0.065328</td>\n",
       "      <td>0.006085</td>\n",
       "      <td>February 1997</td>\n",
       "      <td>7</td>\n",
       "      <td>6</td>\n",
       "      <td>6</td>\n",
       "      <td>NaN</td>\n",
       "      <td>8</td>\n",
       "      <td>NaN</td>\n",
       "    </tr>\n",
       "    <tr>\n",
       "      <th>5958</th>\n",
       "      <td>Café Godiva</td>\n",
       "      <td>NaN</td>\n",
       "      <td>Medium-Dark</td>\n",
       "      <td>68</td>\n",
       "      <td>190</td>\n",
       "      <td>15</td>\n",
       "      <td>7</td>\n",
       "      <td>0.000000</td>\n",
       "      <td>0.000000</td>\n",
       "      <td>0.001590</td>\n",
       "      <td>0.005816</td>\n",
       "      <td>0.000000</td>\n",
       "      <td>0.000000</td>\n",
       "      <td>0.000000</td>\n",
       "      <td>0.026102</td>\n",
       "      <td>0.006415</td>\n",
       "      <td>February 1997</td>\n",
       "      <td>5</td>\n",
       "      <td>4</td>\n",
       "      <td>5</td>\n",
       "      <td>NaN</td>\n",
       "      <td>4</td>\n",
       "      <td>NaN</td>\n",
       "    </tr>\n",
       "  </tbody>\n",
       "</table>\n",
       "<p>5959 rows × 23 columns</p>\n",
       "</div>"
      ],
      "text/plain": [
       "                         roaster  \\\n",
       "0                Jackrabbit Java   \n",
       "1                Jackrabbit Java   \n",
       "2     Red Rooster Coffee Roaster   \n",
       "3              Paradise Roasters   \n",
       "4                  Kakalove Cafe   \n",
       "...                          ...   \n",
       "5954          The Coffee Beanery   \n",
       "5955            Starbucks Coffee   \n",
       "5956             Peerless Coffee   \n",
       "5957                     Gevalia   \n",
       "5958                 Café Godiva   \n",
       "\n",
       "                                                 origin   roast_level rating  \\\n",
       "0                                            Costa Rica  Medium-Light     93   \n",
       "1                           Nyamasheke District, Rwanda  Medium-Light     92   \n",
       "2     Los Naranjos, La Argentina, Huila Department, ...         Light     96   \n",
       "3                                       Huila, Colombia         Light     95   \n",
       "4                        Antioquia Department, Colombia  Medium-Light     95   \n",
       "...                                                 ...           ...    ...   \n",
       "5954                                                NaN  Medium-Light     83   \n",
       "5955                                                NaN          Dark     81   \n",
       "5956                                                NaN        Medium     75   \n",
       "5957                                                NaN         Light     74   \n",
       "5958                                                NaN   Medium-Dark     68   \n",
       "\n",
       "      length  word count  group  bright_floral_citrus  choc_woody_dark  \\\n",
       "0        257          24      4              0.000000         0.045379   \n",
       "1        248          26      2              0.018180         0.000000   \n",
       "2        365          32      2              0.017113         0.000000   \n",
       "3        268          27      2              0.008159         0.000000   \n",
       "4        261          29      6              0.000000         0.037483   \n",
       "...      ...         ...    ...                   ...              ...   \n",
       "5954     209          15      5              0.006830         0.000000   \n",
       "5955     227          15      7              0.000000         0.013141   \n",
       "5956     266          18      7              0.000000         0.000000   \n",
       "5957     297          24      7              0.007255         0.000171   \n",
       "5958     190          15      7              0.000000         0.000000   \n",
       "\n",
       "      tart_sweet_smooth  cacao_nut_clean  sweet_nut_pine  juicy_cacao_honey  \\\n",
       "0              0.073064         0.000000        0.104257           0.000000   \n",
       "1              0.073098         0.063934        0.000000           0.009512   \n",
       "2              0.077220         0.000000        0.027378           0.000000   \n",
       "3              0.143630         0.006424        0.000000           0.000000   \n",
       "4              0.074243         0.009381        0.000000           0.000000   \n",
       "...                 ...              ...             ...                ...   \n",
       "5954           0.000000         0.000000        0.000000           0.057304   \n",
       "5955           0.000000         0.000000        0.000000           0.025383   \n",
       "5956           0.000000         0.000000        0.000000           0.000000   \n",
       "5957           0.000000         0.000000        0.000000           0.000000   \n",
       "5958           0.001590         0.005816        0.000000           0.000000   \n",
       "\n",
       "      red_berries  woody_nut_caramel  cherry_vinuous_choc           date  \\\n",
       "0        0.010795           0.000000             0.000000  February 2021   \n",
       "1        0.000000           0.006350             0.012827  February 2021   \n",
       "2        0.007769           0.003145             0.022832  February 2021   \n",
       "3        0.000000           0.000000             0.005296  February 2021   \n",
       "4        0.114548           0.000000             0.053789  February 2021   \n",
       "...           ...                ...                  ...            ...   \n",
       "5954     0.000553           0.045314             0.000000  February 1997   \n",
       "5955     0.003274           0.042684             0.000000  February 1997   \n",
       "5956     0.002932           0.048215             0.000000  February 1997   \n",
       "5957     0.000000           0.065328             0.006085  February 1997   \n",
       "5958     0.000000           0.026102             0.006415  February 1997   \n",
       "\n",
       "     aroma body flavor aftertaste acidity origin_general  \n",
       "0        9    9      9          8       8     Costa Rica  \n",
       "1        9    8      9          8       8         Rwanda  \n",
       "2        9    9     10          9       9       Colombia  \n",
       "3        9    9      9          9       9       Colombia  \n",
       "4        9    9      9          9       9       Colombia  \n",
       "...    ...  ...    ...        ...     ...            ...  \n",
       "5954     8    7      7        NaN       7            NaN  \n",
       "5955     7    6      8        NaN       5            NaN  \n",
       "5956     6    6      5        NaN       5            NaN  \n",
       "5957     7    6      6        NaN       8            NaN  \n",
       "5958     5    4      5        NaN       4            NaN  \n",
       "\n",
       "[5959 rows x 23 columns]"
      ]
     },
     "execution_count": 25,
     "metadata": {},
     "output_type": "execute_result"
    }
   ],
   "source": [
    "df_topic_breakdown"
   ]
  },
  {
   "cell_type": "code",
   "execution_count": 17,
   "metadata": {},
   "outputs": [
    {
     "data": {
      "text/html": [
       "<div>\n",
       "<style scoped>\n",
       "    .dataframe tbody tr th:only-of-type {\n",
       "        vertical-align: middle;\n",
       "    }\n",
       "\n",
       "    .dataframe tbody tr th {\n",
       "        vertical-align: top;\n",
       "    }\n",
       "\n",
       "    .dataframe thead th {\n",
       "        text-align: right;\n",
       "    }\n",
       "</style>\n",
       "<table border=\"1\" class=\"dataframe\">\n",
       "  <thead>\n",
       "    <tr style=\"text-align: right;\">\n",
       "      <th></th>\n",
       "      <th>coffee_id</th>\n",
       "      <th>roaster</th>\n",
       "      <th>origin</th>\n",
       "      <th>roast_level</th>\n",
       "      <th>rating</th>\n",
       "      <th>length</th>\n",
       "      <th>word count</th>\n",
       "      <th>group</th>\n",
       "      <th>bright_floral_citrus</th>\n",
       "      <th>choc_woody_dark</th>\n",
       "      <th>tart_sweet_smooth</th>\n",
       "      <th>cacao_nut_clean</th>\n",
       "      <th>sweet_nut_pine</th>\n",
       "      <th>juicy_cacao_honey</th>\n",
       "      <th>red_berries</th>\n",
       "      <th>woody_nut_caramel</th>\n",
       "      <th>cherry_vinuous_choc</th>\n",
       "      <th>date</th>\n",
       "      <th>aroma</th>\n",
       "      <th>body</th>\n",
       "      <th>flavor</th>\n",
       "      <th>aftertaste</th>\n",
       "      <th>acidity</th>\n",
       "    </tr>\n",
       "  </thead>\n",
       "  <tbody>\n",
       "    <tr>\n",
       "      <th>0</th>\n",
       "      <td>0</td>\n",
       "      <td>Jackrabbit Java</td>\n",
       "      <td>Costa Rica</td>\n",
       "      <td>Medium-Light</td>\n",
       "      <td>93</td>\n",
       "      <td>257</td>\n",
       "      <td>24</td>\n",
       "      <td>4</td>\n",
       "      <td>0.000000</td>\n",
       "      <td>0.045379</td>\n",
       "      <td>0.073064</td>\n",
       "      <td>0.000000</td>\n",
       "      <td>0.104257</td>\n",
       "      <td>0.000000</td>\n",
       "      <td>0.010795</td>\n",
       "      <td>0.000000</td>\n",
       "      <td>0.000000</td>\n",
       "      <td>February 2021</td>\n",
       "      <td>9</td>\n",
       "      <td>9</td>\n",
       "      <td>9</td>\n",
       "      <td>8</td>\n",
       "      <td>8</td>\n",
       "    </tr>\n",
       "    <tr>\n",
       "      <th>1</th>\n",
       "      <td>1</td>\n",
       "      <td>Jackrabbit Java</td>\n",
       "      <td>Nyamasheke District, Rwanda</td>\n",
       "      <td>Medium-Light</td>\n",
       "      <td>92</td>\n",
       "      <td>248</td>\n",
       "      <td>26</td>\n",
       "      <td>2</td>\n",
       "      <td>0.018180</td>\n",
       "      <td>0.000000</td>\n",
       "      <td>0.073098</td>\n",
       "      <td>0.063934</td>\n",
       "      <td>0.000000</td>\n",
       "      <td>0.009512</td>\n",
       "      <td>0.000000</td>\n",
       "      <td>0.006350</td>\n",
       "      <td>0.012827</td>\n",
       "      <td>February 2021</td>\n",
       "      <td>9</td>\n",
       "      <td>8</td>\n",
       "      <td>9</td>\n",
       "      <td>8</td>\n",
       "      <td>8</td>\n",
       "    </tr>\n",
       "    <tr>\n",
       "      <th>2</th>\n",
       "      <td>2</td>\n",
       "      <td>Red Rooster Coffee Roaster</td>\n",
       "      <td>Los Naranjos, La Argentina, Huila Department, ...</td>\n",
       "      <td>Light</td>\n",
       "      <td>96</td>\n",
       "      <td>365</td>\n",
       "      <td>32</td>\n",
       "      <td>2</td>\n",
       "      <td>0.017113</td>\n",
       "      <td>0.000000</td>\n",
       "      <td>0.077220</td>\n",
       "      <td>0.000000</td>\n",
       "      <td>0.027378</td>\n",
       "      <td>0.000000</td>\n",
       "      <td>0.007769</td>\n",
       "      <td>0.003145</td>\n",
       "      <td>0.022832</td>\n",
       "      <td>February 2021</td>\n",
       "      <td>9</td>\n",
       "      <td>9</td>\n",
       "      <td>10</td>\n",
       "      <td>9</td>\n",
       "      <td>9</td>\n",
       "    </tr>\n",
       "    <tr>\n",
       "      <th>3</th>\n",
       "      <td>3</td>\n",
       "      <td>Paradise Roasters</td>\n",
       "      <td>Huila, Colombia</td>\n",
       "      <td>Light</td>\n",
       "      <td>95</td>\n",
       "      <td>268</td>\n",
       "      <td>27</td>\n",
       "      <td>2</td>\n",
       "      <td>0.008159</td>\n",
       "      <td>0.000000</td>\n",
       "      <td>0.143630</td>\n",
       "      <td>0.006424</td>\n",
       "      <td>0.000000</td>\n",
       "      <td>0.000000</td>\n",
       "      <td>0.000000</td>\n",
       "      <td>0.000000</td>\n",
       "      <td>0.005296</td>\n",
       "      <td>February 2021</td>\n",
       "      <td>9</td>\n",
       "      <td>9</td>\n",
       "      <td>9</td>\n",
       "      <td>9</td>\n",
       "      <td>9</td>\n",
       "    </tr>\n",
       "    <tr>\n",
       "      <th>4</th>\n",
       "      <td>4</td>\n",
       "      <td>Kakalove Cafe</td>\n",
       "      <td>Antioquia Department, Colombia</td>\n",
       "      <td>Medium-Light</td>\n",
       "      <td>95</td>\n",
       "      <td>261</td>\n",
       "      <td>29</td>\n",
       "      <td>6</td>\n",
       "      <td>0.000000</td>\n",
       "      <td>0.037483</td>\n",
       "      <td>0.074243</td>\n",
       "      <td>0.009381</td>\n",
       "      <td>0.000000</td>\n",
       "      <td>0.000000</td>\n",
       "      <td>0.114548</td>\n",
       "      <td>0.000000</td>\n",
       "      <td>0.053789</td>\n",
       "      <td>February 2021</td>\n",
       "      <td>9</td>\n",
       "      <td>9</td>\n",
       "      <td>9</td>\n",
       "      <td>9</td>\n",
       "      <td>9</td>\n",
       "    </tr>\n",
       "  </tbody>\n",
       "</table>\n",
       "</div>"
      ],
      "text/plain": [
       "   coffee_id                     roaster  \\\n",
       "0          0             Jackrabbit Java   \n",
       "1          1             Jackrabbit Java   \n",
       "2          2  Red Rooster Coffee Roaster   \n",
       "3          3           Paradise Roasters   \n",
       "4          4               Kakalove Cafe   \n",
       "\n",
       "                                              origin   roast_level rating  \\\n",
       "0                                         Costa Rica  Medium-Light     93   \n",
       "1                        Nyamasheke District, Rwanda  Medium-Light     92   \n",
       "2  Los Naranjos, La Argentina, Huila Department, ...         Light     96   \n",
       "3                                    Huila, Colombia         Light     95   \n",
       "4                     Antioquia Department, Colombia  Medium-Light     95   \n",
       "\n",
       "   length  word count  group  bright_floral_citrus  choc_woody_dark  \\\n",
       "0     257          24      4              0.000000         0.045379   \n",
       "1     248          26      2              0.018180         0.000000   \n",
       "2     365          32      2              0.017113         0.000000   \n",
       "3     268          27      2              0.008159         0.000000   \n",
       "4     261          29      6              0.000000         0.037483   \n",
       "\n",
       "   tart_sweet_smooth  cacao_nut_clean  sweet_nut_pine  juicy_cacao_honey  \\\n",
       "0           0.073064         0.000000        0.104257           0.000000   \n",
       "1           0.073098         0.063934        0.000000           0.009512   \n",
       "2           0.077220         0.000000        0.027378           0.000000   \n",
       "3           0.143630         0.006424        0.000000           0.000000   \n",
       "4           0.074243         0.009381        0.000000           0.000000   \n",
       "\n",
       "   red_berries  woody_nut_caramel  cherry_vinuous_choc           date aroma  \\\n",
       "0     0.010795           0.000000             0.000000  February 2021     9   \n",
       "1     0.000000           0.006350             0.012827  February 2021     9   \n",
       "2     0.007769           0.003145             0.022832  February 2021     9   \n",
       "3     0.000000           0.000000             0.005296  February 2021     9   \n",
       "4     0.114548           0.000000             0.053789  February 2021     9   \n",
       "\n",
       "  body flavor aftertaste acidity  \n",
       "0    9      9          8       8  \n",
       "1    8      9          8       8  \n",
       "2    9     10          9       9  \n",
       "3    9      9          9       9  \n",
       "4    9      9          9       9  "
      ]
     },
     "execution_count": 17,
     "metadata": {},
     "output_type": "execute_result"
    }
   ],
   "source": [
    "tableau = df_topic_breakdown\n",
    "tableau['date'] = ratings['Review Date']\n",
    "tableau['aroma'] = ratings.Aroma\n",
    "tableau['body'] = ratings.Body\n",
    "tableau['flavor'] = ratings.Flavor\n",
    "tableau['aftertaste'] = ratings.Aftertaste\n",
    "tableau['acidity'] = ratings.Acidity\n",
    "tableau = tableau.reset_index().rename(columns={'index':'coffee_id'})\n",
    "tableau.to_csv(path_or_buf = r'C:\\Users\\ejfel\\tableau.csv')\n",
    "tableau.head()"
   ]
  },
  {
   "cell_type": "code",
   "execution_count": 9,
   "metadata": {},
   "outputs": [
    {
     "data": {
      "text/html": [
       "<div>\n",
       "<style scoped>\n",
       "    .dataframe tbody tr th:only-of-type {\n",
       "        vertical-align: middle;\n",
       "    }\n",
       "\n",
       "    .dataframe tbody tr th {\n",
       "        vertical-align: top;\n",
       "    }\n",
       "\n",
       "    .dataframe thead th {\n",
       "        text-align: right;\n",
       "    }\n",
       "</style>\n",
       "<table border=\"1\" class=\"dataframe\">\n",
       "  <thead>\n",
       "    <tr style=\"text-align: right;\">\n",
       "      <th></th>\n",
       "      <th>Roaster</th>\n",
       "      <th>Overall</th>\n",
       "      <th>Roaster Location</th>\n",
       "      <th>Coffee Origin</th>\n",
       "      <th>Roast Level</th>\n",
       "      <th>Agtron</th>\n",
       "      <th>Est. Price</th>\n",
       "      <th>Review Date</th>\n",
       "      <th>Aroma</th>\n",
       "      <th>Body</th>\n",
       "      <th>Flavor</th>\n",
       "      <th>Aftertaste</th>\n",
       "      <th>Acidity</th>\n",
       "    </tr>\n",
       "  </thead>\n",
       "  <tbody>\n",
       "    <tr>\n",
       "      <th>0</th>\n",
       "      <td>Jackrabbit Java</td>\n",
       "      <td>93</td>\n",
       "      <td>Thermopolis, Wyoming</td>\n",
       "      <td>Costa Rica</td>\n",
       "      <td>Medium-Light</td>\n",
       "      <td>54/72</td>\n",
       "      <td>$20.00/12 ounces</td>\n",
       "      <td>February 2021</td>\n",
       "      <td>9</td>\n",
       "      <td>9</td>\n",
       "      <td>9</td>\n",
       "      <td>8</td>\n",
       "      <td>8</td>\n",
       "    </tr>\n",
       "    <tr>\n",
       "      <th>1</th>\n",
       "      <td>Jackrabbit Java</td>\n",
       "      <td>92</td>\n",
       "      <td>Thermopolis, Wyoming</td>\n",
       "      <td>Nyamasheke District, Rwanda</td>\n",
       "      <td>Medium-Light</td>\n",
       "      <td>58/76</td>\n",
       "      <td>$20.00/12 ounces</td>\n",
       "      <td>February 2021</td>\n",
       "      <td>9</td>\n",
       "      <td>8</td>\n",
       "      <td>9</td>\n",
       "      <td>8</td>\n",
       "      <td>8</td>\n",
       "    </tr>\n",
       "    <tr>\n",
       "      <th>2</th>\n",
       "      <td>Red Rooster Coffee Roaster</td>\n",
       "      <td>96</td>\n",
       "      <td>Floyd, Virginia</td>\n",
       "      <td>Los Naranjos, La Argentina, Huila Department, ...</td>\n",
       "      <td>Light</td>\n",
       "      <td>64/84</td>\n",
       "      <td>$18.99/8 ounces</td>\n",
       "      <td>February 2021</td>\n",
       "      <td>9</td>\n",
       "      <td>9</td>\n",
       "      <td>10</td>\n",
       "      <td>9</td>\n",
       "      <td>9</td>\n",
       "    </tr>\n",
       "    <tr>\n",
       "      <th>3</th>\n",
       "      <td>Paradise Roasters</td>\n",
       "      <td>95</td>\n",
       "      <td>Minneapolis, Minnesota</td>\n",
       "      <td>Huila, Colombia</td>\n",
       "      <td>Light</td>\n",
       "      <td>62/80</td>\n",
       "      <td>$16.95/6 ounces</td>\n",
       "      <td>February 2021</td>\n",
       "      <td>9</td>\n",
       "      <td>9</td>\n",
       "      <td>9</td>\n",
       "      <td>9</td>\n",
       "      <td>9</td>\n",
       "    </tr>\n",
       "    <tr>\n",
       "      <th>4</th>\n",
       "      <td>Kakalove Cafe</td>\n",
       "      <td>95</td>\n",
       "      <td>Chia-Yi, Taiwan</td>\n",
       "      <td>Antioquia Department, Colombia</td>\n",
       "      <td>Medium-Light</td>\n",
       "      <td>60/80</td>\n",
       "      <td>NT $310/8 ounces</td>\n",
       "      <td>February 2021</td>\n",
       "      <td>9</td>\n",
       "      <td>9</td>\n",
       "      <td>9</td>\n",
       "      <td>9</td>\n",
       "      <td>9</td>\n",
       "    </tr>\n",
       "  </tbody>\n",
       "</table>\n",
       "</div>"
      ],
      "text/plain": [
       "                      Roaster Overall        Roaster Location  \\\n",
       "0             Jackrabbit Java      93    Thermopolis, Wyoming   \n",
       "1             Jackrabbit Java      92    Thermopolis, Wyoming   \n",
       "2  Red Rooster Coffee Roaster      96         Floyd, Virginia   \n",
       "3           Paradise Roasters      95  Minneapolis, Minnesota   \n",
       "4               Kakalove Cafe      95         Chia-Yi, Taiwan   \n",
       "\n",
       "                                       Coffee Origin   Roast Level Agtron  \\\n",
       "0                                         Costa Rica  Medium-Light  54/72   \n",
       "1                        Nyamasheke District, Rwanda  Medium-Light  58/76   \n",
       "2  Los Naranjos, La Argentina, Huila Department, ...         Light  64/84   \n",
       "3                                    Huila, Colombia         Light  62/80   \n",
       "4                     Antioquia Department, Colombia  Medium-Light  60/80   \n",
       "\n",
       "         Est. Price    Review Date Aroma Body Flavor Aftertaste Acidity  \n",
       "0  $20.00/12 ounces  February 2021     9    9      9          8       8  \n",
       "1  $20.00/12 ounces  February 2021     9    8      9          8       8  \n",
       "2   $18.99/8 ounces  February 2021     9    9     10          9       9  \n",
       "3   $16.95/6 ounces  February 2021     9    9      9          9       9  \n",
       "4  NT $310/8 ounces  February 2021     9    9      9          9       9  "
      ]
     },
     "execution_count": 9,
     "metadata": {},
     "output_type": "execute_result"
    }
   ],
   "source": [
    "ratings.head()"
   ]
  },
  {
   "cell_type": "code",
   "execution_count": 19,
   "metadata": {},
   "outputs": [
    {
     "name": "stdout",
     "output_type": "stream",
     "text": [
      "Collecting plotly==4.14.3\n",
      "  Downloading plotly-4.14.3-py2.py3-none-any.whl (13.2 MB)\n",
      "Collecting retrying>=1.3.3\n",
      "  Downloading retrying-1.3.3.tar.gz (10 kB)\n",
      "Requirement already satisfied: six in c:\\users\\ejfel\\anaconda3\\lib\\site-packages (from plotly==4.14.3) (1.15.0)\n",
      "Building wheels for collected packages: retrying\n",
      "  Building wheel for retrying (setup.py): started\n",
      "  Building wheel for retrying (setup.py): finished with status 'done'\n",
      "  Created wheel for retrying: filename=retrying-1.3.3-py3-none-any.whl size=11435 sha256=a3732790d7192999e97797555a732243d52a25fe55a11da698b12ceab620ae12\n",
      "  Stored in directory: c:\\users\\ejfel\\appdata\\local\\pip\\cache\\wheels\\c4\\a7\\48\\0a434133f6d56e878ca511c0e6c38326907c0792f67b476e56\n",
      "Successfully built retrying\n",
      "Installing collected packages: retrying, plotly\n",
      "Successfully installed plotly-4.14.3 retrying-1.3.3\n"
     ]
    }
   ],
   "source": [
    "# !pip install plotly==4.14.3\n",
    "import plotly.express as px\n",
    "import pandas as pd"
   ]
  },
  {
   "cell_type": "code",
   "execution_count": 44,
   "metadata": {},
   "outputs": [
    {
     "data": {
      "application/vnd.plotly.v1+json": {
       "config": {
        "plotlyServerURL": "https://plot.ly"
       },
       "data": [
        {
         "hovertemplate": "r=%{r}<br>theta=%{theta}<extra></extra>",
         "legendgroup": "",
         "line": {
          "color": "#636efa",
          "dash": "solid"
         },
         "mode": "lines",
         "name": "",
         "r": [
          0.016337137982269146,
          0.0819789166332584,
          0.018466073686916516,
          0.005063398092775084,
          0.011612435738249618,
          0.0035382871132595968,
          0.006375320633091236,
          0.01958705806735779,
          0.01838405793493999,
          0.016337137982269146
         ],
         "showlegend": false,
         "subplot": "polar",
         "theta": [
          "bright_floral_citrus",
          "choc_woody_dark",
          "tart_sweet_smooth",
          "cacao_nut_clean",
          "sweet_nut_pine",
          "juicy_cacao_honey",
          "red_berries",
          "woody_nut_caramel",
          "cherry_vinuous_choc",
          "bright_floral_citrus"
         ],
         "type": "scatterpolar"
        }
       ],
       "layout": {
        "legend": {
         "tracegroupgap": 0
        },
        "margin": {
         "t": 60
        },
        "polar": {
         "angularaxis": {
          "direction": "clockwise",
          "rotation": 90
         },
         "domain": {
          "x": [
           0,
           1
          ],
          "y": [
           0,
           1
          ]
         }
        },
        "template": {
         "data": {
          "bar": [
           {
            "error_x": {
             "color": "#2a3f5f"
            },
            "error_y": {
             "color": "#2a3f5f"
            },
            "marker": {
             "line": {
              "color": "#E5ECF6",
              "width": 0.5
             }
            },
            "type": "bar"
           }
          ],
          "barpolar": [
           {
            "marker": {
             "line": {
              "color": "#E5ECF6",
              "width": 0.5
             }
            },
            "type": "barpolar"
           }
          ],
          "carpet": [
           {
            "aaxis": {
             "endlinecolor": "#2a3f5f",
             "gridcolor": "white",
             "linecolor": "white",
             "minorgridcolor": "white",
             "startlinecolor": "#2a3f5f"
            },
            "baxis": {
             "endlinecolor": "#2a3f5f",
             "gridcolor": "white",
             "linecolor": "white",
             "minorgridcolor": "white",
             "startlinecolor": "#2a3f5f"
            },
            "type": "carpet"
           }
          ],
          "choropleth": [
           {
            "colorbar": {
             "outlinewidth": 0,
             "ticks": ""
            },
            "type": "choropleth"
           }
          ],
          "contour": [
           {
            "colorbar": {
             "outlinewidth": 0,
             "ticks": ""
            },
            "colorscale": [
             [
              0,
              "#0d0887"
             ],
             [
              0.1111111111111111,
              "#46039f"
             ],
             [
              0.2222222222222222,
              "#7201a8"
             ],
             [
              0.3333333333333333,
              "#9c179e"
             ],
             [
              0.4444444444444444,
              "#bd3786"
             ],
             [
              0.5555555555555556,
              "#d8576b"
             ],
             [
              0.6666666666666666,
              "#ed7953"
             ],
             [
              0.7777777777777778,
              "#fb9f3a"
             ],
             [
              0.8888888888888888,
              "#fdca26"
             ],
             [
              1,
              "#f0f921"
             ]
            ],
            "type": "contour"
           }
          ],
          "contourcarpet": [
           {
            "colorbar": {
             "outlinewidth": 0,
             "ticks": ""
            },
            "type": "contourcarpet"
           }
          ],
          "heatmap": [
           {
            "colorbar": {
             "outlinewidth": 0,
             "ticks": ""
            },
            "colorscale": [
             [
              0,
              "#0d0887"
             ],
             [
              0.1111111111111111,
              "#46039f"
             ],
             [
              0.2222222222222222,
              "#7201a8"
             ],
             [
              0.3333333333333333,
              "#9c179e"
             ],
             [
              0.4444444444444444,
              "#bd3786"
             ],
             [
              0.5555555555555556,
              "#d8576b"
             ],
             [
              0.6666666666666666,
              "#ed7953"
             ],
             [
              0.7777777777777778,
              "#fb9f3a"
             ],
             [
              0.8888888888888888,
              "#fdca26"
             ],
             [
              1,
              "#f0f921"
             ]
            ],
            "type": "heatmap"
           }
          ],
          "heatmapgl": [
           {
            "colorbar": {
             "outlinewidth": 0,
             "ticks": ""
            },
            "colorscale": [
             [
              0,
              "#0d0887"
             ],
             [
              0.1111111111111111,
              "#46039f"
             ],
             [
              0.2222222222222222,
              "#7201a8"
             ],
             [
              0.3333333333333333,
              "#9c179e"
             ],
             [
              0.4444444444444444,
              "#bd3786"
             ],
             [
              0.5555555555555556,
              "#d8576b"
             ],
             [
              0.6666666666666666,
              "#ed7953"
             ],
             [
              0.7777777777777778,
              "#fb9f3a"
             ],
             [
              0.8888888888888888,
              "#fdca26"
             ],
             [
              1,
              "#f0f921"
             ]
            ],
            "type": "heatmapgl"
           }
          ],
          "histogram": [
           {
            "marker": {
             "colorbar": {
              "outlinewidth": 0,
              "ticks": ""
             }
            },
            "type": "histogram"
           }
          ],
          "histogram2d": [
           {
            "colorbar": {
             "outlinewidth": 0,
             "ticks": ""
            },
            "colorscale": [
             [
              0,
              "#0d0887"
             ],
             [
              0.1111111111111111,
              "#46039f"
             ],
             [
              0.2222222222222222,
              "#7201a8"
             ],
             [
              0.3333333333333333,
              "#9c179e"
             ],
             [
              0.4444444444444444,
              "#bd3786"
             ],
             [
              0.5555555555555556,
              "#d8576b"
             ],
             [
              0.6666666666666666,
              "#ed7953"
             ],
             [
              0.7777777777777778,
              "#fb9f3a"
             ],
             [
              0.8888888888888888,
              "#fdca26"
             ],
             [
              1,
              "#f0f921"
             ]
            ],
            "type": "histogram2d"
           }
          ],
          "histogram2dcontour": [
           {
            "colorbar": {
             "outlinewidth": 0,
             "ticks": ""
            },
            "colorscale": [
             [
              0,
              "#0d0887"
             ],
             [
              0.1111111111111111,
              "#46039f"
             ],
             [
              0.2222222222222222,
              "#7201a8"
             ],
             [
              0.3333333333333333,
              "#9c179e"
             ],
             [
              0.4444444444444444,
              "#bd3786"
             ],
             [
              0.5555555555555556,
              "#d8576b"
             ],
             [
              0.6666666666666666,
              "#ed7953"
             ],
             [
              0.7777777777777778,
              "#fb9f3a"
             ],
             [
              0.8888888888888888,
              "#fdca26"
             ],
             [
              1,
              "#f0f921"
             ]
            ],
            "type": "histogram2dcontour"
           }
          ],
          "mesh3d": [
           {
            "colorbar": {
             "outlinewidth": 0,
             "ticks": ""
            },
            "type": "mesh3d"
           }
          ],
          "parcoords": [
           {
            "line": {
             "colorbar": {
              "outlinewidth": 0,
              "ticks": ""
             }
            },
            "type": "parcoords"
           }
          ],
          "pie": [
           {
            "automargin": true,
            "type": "pie"
           }
          ],
          "scatter": [
           {
            "marker": {
             "colorbar": {
              "outlinewidth": 0,
              "ticks": ""
             }
            },
            "type": "scatter"
           }
          ],
          "scatter3d": [
           {
            "line": {
             "colorbar": {
              "outlinewidth": 0,
              "ticks": ""
             }
            },
            "marker": {
             "colorbar": {
              "outlinewidth": 0,
              "ticks": ""
             }
            },
            "type": "scatter3d"
           }
          ],
          "scattercarpet": [
           {
            "marker": {
             "colorbar": {
              "outlinewidth": 0,
              "ticks": ""
             }
            },
            "type": "scattercarpet"
           }
          ],
          "scattergeo": [
           {
            "marker": {
             "colorbar": {
              "outlinewidth": 0,
              "ticks": ""
             }
            },
            "type": "scattergeo"
           }
          ],
          "scattergl": [
           {
            "marker": {
             "colorbar": {
              "outlinewidth": 0,
              "ticks": ""
             }
            },
            "type": "scattergl"
           }
          ],
          "scattermapbox": [
           {
            "marker": {
             "colorbar": {
              "outlinewidth": 0,
              "ticks": ""
             }
            },
            "type": "scattermapbox"
           }
          ],
          "scatterpolar": [
           {
            "marker": {
             "colorbar": {
              "outlinewidth": 0,
              "ticks": ""
             }
            },
            "type": "scatterpolar"
           }
          ],
          "scatterpolargl": [
           {
            "marker": {
             "colorbar": {
              "outlinewidth": 0,
              "ticks": ""
             }
            },
            "type": "scatterpolargl"
           }
          ],
          "scatterternary": [
           {
            "marker": {
             "colorbar": {
              "outlinewidth": 0,
              "ticks": ""
             }
            },
            "type": "scatterternary"
           }
          ],
          "surface": [
           {
            "colorbar": {
             "outlinewidth": 0,
             "ticks": ""
            },
            "colorscale": [
             [
              0,
              "#0d0887"
             ],
             [
              0.1111111111111111,
              "#46039f"
             ],
             [
              0.2222222222222222,
              "#7201a8"
             ],
             [
              0.3333333333333333,
              "#9c179e"
             ],
             [
              0.4444444444444444,
              "#bd3786"
             ],
             [
              0.5555555555555556,
              "#d8576b"
             ],
             [
              0.6666666666666666,
              "#ed7953"
             ],
             [
              0.7777777777777778,
              "#fb9f3a"
             ],
             [
              0.8888888888888888,
              "#fdca26"
             ],
             [
              1,
              "#f0f921"
             ]
            ],
            "type": "surface"
           }
          ],
          "table": [
           {
            "cells": {
             "fill": {
              "color": "#EBF0F8"
             },
             "line": {
              "color": "white"
             }
            },
            "header": {
             "fill": {
              "color": "#C8D4E3"
             },
             "line": {
              "color": "white"
             }
            },
            "type": "table"
           }
          ]
         },
         "layout": {
          "annotationdefaults": {
           "arrowcolor": "#2a3f5f",
           "arrowhead": 0,
           "arrowwidth": 1
          },
          "autotypenumbers": "strict",
          "coloraxis": {
           "colorbar": {
            "outlinewidth": 0,
            "ticks": ""
           }
          },
          "colorscale": {
           "diverging": [
            [
             0,
             "#8e0152"
            ],
            [
             0.1,
             "#c51b7d"
            ],
            [
             0.2,
             "#de77ae"
            ],
            [
             0.3,
             "#f1b6da"
            ],
            [
             0.4,
             "#fde0ef"
            ],
            [
             0.5,
             "#f7f7f7"
            ],
            [
             0.6,
             "#e6f5d0"
            ],
            [
             0.7,
             "#b8e186"
            ],
            [
             0.8,
             "#7fbc41"
            ],
            [
             0.9,
             "#4d9221"
            ],
            [
             1,
             "#276419"
            ]
           ],
           "sequential": [
            [
             0,
             "#0d0887"
            ],
            [
             0.1111111111111111,
             "#46039f"
            ],
            [
             0.2222222222222222,
             "#7201a8"
            ],
            [
             0.3333333333333333,
             "#9c179e"
            ],
            [
             0.4444444444444444,
             "#bd3786"
            ],
            [
             0.5555555555555556,
             "#d8576b"
            ],
            [
             0.6666666666666666,
             "#ed7953"
            ],
            [
             0.7777777777777778,
             "#fb9f3a"
            ],
            [
             0.8888888888888888,
             "#fdca26"
            ],
            [
             1,
             "#f0f921"
            ]
           ],
           "sequentialminus": [
            [
             0,
             "#0d0887"
            ],
            [
             0.1111111111111111,
             "#46039f"
            ],
            [
             0.2222222222222222,
             "#7201a8"
            ],
            [
             0.3333333333333333,
             "#9c179e"
            ],
            [
             0.4444444444444444,
             "#bd3786"
            ],
            [
             0.5555555555555556,
             "#d8576b"
            ],
            [
             0.6666666666666666,
             "#ed7953"
            ],
            [
             0.7777777777777778,
             "#fb9f3a"
            ],
            [
             0.8888888888888888,
             "#fdca26"
            ],
            [
             1,
             "#f0f921"
            ]
           ]
          },
          "colorway": [
           "#636efa",
           "#EF553B",
           "#00cc96",
           "#ab63fa",
           "#FFA15A",
           "#19d3f3",
           "#FF6692",
           "#B6E880",
           "#FF97FF",
           "#FECB52"
          ],
          "font": {
           "color": "#2a3f5f"
          },
          "geo": {
           "bgcolor": "white",
           "lakecolor": "white",
           "landcolor": "#E5ECF6",
           "showlakes": true,
           "showland": true,
           "subunitcolor": "white"
          },
          "hoverlabel": {
           "align": "left"
          },
          "hovermode": "closest",
          "mapbox": {
           "style": "light"
          },
          "paper_bgcolor": "white",
          "plot_bgcolor": "#E5ECF6",
          "polar": {
           "angularaxis": {
            "gridcolor": "white",
            "linecolor": "white",
            "ticks": ""
           },
           "bgcolor": "#E5ECF6",
           "radialaxis": {
            "gridcolor": "white",
            "linecolor": "white",
            "ticks": ""
           }
          },
          "scene": {
           "xaxis": {
            "backgroundcolor": "#E5ECF6",
            "gridcolor": "white",
            "gridwidth": 2,
            "linecolor": "white",
            "showbackground": true,
            "ticks": "",
            "zerolinecolor": "white"
           },
           "yaxis": {
            "backgroundcolor": "#E5ECF6",
            "gridcolor": "white",
            "gridwidth": 2,
            "linecolor": "white",
            "showbackground": true,
            "ticks": "",
            "zerolinecolor": "white"
           },
           "zaxis": {
            "backgroundcolor": "#E5ECF6",
            "gridcolor": "white",
            "gridwidth": 2,
            "linecolor": "white",
            "showbackground": true,
            "ticks": "",
            "zerolinecolor": "white"
           }
          },
          "shapedefaults": {
           "line": {
            "color": "#2a3f5f"
           }
          },
          "ternary": {
           "aaxis": {
            "gridcolor": "white",
            "linecolor": "white",
            "ticks": ""
           },
           "baxis": {
            "gridcolor": "white",
            "linecolor": "white",
            "ticks": ""
           },
           "bgcolor": "#E5ECF6",
           "caxis": {
            "gridcolor": "white",
            "linecolor": "white",
            "ticks": ""
           }
          },
          "title": {
           "x": 0.05
          },
          "xaxis": {
           "automargin": true,
           "gridcolor": "white",
           "linecolor": "white",
           "ticks": "",
           "title": {
            "standoff": 15
           },
           "zerolinecolor": "white",
           "zerolinewidth": 2
          },
          "yaxis": {
           "automargin": true,
           "gridcolor": "white",
           "linecolor": "white",
           "ticks": "",
           "title": {
            "standoff": 15
           },
           "zerolinecolor": "white",
           "zerolinewidth": 2
          }
         }
        }
       }
      },
      "text/html": [
       "<div>                            <div id=\"7e181bca-ee90-4885-8443-f5349e64da9f\" class=\"plotly-graph-div\" style=\"height:525px; width:100%;\"></div>            <script type=\"text/javascript\">                require([\"plotly\"], function(Plotly) {                    window.PLOTLYENV=window.PLOTLYENV || {};                                    if (document.getElementById(\"7e181bca-ee90-4885-8443-f5349e64da9f\")) {                    Plotly.newPlot(                        \"7e181bca-ee90-4885-8443-f5349e64da9f\",                        [{\"hovertemplate\": \"r=%{r}<br>theta=%{theta}<extra></extra>\", \"legendgroup\": \"\", \"line\": {\"color\": \"#636efa\", \"dash\": \"solid\"}, \"mode\": \"lines\", \"name\": \"\", \"r\": [0.016337137982269146, 0.0819789166332584, 0.018466073686916516, 0.005063398092775084, 0.011612435738249618, 0.0035382871132595968, 0.006375320633091236, 0.01958705806735779, 0.01838405793493999, 0.016337137982269146], \"showlegend\": false, \"subplot\": \"polar\", \"theta\": [\"bright_floral_citrus\", \"choc_woody_dark\", \"tart_sweet_smooth\", \"cacao_nut_clean\", \"sweet_nut_pine\", \"juicy_cacao_honey\", \"red_berries\", \"woody_nut_caramel\", \"cherry_vinuous_choc\", \"bright_floral_citrus\"], \"type\": \"scatterpolar\"}],                        {\"legend\": {\"tracegroupgap\": 0}, \"margin\": {\"t\": 60}, \"polar\": {\"angularaxis\": {\"direction\": \"clockwise\", \"rotation\": 90}, \"domain\": {\"x\": [0.0, 1.0], \"y\": [0.0, 1.0]}}, \"template\": {\"data\": {\"bar\": [{\"error_x\": {\"color\": \"#2a3f5f\"}, \"error_y\": {\"color\": \"#2a3f5f\"}, \"marker\": {\"line\": {\"color\": \"#E5ECF6\", \"width\": 0.5}}, \"type\": \"bar\"}], \"barpolar\": [{\"marker\": {\"line\": {\"color\": \"#E5ECF6\", \"width\": 0.5}}, \"type\": \"barpolar\"}], \"carpet\": [{\"aaxis\": {\"endlinecolor\": \"#2a3f5f\", \"gridcolor\": \"white\", \"linecolor\": \"white\", \"minorgridcolor\": \"white\", \"startlinecolor\": \"#2a3f5f\"}, \"baxis\": {\"endlinecolor\": \"#2a3f5f\", \"gridcolor\": \"white\", \"linecolor\": \"white\", \"minorgridcolor\": \"white\", \"startlinecolor\": \"#2a3f5f\"}, \"type\": \"carpet\"}], \"choropleth\": [{\"colorbar\": {\"outlinewidth\": 0, \"ticks\": \"\"}, \"type\": \"choropleth\"}], \"contour\": [{\"colorbar\": {\"outlinewidth\": 0, \"ticks\": \"\"}, \"colorscale\": [[0.0, \"#0d0887\"], [0.1111111111111111, \"#46039f\"], [0.2222222222222222, \"#7201a8\"], [0.3333333333333333, \"#9c179e\"], [0.4444444444444444, \"#bd3786\"], [0.5555555555555556, \"#d8576b\"], [0.6666666666666666, \"#ed7953\"], [0.7777777777777778, \"#fb9f3a\"], [0.8888888888888888, \"#fdca26\"], [1.0, \"#f0f921\"]], \"type\": \"contour\"}], \"contourcarpet\": [{\"colorbar\": {\"outlinewidth\": 0, \"ticks\": \"\"}, \"type\": \"contourcarpet\"}], \"heatmap\": [{\"colorbar\": {\"outlinewidth\": 0, \"ticks\": \"\"}, \"colorscale\": [[0.0, \"#0d0887\"], [0.1111111111111111, \"#46039f\"], [0.2222222222222222, \"#7201a8\"], [0.3333333333333333, \"#9c179e\"], [0.4444444444444444, \"#bd3786\"], [0.5555555555555556, \"#d8576b\"], [0.6666666666666666, \"#ed7953\"], [0.7777777777777778, \"#fb9f3a\"], [0.8888888888888888, \"#fdca26\"], [1.0, \"#f0f921\"]], \"type\": \"heatmap\"}], \"heatmapgl\": [{\"colorbar\": {\"outlinewidth\": 0, \"ticks\": \"\"}, \"colorscale\": [[0.0, \"#0d0887\"], [0.1111111111111111, \"#46039f\"], [0.2222222222222222, \"#7201a8\"], [0.3333333333333333, \"#9c179e\"], [0.4444444444444444, \"#bd3786\"], [0.5555555555555556, \"#d8576b\"], [0.6666666666666666, \"#ed7953\"], [0.7777777777777778, \"#fb9f3a\"], [0.8888888888888888, \"#fdca26\"], [1.0, \"#f0f921\"]], \"type\": \"heatmapgl\"}], \"histogram\": [{\"marker\": {\"colorbar\": {\"outlinewidth\": 0, \"ticks\": \"\"}}, \"type\": \"histogram\"}], \"histogram2d\": [{\"colorbar\": {\"outlinewidth\": 0, \"ticks\": \"\"}, \"colorscale\": [[0.0, \"#0d0887\"], [0.1111111111111111, \"#46039f\"], [0.2222222222222222, \"#7201a8\"], [0.3333333333333333, \"#9c179e\"], [0.4444444444444444, \"#bd3786\"], [0.5555555555555556, \"#d8576b\"], [0.6666666666666666, \"#ed7953\"], [0.7777777777777778, \"#fb9f3a\"], [0.8888888888888888, \"#fdca26\"], [1.0, \"#f0f921\"]], \"type\": \"histogram2d\"}], \"histogram2dcontour\": [{\"colorbar\": {\"outlinewidth\": 0, \"ticks\": \"\"}, \"colorscale\": [[0.0, \"#0d0887\"], [0.1111111111111111, \"#46039f\"], [0.2222222222222222, \"#7201a8\"], [0.3333333333333333, \"#9c179e\"], [0.4444444444444444, \"#bd3786\"], [0.5555555555555556, \"#d8576b\"], [0.6666666666666666, \"#ed7953\"], [0.7777777777777778, \"#fb9f3a\"], [0.8888888888888888, \"#fdca26\"], [1.0, \"#f0f921\"]], \"type\": \"histogram2dcontour\"}], \"mesh3d\": [{\"colorbar\": {\"outlinewidth\": 0, \"ticks\": \"\"}, \"type\": \"mesh3d\"}], \"parcoords\": [{\"line\": {\"colorbar\": {\"outlinewidth\": 0, \"ticks\": \"\"}}, \"type\": \"parcoords\"}], \"pie\": [{\"automargin\": true, \"type\": \"pie\"}], \"scatter\": [{\"marker\": {\"colorbar\": {\"outlinewidth\": 0, \"ticks\": \"\"}}, \"type\": \"scatter\"}], \"scatter3d\": [{\"line\": {\"colorbar\": {\"outlinewidth\": 0, \"ticks\": \"\"}}, \"marker\": {\"colorbar\": {\"outlinewidth\": 0, \"ticks\": \"\"}}, \"type\": \"scatter3d\"}], \"scattercarpet\": [{\"marker\": {\"colorbar\": {\"outlinewidth\": 0, \"ticks\": \"\"}}, \"type\": \"scattercarpet\"}], \"scattergeo\": [{\"marker\": {\"colorbar\": {\"outlinewidth\": 0, \"ticks\": \"\"}}, \"type\": \"scattergeo\"}], \"scattergl\": [{\"marker\": {\"colorbar\": {\"outlinewidth\": 0, \"ticks\": \"\"}}, \"type\": \"scattergl\"}], \"scattermapbox\": [{\"marker\": {\"colorbar\": {\"outlinewidth\": 0, \"ticks\": \"\"}}, \"type\": \"scattermapbox\"}], \"scatterpolar\": [{\"marker\": {\"colorbar\": {\"outlinewidth\": 0, \"ticks\": \"\"}}, \"type\": \"scatterpolar\"}], \"scatterpolargl\": [{\"marker\": {\"colorbar\": {\"outlinewidth\": 0, \"ticks\": \"\"}}, \"type\": \"scatterpolargl\"}], \"scatterternary\": [{\"marker\": {\"colorbar\": {\"outlinewidth\": 0, \"ticks\": \"\"}}, \"type\": \"scatterternary\"}], \"surface\": [{\"colorbar\": {\"outlinewidth\": 0, \"ticks\": \"\"}, \"colorscale\": [[0.0, \"#0d0887\"], [0.1111111111111111, \"#46039f\"], [0.2222222222222222, \"#7201a8\"], [0.3333333333333333, \"#9c179e\"], [0.4444444444444444, \"#bd3786\"], [0.5555555555555556, \"#d8576b\"], [0.6666666666666666, \"#ed7953\"], [0.7777777777777778, \"#fb9f3a\"], [0.8888888888888888, \"#fdca26\"], [1.0, \"#f0f921\"]], \"type\": \"surface\"}], \"table\": [{\"cells\": {\"fill\": {\"color\": \"#EBF0F8\"}, \"line\": {\"color\": \"white\"}}, \"header\": {\"fill\": {\"color\": \"#C8D4E3\"}, \"line\": {\"color\": \"white\"}}, \"type\": \"table\"}]}, \"layout\": {\"annotationdefaults\": {\"arrowcolor\": \"#2a3f5f\", \"arrowhead\": 0, \"arrowwidth\": 1}, \"autotypenumbers\": \"strict\", \"coloraxis\": {\"colorbar\": {\"outlinewidth\": 0, \"ticks\": \"\"}}, \"colorscale\": {\"diverging\": [[0, \"#8e0152\"], [0.1, \"#c51b7d\"], [0.2, \"#de77ae\"], [0.3, \"#f1b6da\"], [0.4, \"#fde0ef\"], [0.5, \"#f7f7f7\"], [0.6, \"#e6f5d0\"], [0.7, \"#b8e186\"], [0.8, \"#7fbc41\"], [0.9, \"#4d9221\"], [1, \"#276419\"]], \"sequential\": [[0.0, \"#0d0887\"], [0.1111111111111111, \"#46039f\"], [0.2222222222222222, \"#7201a8\"], [0.3333333333333333, \"#9c179e\"], [0.4444444444444444, \"#bd3786\"], [0.5555555555555556, \"#d8576b\"], [0.6666666666666666, \"#ed7953\"], [0.7777777777777778, \"#fb9f3a\"], [0.8888888888888888, \"#fdca26\"], [1.0, \"#f0f921\"]], \"sequentialminus\": [[0.0, \"#0d0887\"], [0.1111111111111111, \"#46039f\"], [0.2222222222222222, \"#7201a8\"], [0.3333333333333333, \"#9c179e\"], [0.4444444444444444, \"#bd3786\"], [0.5555555555555556, \"#d8576b\"], [0.6666666666666666, \"#ed7953\"], [0.7777777777777778, \"#fb9f3a\"], [0.8888888888888888, \"#fdca26\"], [1.0, \"#f0f921\"]]}, \"colorway\": [\"#636efa\", \"#EF553B\", \"#00cc96\", \"#ab63fa\", \"#FFA15A\", \"#19d3f3\", \"#FF6692\", \"#B6E880\", \"#FF97FF\", \"#FECB52\"], \"font\": {\"color\": \"#2a3f5f\"}, \"geo\": {\"bgcolor\": \"white\", \"lakecolor\": \"white\", \"landcolor\": \"#E5ECF6\", \"showlakes\": true, \"showland\": true, \"subunitcolor\": \"white\"}, \"hoverlabel\": {\"align\": \"left\"}, \"hovermode\": \"closest\", \"mapbox\": {\"style\": \"light\"}, \"paper_bgcolor\": \"white\", \"plot_bgcolor\": \"#E5ECF6\", \"polar\": {\"angularaxis\": {\"gridcolor\": \"white\", \"linecolor\": \"white\", \"ticks\": \"\"}, \"bgcolor\": \"#E5ECF6\", \"radialaxis\": {\"gridcolor\": \"white\", \"linecolor\": \"white\", \"ticks\": \"\"}}, \"scene\": {\"xaxis\": {\"backgroundcolor\": \"#E5ECF6\", \"gridcolor\": \"white\", \"gridwidth\": 2, \"linecolor\": \"white\", \"showbackground\": true, \"ticks\": \"\", \"zerolinecolor\": \"white\"}, \"yaxis\": {\"backgroundcolor\": \"#E5ECF6\", \"gridcolor\": \"white\", \"gridwidth\": 2, \"linecolor\": \"white\", \"showbackground\": true, \"ticks\": \"\", \"zerolinecolor\": \"white\"}, \"zaxis\": {\"backgroundcolor\": \"#E5ECF6\", \"gridcolor\": \"white\", \"gridwidth\": 2, \"linecolor\": \"white\", \"showbackground\": true, \"ticks\": \"\", \"zerolinecolor\": \"white\"}}, \"shapedefaults\": {\"line\": {\"color\": \"#2a3f5f\"}}, \"ternary\": {\"aaxis\": {\"gridcolor\": \"white\", \"linecolor\": \"white\", \"ticks\": \"\"}, \"baxis\": {\"gridcolor\": \"white\", \"linecolor\": \"white\", \"ticks\": \"\"}, \"bgcolor\": \"#E5ECF6\", \"caxis\": {\"gridcolor\": \"white\", \"linecolor\": \"white\", \"ticks\": \"\"}}, \"title\": {\"x\": 0.05}, \"xaxis\": {\"automargin\": true, \"gridcolor\": \"white\", \"linecolor\": \"white\", \"ticks\": \"\", \"title\": {\"standoff\": 15}, \"zerolinecolor\": \"white\", \"zerolinewidth\": 2}, \"yaxis\": {\"automargin\": true, \"gridcolor\": \"white\", \"linecolor\": \"white\", \"ticks\": \"\", \"title\": {\"standoff\": 15}, \"zerolinecolor\": \"white\", \"zerolinewidth\": 2}}}},                        {\"responsive\": true}                    ).then(function(){\n",
       "                            \n",
       "var gd = document.getElementById('7e181bca-ee90-4885-8443-f5349e64da9f');\n",
       "var x = new MutationObserver(function (mutations, observer) {{\n",
       "        var display = window.getComputedStyle(gd).display;\n",
       "        if (!display || display === 'none') {{\n",
       "            console.log([gd, 'removed!']);\n",
       "            Plotly.purge(gd);\n",
       "            observer.disconnect();\n",
       "        }}\n",
       "}});\n",
       "\n",
       "// Listen for the removal of the full notebook cells\n",
       "var notebookContainer = gd.closest('#notebook-container');\n",
       "if (notebookContainer) {{\n",
       "    x.observe(notebookContainer, {childList: true});\n",
       "}}\n",
       "\n",
       "// Listen for the clearing of the current output cell\n",
       "var outputEl = gd.closest('.output');\n",
       "if (outputEl) {{\n",
       "    x.observe(outputEl, {childList: true});\n",
       "}}\n",
       "\n",
       "                        })                };                });            </script>        </div>"
      ]
     },
     "metadata": {},
     "output_type": "display_data"
    }
   ],
   "source": [
    "topic_features = ['bright_floral_citrus', 'choc_woody_dark', 'tart_sweet_smooth','cacao_nut_clean', 'sweet_nut_pine', 'juicy_cacao_honey', 'red_berries','woody_nut_caramel', 'cherry_vinuous_choc']\n",
    "topics = ['Bright, Floral, Citrus', 'Chocolate, Dark, Woody', 'Tart, Sweet, Smooth','Cacao, Nutty, Clean', 'Sweet, Nut, Pine', 'Juicy, Honey, Cacao', 'Red Berries','Nutty, Caramel, Woody', 'Cherry, Vinuous, Chocolate']\n",
    "\n",
    "list(tableau[tableau.group == 1][topic_features].mean())\n",
    "spider = pd.DataFrame(dict(\n",
    "    r=list(tableau[tableau.group == 1][topic_features].mean()),\n",
    "    theta=topic_features))\n",
    "fig = px.line_polar(spider, r='r', theta='theta', line_close=True)\n",
    "fig.show()"
   ]
  },
  {
   "cell_type": "code",
   "execution_count": 83,
   "metadata": {},
   "outputs": [
    {
     "data": {
      "application/vnd.plotly.v1+json": {
       "config": {
        "plotlyServerURL": "https://plot.ly"
       },
       "data": [
        {
         "fill": "toself",
         "name": "Bright, Floral, Citrus",
         "opacity": 0.5,
         "r": [
          0.06385425171822198,
          0.014967784337255789,
          0.012943176529147778,
          0.008742191349481022,
          0.009743485222125528,
          0.006929386263820664,
          0.004619875645568287,
          0.012717682583403672,
          0.01351667942808354
         ],
         "theta": [
          "Bright, Floral, Citrus",
          "Chocolate, Dark, Woody",
          "Tart, Sweet, Smooth",
          "Cacao, Nutty, Clean",
          "Sweet, Nut, Pine",
          "Juicy, Honey, Cacao",
          "Red Berries",
          "Nutty, Caramel, Woody",
          "Cherry, Vinuous, Chocolate"
         ],
         "type": "scatterpolar"
        },
        {
         "fill": "toself",
         "name": "Chocolate, Dark, Woody",
         "opacity": 0.5,
         "r": [
          0.016337137982269146,
          0.0819789166332584,
          0.018466073686916516,
          0.005063398092775084,
          0.011612435738249618,
          0.0035382871132595968,
          0.006375320633091236,
          0.01958705806735779,
          0.01838405793493999
         ],
         "theta": [
          "Bright, Floral, Citrus",
          "Chocolate, Dark, Woody",
          "Tart, Sweet, Smooth",
          "Cacao, Nutty, Clean",
          "Sweet, Nut, Pine",
          "Juicy, Honey, Cacao",
          "Red Berries",
          "Nutty, Caramel, Woody",
          "Cherry, Vinuous, Chocolate"
         ],
         "type": "scatterpolar"
        },
        {
         "fill": "toself",
         "name": "Tart, Sweet, Smooth",
         "opacity": 0.5,
         "r": [
          0.01367653827420473,
          0.02140449198689719,
          0.08851405280983105,
          0.012268204552342963,
          0.00996421483288606,
          0.008366650288352057,
          0.008049109158023215,
          0.0048251348870983184,
          0.013098079619507092
         ],
         "theta": [
          "Bright, Floral, Citrus",
          "Chocolate, Dark, Woody",
          "Tart, Sweet, Smooth",
          "Cacao, Nutty, Clean",
          "Sweet, Nut, Pine",
          "Juicy, Honey, Cacao",
          "Red Berries",
          "Nutty, Caramel, Woody",
          "Cherry, Vinuous, Chocolate"
         ],
         "type": "scatterpolar"
        },
        {
         "fill": "toself",
         "name": "Cacao, Nutty, Clean",
         "opacity": 0.5,
         "r": [
          0.020106891524318965,
          0.009485301010544536,
          0.031401615355223914,
          0.09480331584471767,
          0.00887843440905672,
          0.012761299160936069,
          0.007621773738608465,
          0.015070555612017308,
          0.014995153551096912
         ],
         "theta": [
          "Bright, Floral, Citrus",
          "Chocolate, Dark, Woody",
          "Tart, Sweet, Smooth",
          "Cacao, Nutty, Clean",
          "Sweet, Nut, Pine",
          "Juicy, Honey, Cacao",
          "Red Berries",
          "Nutty, Caramel, Woody",
          "Cherry, Vinuous, Chocolate"
         ],
         "type": "scatterpolar"
        },
        {
         "fill": "toself",
         "name": "Sweet, Nut, Pine",
         "opacity": 0.5,
         "r": [
          0.024515089286246235,
          0.024040735203367625,
          0.022177825426579412,
          0.01022061535506348,
          0.11490577504265354,
          0.006915144156428585,
          0.008651678320124529,
          0.012735742020441511,
          0.015472626227164537
         ],
         "theta": [
          "Bright, Floral, Citrus",
          "Chocolate, Dark, Woody",
          "Tart, Sweet, Smooth",
          "Cacao, Nutty, Clean",
          "Sweet, Nut, Pine",
          "Juicy, Honey, Cacao",
          "Red Berries",
          "Nutty, Caramel, Woody",
          "Cherry, Vinuous, Chocolate"
         ],
         "type": "scatterpolar"
        },
        {
         "fill": "toself",
         "name": "Juicy, Honey, Cacao",
         "opacity": 0.5,
         "r": [
          0.02824726873146768,
          0.006609738508304922,
          0.027383906505921075,
          0.011189283621554713,
          0.011435063685319376,
          0.11817477250821273,
          0.007729728975756281,
          0.006841510486521717,
          0.01246856150819477
         ],
         "theta": [
          "Bright, Floral, Citrus",
          "Chocolate, Dark, Woody",
          "Tart, Sweet, Smooth",
          "Cacao, Nutty, Clean",
          "Sweet, Nut, Pine",
          "Juicy, Honey, Cacao",
          "Red Berries",
          "Nutty, Caramel, Woody",
          "Cherry, Vinuous, Chocolate"
         ],
         "type": "scatterpolar"
        },
        {
         "fill": "toself",
         "name": "Red Berries",
         "opacity": 0.5,
         "r": [
          0.02020777605065204,
          0.02034614387317954,
          0.02687203967535804,
          0.009807379040844548,
          0.01055000867205066,
          0.007055590621262297,
          0.1120053639725668,
          0.011129264625000714,
          0.014402986496319365
         ],
         "theta": [
          "Bright, Floral, Citrus",
          "Chocolate, Dark, Woody",
          "Tart, Sweet, Smooth",
          "Cacao, Nutty, Clean",
          "Sweet, Nut, Pine",
          "Juicy, Honey, Cacao",
          "Red Berries",
          "Nutty, Caramel, Woody",
          "Cherry, Vinuous, Chocolate"
         ],
         "type": "scatterpolar"
        },
        {
         "fill": "toself",
         "name": "Nutty, Caramel, Woody",
         "opacity": 0.5,
         "r": [
          0.007720544576147433,
          0.015465839848506462,
          0.003711314840047753,
          0.0048418682603304395,
          0.003680210509268785,
          0.001443668795975496,
          0.002336118146924711,
          0.05919101209624305,
          0.013502229173259335
         ],
         "theta": [
          "Bright, Floral, Citrus",
          "Chocolate, Dark, Woody",
          "Tart, Sweet, Smooth",
          "Cacao, Nutty, Clean",
          "Sweet, Nut, Pine",
          "Juicy, Honey, Cacao",
          "Red Berries",
          "Nutty, Caramel, Woody",
          "Cherry, Vinuous, Chocolate"
         ],
         "type": "scatterpolar"
        },
        {
         "fill": "toself",
         "name": "Cherry, Vinuous, Chocolate",
         "opacity": 0.5,
         "r": [
          0.014483949017678363,
          0.01864949426832756,
          0.0078098017661510045,
          0.005300628781787311,
          0.0068529110437997335,
          0.0020871198202064944,
          0.0058702282041939785,
          0.02448904654452063,
          0.06832598987767377
         ],
         "theta": [
          "Bright, Floral, Citrus",
          "Chocolate, Dark, Woody",
          "Tart, Sweet, Smooth",
          "Cacao, Nutty, Clean",
          "Sweet, Nut, Pine",
          "Juicy, Honey, Cacao",
          "Red Berries",
          "Nutty, Caramel, Woody",
          "Cherry, Vinuous, Chocolate"
         ],
         "type": "scatterpolar"
        }
       ],
       "layout": {
        "legend": {
         "title": {
          "text": "NMF Topics"
         }
        },
        "polar": {
         "radialaxis": {
          "range": [
           0,
           0.12
          ],
          "visible": true
         }
        },
        "showlegend": false,
        "template": {
         "data": {
          "bar": [
           {
            "error_x": {
             "color": "#2a3f5f"
            },
            "error_y": {
             "color": "#2a3f5f"
            },
            "marker": {
             "line": {
              "color": "#E5ECF6",
              "width": 0.5
             }
            },
            "type": "bar"
           }
          ],
          "barpolar": [
           {
            "marker": {
             "line": {
              "color": "#E5ECF6",
              "width": 0.5
             }
            },
            "type": "barpolar"
           }
          ],
          "carpet": [
           {
            "aaxis": {
             "endlinecolor": "#2a3f5f",
             "gridcolor": "white",
             "linecolor": "white",
             "minorgridcolor": "white",
             "startlinecolor": "#2a3f5f"
            },
            "baxis": {
             "endlinecolor": "#2a3f5f",
             "gridcolor": "white",
             "linecolor": "white",
             "minorgridcolor": "white",
             "startlinecolor": "#2a3f5f"
            },
            "type": "carpet"
           }
          ],
          "choropleth": [
           {
            "colorbar": {
             "outlinewidth": 0,
             "ticks": ""
            },
            "type": "choropleth"
           }
          ],
          "contour": [
           {
            "colorbar": {
             "outlinewidth": 0,
             "ticks": ""
            },
            "colorscale": [
             [
              0,
              "#0d0887"
             ],
             [
              0.1111111111111111,
              "#46039f"
             ],
             [
              0.2222222222222222,
              "#7201a8"
             ],
             [
              0.3333333333333333,
              "#9c179e"
             ],
             [
              0.4444444444444444,
              "#bd3786"
             ],
             [
              0.5555555555555556,
              "#d8576b"
             ],
             [
              0.6666666666666666,
              "#ed7953"
             ],
             [
              0.7777777777777778,
              "#fb9f3a"
             ],
             [
              0.8888888888888888,
              "#fdca26"
             ],
             [
              1,
              "#f0f921"
             ]
            ],
            "type": "contour"
           }
          ],
          "contourcarpet": [
           {
            "colorbar": {
             "outlinewidth": 0,
             "ticks": ""
            },
            "type": "contourcarpet"
           }
          ],
          "heatmap": [
           {
            "colorbar": {
             "outlinewidth": 0,
             "ticks": ""
            },
            "colorscale": [
             [
              0,
              "#0d0887"
             ],
             [
              0.1111111111111111,
              "#46039f"
             ],
             [
              0.2222222222222222,
              "#7201a8"
             ],
             [
              0.3333333333333333,
              "#9c179e"
             ],
             [
              0.4444444444444444,
              "#bd3786"
             ],
             [
              0.5555555555555556,
              "#d8576b"
             ],
             [
              0.6666666666666666,
              "#ed7953"
             ],
             [
              0.7777777777777778,
              "#fb9f3a"
             ],
             [
              0.8888888888888888,
              "#fdca26"
             ],
             [
              1,
              "#f0f921"
             ]
            ],
            "type": "heatmap"
           }
          ],
          "heatmapgl": [
           {
            "colorbar": {
             "outlinewidth": 0,
             "ticks": ""
            },
            "colorscale": [
             [
              0,
              "#0d0887"
             ],
             [
              0.1111111111111111,
              "#46039f"
             ],
             [
              0.2222222222222222,
              "#7201a8"
             ],
             [
              0.3333333333333333,
              "#9c179e"
             ],
             [
              0.4444444444444444,
              "#bd3786"
             ],
             [
              0.5555555555555556,
              "#d8576b"
             ],
             [
              0.6666666666666666,
              "#ed7953"
             ],
             [
              0.7777777777777778,
              "#fb9f3a"
             ],
             [
              0.8888888888888888,
              "#fdca26"
             ],
             [
              1,
              "#f0f921"
             ]
            ],
            "type": "heatmapgl"
           }
          ],
          "histogram": [
           {
            "marker": {
             "colorbar": {
              "outlinewidth": 0,
              "ticks": ""
             }
            },
            "type": "histogram"
           }
          ],
          "histogram2d": [
           {
            "colorbar": {
             "outlinewidth": 0,
             "ticks": ""
            },
            "colorscale": [
             [
              0,
              "#0d0887"
             ],
             [
              0.1111111111111111,
              "#46039f"
             ],
             [
              0.2222222222222222,
              "#7201a8"
             ],
             [
              0.3333333333333333,
              "#9c179e"
             ],
             [
              0.4444444444444444,
              "#bd3786"
             ],
             [
              0.5555555555555556,
              "#d8576b"
             ],
             [
              0.6666666666666666,
              "#ed7953"
             ],
             [
              0.7777777777777778,
              "#fb9f3a"
             ],
             [
              0.8888888888888888,
              "#fdca26"
             ],
             [
              1,
              "#f0f921"
             ]
            ],
            "type": "histogram2d"
           }
          ],
          "histogram2dcontour": [
           {
            "colorbar": {
             "outlinewidth": 0,
             "ticks": ""
            },
            "colorscale": [
             [
              0,
              "#0d0887"
             ],
             [
              0.1111111111111111,
              "#46039f"
             ],
             [
              0.2222222222222222,
              "#7201a8"
             ],
             [
              0.3333333333333333,
              "#9c179e"
             ],
             [
              0.4444444444444444,
              "#bd3786"
             ],
             [
              0.5555555555555556,
              "#d8576b"
             ],
             [
              0.6666666666666666,
              "#ed7953"
             ],
             [
              0.7777777777777778,
              "#fb9f3a"
             ],
             [
              0.8888888888888888,
              "#fdca26"
             ],
             [
              1,
              "#f0f921"
             ]
            ],
            "type": "histogram2dcontour"
           }
          ],
          "mesh3d": [
           {
            "colorbar": {
             "outlinewidth": 0,
             "ticks": ""
            },
            "type": "mesh3d"
           }
          ],
          "parcoords": [
           {
            "line": {
             "colorbar": {
              "outlinewidth": 0,
              "ticks": ""
             }
            },
            "type": "parcoords"
           }
          ],
          "pie": [
           {
            "automargin": true,
            "type": "pie"
           }
          ],
          "scatter": [
           {
            "marker": {
             "colorbar": {
              "outlinewidth": 0,
              "ticks": ""
             }
            },
            "type": "scatter"
           }
          ],
          "scatter3d": [
           {
            "line": {
             "colorbar": {
              "outlinewidth": 0,
              "ticks": ""
             }
            },
            "marker": {
             "colorbar": {
              "outlinewidth": 0,
              "ticks": ""
             }
            },
            "type": "scatter3d"
           }
          ],
          "scattercarpet": [
           {
            "marker": {
             "colorbar": {
              "outlinewidth": 0,
              "ticks": ""
             }
            },
            "type": "scattercarpet"
           }
          ],
          "scattergeo": [
           {
            "marker": {
             "colorbar": {
              "outlinewidth": 0,
              "ticks": ""
             }
            },
            "type": "scattergeo"
           }
          ],
          "scattergl": [
           {
            "marker": {
             "colorbar": {
              "outlinewidth": 0,
              "ticks": ""
             }
            },
            "type": "scattergl"
           }
          ],
          "scattermapbox": [
           {
            "marker": {
             "colorbar": {
              "outlinewidth": 0,
              "ticks": ""
             }
            },
            "type": "scattermapbox"
           }
          ],
          "scatterpolar": [
           {
            "marker": {
             "colorbar": {
              "outlinewidth": 0,
              "ticks": ""
             }
            },
            "type": "scatterpolar"
           }
          ],
          "scatterpolargl": [
           {
            "marker": {
             "colorbar": {
              "outlinewidth": 0,
              "ticks": ""
             }
            },
            "type": "scatterpolargl"
           }
          ],
          "scatterternary": [
           {
            "marker": {
             "colorbar": {
              "outlinewidth": 0,
              "ticks": ""
             }
            },
            "type": "scatterternary"
           }
          ],
          "surface": [
           {
            "colorbar": {
             "outlinewidth": 0,
             "ticks": ""
            },
            "colorscale": [
             [
              0,
              "#0d0887"
             ],
             [
              0.1111111111111111,
              "#46039f"
             ],
             [
              0.2222222222222222,
              "#7201a8"
             ],
             [
              0.3333333333333333,
              "#9c179e"
             ],
             [
              0.4444444444444444,
              "#bd3786"
             ],
             [
              0.5555555555555556,
              "#d8576b"
             ],
             [
              0.6666666666666666,
              "#ed7953"
             ],
             [
              0.7777777777777778,
              "#fb9f3a"
             ],
             [
              0.8888888888888888,
              "#fdca26"
             ],
             [
              1,
              "#f0f921"
             ]
            ],
            "type": "surface"
           }
          ],
          "table": [
           {
            "cells": {
             "fill": {
              "color": "#EBF0F8"
             },
             "line": {
              "color": "white"
             }
            },
            "header": {
             "fill": {
              "color": "#C8D4E3"
             },
             "line": {
              "color": "white"
             }
            },
            "type": "table"
           }
          ]
         },
         "layout": {
          "annotationdefaults": {
           "arrowcolor": "#2a3f5f",
           "arrowhead": 0,
           "arrowwidth": 1
          },
          "autotypenumbers": "strict",
          "coloraxis": {
           "colorbar": {
            "outlinewidth": 0,
            "ticks": ""
           }
          },
          "colorscale": {
           "diverging": [
            [
             0,
             "#8e0152"
            ],
            [
             0.1,
             "#c51b7d"
            ],
            [
             0.2,
             "#de77ae"
            ],
            [
             0.3,
             "#f1b6da"
            ],
            [
             0.4,
             "#fde0ef"
            ],
            [
             0.5,
             "#f7f7f7"
            ],
            [
             0.6,
             "#e6f5d0"
            ],
            [
             0.7,
             "#b8e186"
            ],
            [
             0.8,
             "#7fbc41"
            ],
            [
             0.9,
             "#4d9221"
            ],
            [
             1,
             "#276419"
            ]
           ],
           "sequential": [
            [
             0,
             "#0d0887"
            ],
            [
             0.1111111111111111,
             "#46039f"
            ],
            [
             0.2222222222222222,
             "#7201a8"
            ],
            [
             0.3333333333333333,
             "#9c179e"
            ],
            [
             0.4444444444444444,
             "#bd3786"
            ],
            [
             0.5555555555555556,
             "#d8576b"
            ],
            [
             0.6666666666666666,
             "#ed7953"
            ],
            [
             0.7777777777777778,
             "#fb9f3a"
            ],
            [
             0.8888888888888888,
             "#fdca26"
            ],
            [
             1,
             "#f0f921"
            ]
           ],
           "sequentialminus": [
            [
             0,
             "#0d0887"
            ],
            [
             0.1111111111111111,
             "#46039f"
            ],
            [
             0.2222222222222222,
             "#7201a8"
            ],
            [
             0.3333333333333333,
             "#9c179e"
            ],
            [
             0.4444444444444444,
             "#bd3786"
            ],
            [
             0.5555555555555556,
             "#d8576b"
            ],
            [
             0.6666666666666666,
             "#ed7953"
            ],
            [
             0.7777777777777778,
             "#fb9f3a"
            ],
            [
             0.8888888888888888,
             "#fdca26"
            ],
            [
             1,
             "#f0f921"
            ]
           ]
          },
          "colorway": [
           "#636efa",
           "#EF553B",
           "#00cc96",
           "#ab63fa",
           "#FFA15A",
           "#19d3f3",
           "#FF6692",
           "#B6E880",
           "#FF97FF",
           "#FECB52"
          ],
          "font": {
           "color": "#2a3f5f"
          },
          "geo": {
           "bgcolor": "white",
           "lakecolor": "white",
           "landcolor": "#E5ECF6",
           "showlakes": true,
           "showland": true,
           "subunitcolor": "white"
          },
          "hoverlabel": {
           "align": "left"
          },
          "hovermode": "closest",
          "mapbox": {
           "style": "light"
          },
          "paper_bgcolor": "white",
          "plot_bgcolor": "#E5ECF6",
          "polar": {
           "angularaxis": {
            "gridcolor": "white",
            "linecolor": "white",
            "ticks": ""
           },
           "bgcolor": "#E5ECF6",
           "radialaxis": {
            "gridcolor": "white",
            "linecolor": "white",
            "ticks": ""
           }
          },
          "scene": {
           "xaxis": {
            "backgroundcolor": "#E5ECF6",
            "gridcolor": "white",
            "gridwidth": 2,
            "linecolor": "white",
            "showbackground": true,
            "ticks": "",
            "zerolinecolor": "white"
           },
           "yaxis": {
            "backgroundcolor": "#E5ECF6",
            "gridcolor": "white",
            "gridwidth": 2,
            "linecolor": "white",
            "showbackground": true,
            "ticks": "",
            "zerolinecolor": "white"
           },
           "zaxis": {
            "backgroundcolor": "#E5ECF6",
            "gridcolor": "white",
            "gridwidth": 2,
            "linecolor": "white",
            "showbackground": true,
            "ticks": "",
            "zerolinecolor": "white"
           }
          },
          "shapedefaults": {
           "line": {
            "color": "#2a3f5f"
           }
          },
          "ternary": {
           "aaxis": {
            "gridcolor": "white",
            "linecolor": "white",
            "ticks": ""
           },
           "baxis": {
            "gridcolor": "white",
            "linecolor": "white",
            "ticks": ""
           },
           "bgcolor": "#E5ECF6",
           "caxis": {
            "gridcolor": "white",
            "linecolor": "white",
            "ticks": ""
           }
          },
          "title": {
           "x": 0.05
          },
          "xaxis": {
           "automargin": true,
           "gridcolor": "white",
           "linecolor": "white",
           "ticks": "",
           "title": {
            "standoff": 15
           },
           "zerolinecolor": "white",
           "zerolinewidth": 2
          },
          "yaxis": {
           "automargin": true,
           "gridcolor": "white",
           "linecolor": "white",
           "ticks": "",
           "title": {
            "standoff": 15
           },
           "zerolinecolor": "white",
           "zerolinewidth": 2
          }
         }
        },
        "title": {
         "text": "Mean NMF vector by topic",
         "x": 0.5,
         "xanchor": "center",
         "y": 0.9,
         "yanchor": "top"
        }
       }
      },
      "text/html": [
       "<div>                            <div id=\"72b47b31-dd1f-4350-bf62-5fe30f87ebd3\" class=\"plotly-graph-div\" style=\"height:525px; width:100%;\"></div>            <script type=\"text/javascript\">                require([\"plotly\"], function(Plotly) {                    window.PLOTLYENV=window.PLOTLYENV || {};                                    if (document.getElementById(\"72b47b31-dd1f-4350-bf62-5fe30f87ebd3\")) {                    Plotly.newPlot(                        \"72b47b31-dd1f-4350-bf62-5fe30f87ebd3\",                        [{\"fill\": \"toself\", \"name\": \"Bright, Floral, Citrus\", \"opacity\": 0.5, \"r\": [0.06385425171822198, 0.014967784337255789, 0.012943176529147778, 0.008742191349481022, 0.009743485222125528, 0.006929386263820664, 0.004619875645568287, 0.012717682583403672, 0.01351667942808354], \"theta\": [\"Bright, Floral, Citrus\", \"Chocolate, Dark, Woody\", \"Tart, Sweet, Smooth\", \"Cacao, Nutty, Clean\", \"Sweet, Nut, Pine\", \"Juicy, Honey, Cacao\", \"Red Berries\", \"Nutty, Caramel, Woody\", \"Cherry, Vinuous, Chocolate\"], \"type\": \"scatterpolar\"}, {\"fill\": \"toself\", \"name\": \"Chocolate, Dark, Woody\", \"opacity\": 0.5, \"r\": [0.016337137982269146, 0.0819789166332584, 0.018466073686916516, 0.005063398092775084, 0.011612435738249618, 0.0035382871132595968, 0.006375320633091236, 0.01958705806735779, 0.01838405793493999], \"theta\": [\"Bright, Floral, Citrus\", \"Chocolate, Dark, Woody\", \"Tart, Sweet, Smooth\", \"Cacao, Nutty, Clean\", \"Sweet, Nut, Pine\", \"Juicy, Honey, Cacao\", \"Red Berries\", \"Nutty, Caramel, Woody\", \"Cherry, Vinuous, Chocolate\"], \"type\": \"scatterpolar\"}, {\"fill\": \"toself\", \"name\": \"Tart, Sweet, Smooth\", \"opacity\": 0.5, \"r\": [0.01367653827420473, 0.02140449198689719, 0.08851405280983105, 0.012268204552342963, 0.00996421483288606, 0.008366650288352057, 0.008049109158023215, 0.0048251348870983184, 0.013098079619507092], \"theta\": [\"Bright, Floral, Citrus\", \"Chocolate, Dark, Woody\", \"Tart, Sweet, Smooth\", \"Cacao, Nutty, Clean\", \"Sweet, Nut, Pine\", \"Juicy, Honey, Cacao\", \"Red Berries\", \"Nutty, Caramel, Woody\", \"Cherry, Vinuous, Chocolate\"], \"type\": \"scatterpolar\"}, {\"fill\": \"toself\", \"name\": \"Cacao, Nutty, Clean\", \"opacity\": 0.5, \"r\": [0.020106891524318965, 0.009485301010544536, 0.031401615355223914, 0.09480331584471767, 0.00887843440905672, 0.012761299160936069, 0.007621773738608465, 0.015070555612017308, 0.014995153551096912], \"theta\": [\"Bright, Floral, Citrus\", \"Chocolate, Dark, Woody\", \"Tart, Sweet, Smooth\", \"Cacao, Nutty, Clean\", \"Sweet, Nut, Pine\", \"Juicy, Honey, Cacao\", \"Red Berries\", \"Nutty, Caramel, Woody\", \"Cherry, Vinuous, Chocolate\"], \"type\": \"scatterpolar\"}, {\"fill\": \"toself\", \"name\": \"Sweet, Nut, Pine\", \"opacity\": 0.5, \"r\": [0.024515089286246235, 0.024040735203367625, 0.022177825426579412, 0.01022061535506348, 0.11490577504265354, 0.006915144156428585, 0.008651678320124529, 0.012735742020441511, 0.015472626227164537], \"theta\": [\"Bright, Floral, Citrus\", \"Chocolate, Dark, Woody\", \"Tart, Sweet, Smooth\", \"Cacao, Nutty, Clean\", \"Sweet, Nut, Pine\", \"Juicy, Honey, Cacao\", \"Red Berries\", \"Nutty, Caramel, Woody\", \"Cherry, Vinuous, Chocolate\"], \"type\": \"scatterpolar\"}, {\"fill\": \"toself\", \"name\": \"Juicy, Honey, Cacao\", \"opacity\": 0.5, \"r\": [0.02824726873146768, 0.006609738508304922, 0.027383906505921075, 0.011189283621554713, 0.011435063685319376, 0.11817477250821273, 0.007729728975756281, 0.006841510486521717, 0.01246856150819477], \"theta\": [\"Bright, Floral, Citrus\", \"Chocolate, Dark, Woody\", \"Tart, Sweet, Smooth\", \"Cacao, Nutty, Clean\", \"Sweet, Nut, Pine\", \"Juicy, Honey, Cacao\", \"Red Berries\", \"Nutty, Caramel, Woody\", \"Cherry, Vinuous, Chocolate\"], \"type\": \"scatterpolar\"}, {\"fill\": \"toself\", \"name\": \"Red Berries\", \"opacity\": 0.5, \"r\": [0.02020777605065204, 0.02034614387317954, 0.02687203967535804, 0.009807379040844548, 0.01055000867205066, 0.007055590621262297, 0.1120053639725668, 0.011129264625000714, 0.014402986496319365], \"theta\": [\"Bright, Floral, Citrus\", \"Chocolate, Dark, Woody\", \"Tart, Sweet, Smooth\", \"Cacao, Nutty, Clean\", \"Sweet, Nut, Pine\", \"Juicy, Honey, Cacao\", \"Red Berries\", \"Nutty, Caramel, Woody\", \"Cherry, Vinuous, Chocolate\"], \"type\": \"scatterpolar\"}, {\"fill\": \"toself\", \"name\": \"Nutty, Caramel, Woody\", \"opacity\": 0.5, \"r\": [0.007720544576147433, 0.015465839848506462, 0.003711314840047753, 0.0048418682603304395, 0.003680210509268785, 0.001443668795975496, 0.002336118146924711, 0.05919101209624305, 0.013502229173259335], \"theta\": [\"Bright, Floral, Citrus\", \"Chocolate, Dark, Woody\", \"Tart, Sweet, Smooth\", \"Cacao, Nutty, Clean\", \"Sweet, Nut, Pine\", \"Juicy, Honey, Cacao\", \"Red Berries\", \"Nutty, Caramel, Woody\", \"Cherry, Vinuous, Chocolate\"], \"type\": \"scatterpolar\"}, {\"fill\": \"toself\", \"name\": \"Cherry, Vinuous, Chocolate\", \"opacity\": 0.5, \"r\": [0.014483949017678363, 0.01864949426832756, 0.0078098017661510045, 0.005300628781787311, 0.0068529110437997335, 0.0020871198202064944, 0.0058702282041939785, 0.02448904654452063, 0.06832598987767377], \"theta\": [\"Bright, Floral, Citrus\", \"Chocolate, Dark, Woody\", \"Tart, Sweet, Smooth\", \"Cacao, Nutty, Clean\", \"Sweet, Nut, Pine\", \"Juicy, Honey, Cacao\", \"Red Berries\", \"Nutty, Caramel, Woody\", \"Cherry, Vinuous, Chocolate\"], \"type\": \"scatterpolar\"}],                        {\"legend\": {\"title\": {\"text\": \"NMF Topics\"}}, \"polar\": {\"radialaxis\": {\"range\": [0, 0.12], \"visible\": true}}, \"showlegend\": false, \"template\": {\"data\": {\"bar\": [{\"error_x\": {\"color\": \"#2a3f5f\"}, \"error_y\": {\"color\": \"#2a3f5f\"}, \"marker\": {\"line\": {\"color\": \"#E5ECF6\", \"width\": 0.5}}, \"type\": \"bar\"}], \"barpolar\": [{\"marker\": {\"line\": {\"color\": \"#E5ECF6\", \"width\": 0.5}}, \"type\": \"barpolar\"}], \"carpet\": [{\"aaxis\": {\"endlinecolor\": \"#2a3f5f\", \"gridcolor\": \"white\", \"linecolor\": \"white\", \"minorgridcolor\": \"white\", \"startlinecolor\": \"#2a3f5f\"}, \"baxis\": {\"endlinecolor\": \"#2a3f5f\", \"gridcolor\": \"white\", \"linecolor\": \"white\", \"minorgridcolor\": \"white\", \"startlinecolor\": \"#2a3f5f\"}, \"type\": \"carpet\"}], \"choropleth\": [{\"colorbar\": {\"outlinewidth\": 0, \"ticks\": \"\"}, \"type\": \"choropleth\"}], \"contour\": [{\"colorbar\": {\"outlinewidth\": 0, \"ticks\": \"\"}, \"colorscale\": [[0.0, \"#0d0887\"], [0.1111111111111111, \"#46039f\"], [0.2222222222222222, \"#7201a8\"], [0.3333333333333333, \"#9c179e\"], [0.4444444444444444, \"#bd3786\"], [0.5555555555555556, \"#d8576b\"], [0.6666666666666666, \"#ed7953\"], [0.7777777777777778, \"#fb9f3a\"], [0.8888888888888888, \"#fdca26\"], [1.0, \"#f0f921\"]], \"type\": \"contour\"}], \"contourcarpet\": [{\"colorbar\": {\"outlinewidth\": 0, \"ticks\": \"\"}, \"type\": \"contourcarpet\"}], \"heatmap\": [{\"colorbar\": {\"outlinewidth\": 0, \"ticks\": \"\"}, \"colorscale\": [[0.0, \"#0d0887\"], [0.1111111111111111, \"#46039f\"], [0.2222222222222222, \"#7201a8\"], [0.3333333333333333, \"#9c179e\"], [0.4444444444444444, \"#bd3786\"], [0.5555555555555556, \"#d8576b\"], [0.6666666666666666, \"#ed7953\"], [0.7777777777777778, \"#fb9f3a\"], [0.8888888888888888, \"#fdca26\"], [1.0, \"#f0f921\"]], \"type\": \"heatmap\"}], \"heatmapgl\": [{\"colorbar\": {\"outlinewidth\": 0, \"ticks\": \"\"}, \"colorscale\": [[0.0, \"#0d0887\"], [0.1111111111111111, \"#46039f\"], [0.2222222222222222, \"#7201a8\"], [0.3333333333333333, \"#9c179e\"], [0.4444444444444444, \"#bd3786\"], [0.5555555555555556, \"#d8576b\"], [0.6666666666666666, \"#ed7953\"], [0.7777777777777778, \"#fb9f3a\"], [0.8888888888888888, \"#fdca26\"], [1.0, \"#f0f921\"]], \"type\": \"heatmapgl\"}], \"histogram\": [{\"marker\": {\"colorbar\": {\"outlinewidth\": 0, \"ticks\": \"\"}}, \"type\": \"histogram\"}], \"histogram2d\": [{\"colorbar\": {\"outlinewidth\": 0, \"ticks\": \"\"}, \"colorscale\": [[0.0, \"#0d0887\"], [0.1111111111111111, \"#46039f\"], [0.2222222222222222, \"#7201a8\"], [0.3333333333333333, \"#9c179e\"], [0.4444444444444444, \"#bd3786\"], [0.5555555555555556, \"#d8576b\"], [0.6666666666666666, \"#ed7953\"], [0.7777777777777778, \"#fb9f3a\"], [0.8888888888888888, \"#fdca26\"], [1.0, \"#f0f921\"]], \"type\": \"histogram2d\"}], \"histogram2dcontour\": [{\"colorbar\": {\"outlinewidth\": 0, \"ticks\": \"\"}, \"colorscale\": [[0.0, \"#0d0887\"], [0.1111111111111111, \"#46039f\"], [0.2222222222222222, \"#7201a8\"], [0.3333333333333333, \"#9c179e\"], [0.4444444444444444, \"#bd3786\"], [0.5555555555555556, \"#d8576b\"], [0.6666666666666666, \"#ed7953\"], [0.7777777777777778, \"#fb9f3a\"], [0.8888888888888888, \"#fdca26\"], [1.0, \"#f0f921\"]], \"type\": \"histogram2dcontour\"}], \"mesh3d\": [{\"colorbar\": {\"outlinewidth\": 0, \"ticks\": \"\"}, \"type\": \"mesh3d\"}], \"parcoords\": [{\"line\": {\"colorbar\": {\"outlinewidth\": 0, \"ticks\": \"\"}}, \"type\": \"parcoords\"}], \"pie\": [{\"automargin\": true, \"type\": \"pie\"}], \"scatter\": [{\"marker\": {\"colorbar\": {\"outlinewidth\": 0, \"ticks\": \"\"}}, \"type\": \"scatter\"}], \"scatter3d\": [{\"line\": {\"colorbar\": {\"outlinewidth\": 0, \"ticks\": \"\"}}, \"marker\": {\"colorbar\": {\"outlinewidth\": 0, \"ticks\": \"\"}}, \"type\": \"scatter3d\"}], \"scattercarpet\": [{\"marker\": {\"colorbar\": {\"outlinewidth\": 0, \"ticks\": \"\"}}, \"type\": \"scattercarpet\"}], \"scattergeo\": [{\"marker\": {\"colorbar\": {\"outlinewidth\": 0, \"ticks\": \"\"}}, \"type\": \"scattergeo\"}], \"scattergl\": [{\"marker\": {\"colorbar\": {\"outlinewidth\": 0, \"ticks\": \"\"}}, \"type\": \"scattergl\"}], \"scattermapbox\": [{\"marker\": {\"colorbar\": {\"outlinewidth\": 0, \"ticks\": \"\"}}, \"type\": \"scattermapbox\"}], \"scatterpolar\": [{\"marker\": {\"colorbar\": {\"outlinewidth\": 0, \"ticks\": \"\"}}, \"type\": \"scatterpolar\"}], \"scatterpolargl\": [{\"marker\": {\"colorbar\": {\"outlinewidth\": 0, \"ticks\": \"\"}}, \"type\": \"scatterpolargl\"}], \"scatterternary\": [{\"marker\": {\"colorbar\": {\"outlinewidth\": 0, \"ticks\": \"\"}}, \"type\": \"scatterternary\"}], \"surface\": [{\"colorbar\": {\"outlinewidth\": 0, \"ticks\": \"\"}, \"colorscale\": [[0.0, \"#0d0887\"], [0.1111111111111111, \"#46039f\"], [0.2222222222222222, \"#7201a8\"], [0.3333333333333333, \"#9c179e\"], [0.4444444444444444, \"#bd3786\"], [0.5555555555555556, \"#d8576b\"], [0.6666666666666666, \"#ed7953\"], [0.7777777777777778, \"#fb9f3a\"], [0.8888888888888888, \"#fdca26\"], [1.0, \"#f0f921\"]], \"type\": \"surface\"}], \"table\": [{\"cells\": {\"fill\": {\"color\": \"#EBF0F8\"}, \"line\": {\"color\": \"white\"}}, \"header\": {\"fill\": {\"color\": \"#C8D4E3\"}, \"line\": {\"color\": \"white\"}}, \"type\": \"table\"}]}, \"layout\": {\"annotationdefaults\": {\"arrowcolor\": \"#2a3f5f\", \"arrowhead\": 0, \"arrowwidth\": 1}, \"autotypenumbers\": \"strict\", \"coloraxis\": {\"colorbar\": {\"outlinewidth\": 0, \"ticks\": \"\"}}, \"colorscale\": {\"diverging\": [[0, \"#8e0152\"], [0.1, \"#c51b7d\"], [0.2, \"#de77ae\"], [0.3, \"#f1b6da\"], [0.4, \"#fde0ef\"], [0.5, \"#f7f7f7\"], [0.6, \"#e6f5d0\"], [0.7, \"#b8e186\"], [0.8, \"#7fbc41\"], [0.9, \"#4d9221\"], [1, \"#276419\"]], \"sequential\": [[0.0, \"#0d0887\"], [0.1111111111111111, \"#46039f\"], [0.2222222222222222, \"#7201a8\"], [0.3333333333333333, \"#9c179e\"], [0.4444444444444444, \"#bd3786\"], [0.5555555555555556, \"#d8576b\"], [0.6666666666666666, \"#ed7953\"], [0.7777777777777778, \"#fb9f3a\"], [0.8888888888888888, \"#fdca26\"], [1.0, \"#f0f921\"]], \"sequentialminus\": [[0.0, \"#0d0887\"], [0.1111111111111111, \"#46039f\"], [0.2222222222222222, \"#7201a8\"], [0.3333333333333333, \"#9c179e\"], [0.4444444444444444, \"#bd3786\"], [0.5555555555555556, \"#d8576b\"], [0.6666666666666666, \"#ed7953\"], [0.7777777777777778, \"#fb9f3a\"], [0.8888888888888888, \"#fdca26\"], [1.0, \"#f0f921\"]]}, \"colorway\": [\"#636efa\", \"#EF553B\", \"#00cc96\", \"#ab63fa\", \"#FFA15A\", \"#19d3f3\", \"#FF6692\", \"#B6E880\", \"#FF97FF\", \"#FECB52\"], \"font\": {\"color\": \"#2a3f5f\"}, \"geo\": {\"bgcolor\": \"white\", \"lakecolor\": \"white\", \"landcolor\": \"#E5ECF6\", \"showlakes\": true, \"showland\": true, \"subunitcolor\": \"white\"}, \"hoverlabel\": {\"align\": \"left\"}, \"hovermode\": \"closest\", \"mapbox\": {\"style\": \"light\"}, \"paper_bgcolor\": \"white\", \"plot_bgcolor\": \"#E5ECF6\", \"polar\": {\"angularaxis\": {\"gridcolor\": \"white\", \"linecolor\": \"white\", \"ticks\": \"\"}, \"bgcolor\": \"#E5ECF6\", \"radialaxis\": {\"gridcolor\": \"white\", \"linecolor\": \"white\", \"ticks\": \"\"}}, \"scene\": {\"xaxis\": {\"backgroundcolor\": \"#E5ECF6\", \"gridcolor\": \"white\", \"gridwidth\": 2, \"linecolor\": \"white\", \"showbackground\": true, \"ticks\": \"\", \"zerolinecolor\": \"white\"}, \"yaxis\": {\"backgroundcolor\": \"#E5ECF6\", \"gridcolor\": \"white\", \"gridwidth\": 2, \"linecolor\": \"white\", \"showbackground\": true, \"ticks\": \"\", \"zerolinecolor\": \"white\"}, \"zaxis\": {\"backgroundcolor\": \"#E5ECF6\", \"gridcolor\": \"white\", \"gridwidth\": 2, \"linecolor\": \"white\", \"showbackground\": true, \"ticks\": \"\", \"zerolinecolor\": \"white\"}}, \"shapedefaults\": {\"line\": {\"color\": \"#2a3f5f\"}}, \"ternary\": {\"aaxis\": {\"gridcolor\": \"white\", \"linecolor\": \"white\", \"ticks\": \"\"}, \"baxis\": {\"gridcolor\": \"white\", \"linecolor\": \"white\", \"ticks\": \"\"}, \"bgcolor\": \"#E5ECF6\", \"caxis\": {\"gridcolor\": \"white\", \"linecolor\": \"white\", \"ticks\": \"\"}}, \"title\": {\"x\": 0.05}, \"xaxis\": {\"automargin\": true, \"gridcolor\": \"white\", \"linecolor\": \"white\", \"ticks\": \"\", \"title\": {\"standoff\": 15}, \"zerolinecolor\": \"white\", \"zerolinewidth\": 2}, \"yaxis\": {\"automargin\": true, \"gridcolor\": \"white\", \"linecolor\": \"white\", \"ticks\": \"\", \"title\": {\"standoff\": 15}, \"zerolinecolor\": \"white\", \"zerolinewidth\": 2}}}, \"title\": {\"text\": \"Mean NMF vector by topic\", \"x\": 0.5, \"xanchor\": \"center\", \"y\": 0.9, \"yanchor\": \"top\"}},                        {\"responsive\": true}                    ).then(function(){\n",
       "                            \n",
       "var gd = document.getElementById('72b47b31-dd1f-4350-bf62-5fe30f87ebd3');\n",
       "var x = new MutationObserver(function (mutations, observer) {{\n",
       "        var display = window.getComputedStyle(gd).display;\n",
       "        if (!display || display === 'none') {{\n",
       "            console.log([gd, 'removed!']);\n",
       "            Plotly.purge(gd);\n",
       "            observer.disconnect();\n",
       "        }}\n",
       "}});\n",
       "\n",
       "// Listen for the removal of the full notebook cells\n",
       "var notebookContainer = gd.closest('#notebook-container');\n",
       "if (notebookContainer) {{\n",
       "    x.observe(notebookContainer, {childList: true});\n",
       "}}\n",
       "\n",
       "// Listen for the clearing of the current output cell\n",
       "var outputEl = gd.closest('.output');\n",
       "if (outputEl) {{\n",
       "    x.observe(outputEl, {childList: true});\n",
       "}}\n",
       "\n",
       "                        })                };                });            </script>        </div>"
      ]
     },
     "metadata": {},
     "output_type": "display_data"
    }
   ],
   "source": [
    "from plotly.subplots import make_subplots\n",
    "import plotly.graph_objects as go\n",
    "\n",
    "\n",
    "categories = ['bright_floral_citrus', 'choc_woody_dark', 'tart_sweet_smooth','cacao_nut_clean', 'sweet_nut_pine', 'juicy_cacao_honey', 'red_berries','woody_nut_caramel', 'cherry_vinuous_choc']\n",
    "topics = ['Bright, Floral, Citrus', 'Chocolate, Dark, Woody', 'Tart, Sweet, Smooth','Cacao, Nutty, Clean', 'Sweet, Nut, Pine', 'Juicy, Honey, Cacao', 'Red Berries','Nutty, Caramel, Woody', 'Cherry, Vinuous, Chocolate']\n",
    "\n",
    "\n",
    "fig = go.Figure()\n",
    "\n",
    "for i in range(0,9):\n",
    "    fig.add_trace(go.Scatterpolar(\n",
    "          r=list(tableau[tableau.group == i][categories].mean()),\n",
    "          theta=topics,\n",
    "          fill='toself',\n",
    "          name=topics[i],\n",
    "        opacity = .5        \n",
    "    ))\n",
    "# fig.add_trace(go.Scatterpolar(\n",
    "#       r=list(tableau[tableau.group == 1][categories].mean()),\n",
    "#       theta=categories,\n",
    "#       fill='toself',\n",
    "#       name=topics[1]\n",
    "# ))\n",
    "\n",
    "fig.update_layout(\n",
    "        title = {\n",
    "            'text':'Mean NMF vector by topic',\n",
    "            'y':.9,\n",
    "            'x':.5,\n",
    "            'xanchor':'center',\n",
    "            'yanchor':'top'},\n",
    "        legend_title=\"NMF Topics\",\n",
    "  polar=dict(\n",
    "    radialaxis=dict(\n",
    "      visible=True,\n",
    "      range=[0, .12]\n",
    "    )),\n",
    "  showlegend=False\n",
    ")\n",
    "# fig.write_image(r'C:\\Users\\ejfel\\Documents\\metis_repos\\Coffee-Reviews-NLP\\Visuals\\spider.png')\n",
    "fig.show()\n",
    "\n"
   ]
  },
  {
   "cell_type": "code",
   "execution_count": 82,
   "metadata": {},
   "outputs": [
    {
     "name": "stderr",
     "output_type": "stream",
     "text": [
      "ERROR: Could not open requirements file: [Errno 2] No such file or directory: 'plotly'\n"
     ]
    }
   ],
   "source": [
    "!pip install -c plotly plotly-orca"
   ]
  },
  {
   "cell_type": "code",
   "execution_count": null,
   "metadata": {},
   "outputs": [],
   "source": []
  }
 ],
 "metadata": {
  "kernelspec": {
   "display_name": "Python 3",
   "language": "python",
   "name": "python3"
  },
  "language_info": {
   "codemirror_mode": {
    "name": "ipython",
    "version": 3
   },
   "file_extension": ".py",
   "mimetype": "text/x-python",
   "name": "python",
   "nbconvert_exporter": "python",
   "pygments_lexer": "ipython3",
   "version": "3.8.3"
  }
 },
 "nbformat": 4,
 "nbformat_minor": 4
}
