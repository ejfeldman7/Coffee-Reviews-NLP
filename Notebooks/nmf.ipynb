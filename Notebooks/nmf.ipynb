{
 "cells": [
  {
   "cell_type": "markdown",
   "metadata": {},
   "source": [
    "# Non-negative Matrix Factorization\n",
    "\n",
    "In this notebook, there are a number of attempts at topic modeling on coffee reviews. This included making different NMF models based on different subsets of text, different numbers of topics, and using a CountVectorizer or TFIDF embedding"
   ]
  },
  {
   "cell_type": "code",
   "execution_count": 5,
   "metadata": {},
   "outputs": [],
   "source": [
    "import pandas as pd\n",
    "pd.set_option('display.max_columns', None)\n",
    "import numpy as np\n",
    "import re\n",
    "from IPython.core.display import display, HTML\n",
    "from bs4 import BeautifulSoup\n",
    "import requests\n",
    "import seaborn as sns\n",
    "import matplotlib.pyplot as plt\n",
    "import pickle\n",
    "from collections import defaultdict "
   ]
  },
  {
   "cell_type": "code",
   "execution_count": 6,
   "metadata": {},
   "outputs": [],
   "source": [
    "#data wrangling packages\n",
    "from sklearn.manifold import TSNE\n",
    "import random \n",
    "random.seed(13)\n",
    "\n",
    "#visualization packages\n",
    "import matplotlib.patches as mpatches\n",
    "import matplotlib\n",
    "%matplotlib inline\n",
    "\n",
    "import nltk\n",
    "# nltk.download('punkt')\n",
    "nltk.download('wordnet')\n",
    "nltk.download('stopwords')\n",
    "# nltk.download('maxent_ne_chunker')\n",
    "# nltk.download('words')\n",
    "from sklearn.feature_extraction.text import CountVectorizer\n",
    "from nltk.tokenize import word_tokenize\n",
    "from sklearn.feature_extraction.text import TfidfVectorizer"
   ]
  },
  {
   "cell_type": "code",
   "execution_count": 7,
   "metadata": {},
   "outputs": [],
   "source": [
    "with open('coffee_words.pickle','rb') as read_file:\n",
    "    coffee = pickle.load(read_file)\n",
    "with open('coffee_ratings.pickle','rb') as read_file:\n",
    "    ratings = pickle.load(read_file)\n",
    "ratings = ratings.reset_index().rename(columns={'index':'Roaster'})\n",
    "with open('df_full.pickle','rb') as read_file:\n",
    "    df = pickle.load(read_file)\n",
    "with open('df_topic_breakdown.pickle','rb') as read_file:\n",
    "    df_topic_breakdown = pickle.load(read_file)\n",
    "    \n",
    "with open('blindtfidf_vec.pickle', 'rb') as read_file:\n",
    "    blindtfidf = pickle.load(read_file)\n",
    "with open('blindtfidf_mat.pickle', 'rb') as read_file:\n",
    "    tfidf_blind = pickle.load(read_file)"
   ]
  },
  {
   "cell_type": "code",
   "execution_count": 8,
   "metadata": {},
   "outputs": [],
   "source": [
    "from nltk.corpus import stopwords\n",
    "sw = stopwords.words(\"english\")\n",
    "sw = sw + ['coffee','coffees','cup','john', 'diruocco','jen','apodaca','ken','kevin','keurig','espresso','serve','capsule','device','serving','flavor','notes','mouthfeel','aroma','finish','brewed','brewing','parts','one','two','three','evaluate','evaluated','hint']"
   ]
  },
  {
   "cell_type": "markdown",
   "metadata": {},
   "source": [
    "In the cell above, the stopwords from the NLTK corpus (and, the, it, etc.) are augmented with some specific to the reviews found in this corpus that are either ubiqutous (coffee, cup), unrelated to the coffee (john, jen, etc.), relate to a category and not the coffee itself (flavor, notes, etc.), or are related to the preparation and not the analysis (keurig, espresso, etc). \n",
    "\n",
    "### Corpus by Coffees\n",
    "\n",
    "Below, you can see the first few reviews in the dataframe. While numerous attempts were made concerning all the text, just reviews, just notes, or just summaries, the eventual conclusion is that the Review portion of the website, which is a blind assessment, most succintly and clearly describes the experience of drinking the coffee."
   ]
  },
  {
   "cell_type": "code",
   "execution_count": 6,
   "metadata": {},
   "outputs": [
    {
     "data": {
      "text/html": [
       "<div>\n",
       "<style scoped>\n",
       "    .dataframe tbody tr th:only-of-type {\n",
       "        vertical-align: middle;\n",
       "    }\n",
       "\n",
       "    .dataframe tbody tr th {\n",
       "        vertical-align: top;\n",
       "    }\n",
       "\n",
       "    .dataframe thead th {\n",
       "        text-align: right;\n",
       "    }\n",
       "</style>\n",
       "<table border=\"1\" class=\"dataframe\">\n",
       "  <thead>\n",
       "    <tr style=\"text-align: right;\">\n",
       "      <th></th>\n",
       "      <th>Roaster</th>\n",
       "      <th>Review</th>\n",
       "      <th>Notes</th>\n",
       "      <th>TLDR</th>\n",
       "    </tr>\n",
       "  </thead>\n",
       "  <tbody>\n",
       "    <tr>\n",
       "      <th>0</th>\n",
       "      <td>Jackrabbit Java</td>\n",
       "      <td>Yeasty, richly sweet-savory. Fresh-baked bread...</td>\n",
       "      <td>Processed by the anaerobic natural method (who...</td>\n",
       "      <td>An anaerobically processed coffee with rich st...</td>\n",
       "    </tr>\n",
       "    <tr>\n",
       "      <th>1</th>\n",
       "      <td>Jackrabbit Java</td>\n",
       "      <td>Balanced, sweet-toned, floral. Tea rose, cocoa...</td>\n",
       "      <td>Produced at Mahembe Farm and processed at the ...</td>\n",
       "      <td>A friendly, classic Rwanda cup: balanced, deep...</td>\n",
       "    </tr>\n",
       "    <tr>\n",
       "      <th>2</th>\n",
       "      <td>Red Rooster Coffee Roaster</td>\n",
       "      <td>Delicate, deep; complex. Pomegranate, macadami...</td>\n",
       "      <td>This coffee earned the highest rating in a cup...</td>\n",
       "      <td>An intricately original natural-processed Colo...</td>\n",
       "    </tr>\n",
       "    <tr>\n",
       "      <th>3</th>\n",
       "      <td>Paradise Roasters</td>\n",
       "      <td>Very sweet, floral-toned. Freesia, pink grapef...</td>\n",
       "      <td>This coffee tied for the second-highest rating...</td>\n",
       "      <td>A sweetly evocative presentation of Colombia P...</td>\n",
       "    </tr>\n",
       "    <tr>\n",
       "      <th>4</th>\n",
       "      <td>Kakalove Cafe</td>\n",
       "      <td>Opulent, richly sweet-tart-savory. Black curra...</td>\n",
       "      <td>This coffee tied for the second-highest rating...</td>\n",
       "      <td>A rich, complex, decadently sweet cup processe...</td>\n",
       "    </tr>\n",
       "  </tbody>\n",
       "</table>\n",
       "</div>"
      ],
      "text/plain": [
       "                      Roaster  \\\n",
       "0             Jackrabbit Java   \n",
       "1             Jackrabbit Java   \n",
       "2  Red Rooster Coffee Roaster   \n",
       "3           Paradise Roasters   \n",
       "4               Kakalove Cafe   \n",
       "\n",
       "                                              Review  \\\n",
       "0  Yeasty, richly sweet-savory. Fresh-baked bread...   \n",
       "1  Balanced, sweet-toned, floral. Tea rose, cocoa...   \n",
       "2  Delicate, deep; complex. Pomegranate, macadami...   \n",
       "3  Very sweet, floral-toned. Freesia, pink grapef...   \n",
       "4  Opulent, richly sweet-tart-savory. Black curra...   \n",
       "\n",
       "                                               Notes  \\\n",
       "0  Processed by the anaerobic natural method (who...   \n",
       "1  Produced at Mahembe Farm and processed at the ...   \n",
       "2  This coffee earned the highest rating in a cup...   \n",
       "3  This coffee tied for the second-highest rating...   \n",
       "4  This coffee tied for the second-highest rating...   \n",
       "\n",
       "                                                TLDR  \n",
       "0  An anaerobically processed coffee with rich st...  \n",
       "1  A friendly, classic Rwanda cup: balanced, deep...  \n",
       "2  An intricately original natural-processed Colo...  \n",
       "3  A sweetly evocative presentation of Colombia P...  \n",
       "4  A rich, complex, decadently sweet cup processe...  "
      ]
     },
     "execution_count": 6,
     "metadata": {},
     "output_type": "execute_result"
    }
   ],
   "source": [
    "coffee.head()"
   ]
  },
  {
   "cell_type": "code",
   "execution_count": 10,
   "metadata": {},
   "outputs": [],
   "source": [
    "# Function used to display topics from NMF models\n",
    "def display_topics(model, feature_names, no_top_words, topic_names=None):\n",
    "    for ix, topic in enumerate(model.components_):\n",
    "        if not topic_names or not topic_names[ix]:\n",
    "            print(\"\\nTopic \", ix)\n",
    "        else:\n",
    "            print(\"\\nTopic: '\",topic_names[ix],\"'\")\n",
    "        print(\", \".join([feature_names[i]\n",
    "                        for i in topic.argsort()[:-no_top_words - 1:-1]]))"
   ]
  },
  {
   "cell_type": "markdown",
   "metadata": {},
   "source": [
    "## Let's start seeing about potential topics for the reviews!"
   ]
  },
  {
   "cell_type": "code",
   "execution_count": null,
   "metadata": {},
   "outputs": [],
   "source": [
    "from sklearn.decomposition import NMF"
   ]
  },
  {
   "cell_type": "code",
   "execution_count": null,
   "metadata": {},
   "outputs": [],
   "source": [
    "nmf_tfidffull.components_"
   ]
  },
  {
   "cell_type": "code",
   "execution_count": null,
   "metadata": {},
   "outputs": [],
   "source": [
    "nmf_tfidffull= NMF(6)\n",
    "fulltfidf_topic = nmf_tfidffull.fit_transform(tfidf_full)\n",
    "fulltopic_tfidf = pd.DataFrame(nmf_tfidffull.components_.round(3),\n",
    "#              index = [\"component_1\",\"component_2\"],\n",
    "             columns = fulltfidf.get_feature_names())\n",
    "display_topics(nmf_tfidffull, fulltfidf.get_feature_names(), 10)"
   ]
  },
  {
   "cell_type": "markdown",
   "metadata": {},
   "source": [
    "## NMF on blind reviews"
   ]
  },
  {
   "cell_type": "code",
   "execution_count": null,
   "metadata": {},
   "outputs": [],
   "source": [
    "nmf_blind= NMF(3)\n",
    "blinddoc_topic = nmf_blind.fit_transform(blind_word)\n",
    "blindtopic_word = pd.DataFrame(nmf_blind.components_.round(3),\n",
    "#              index = [\"component_1\",\"component_2\"],\n",
    "             columns = blindvectorizer.get_feature_names())\n",
    "display_topics(nmf_blind, blindvectorizer.get_feature_names(), 10)"
   ]
  },
  {
   "cell_type": "code",
   "execution_count": null,
   "metadata": {},
   "outputs": [],
   "source": [
    "nmf_tfidfblind= NMF(9)\n",
    "blindtfidf_topic = nmf_tfidfblind.fit_transform(tfidf_blind)\n",
    "blindtopic_tfidf = pd.DataFrame(nmf_tfidfblind.components_.round(3),\n",
    "#              index = [\"component_1\",\"component_2\"],\n",
    "             columns = blindtfidf.get_feature_names())\n",
    "display_topics(nmf_tfidfblind, blindtfidf.get_feature_names(), 10)"
   ]
  },
  {
   "cell_type": "code",
   "execution_count": null,
   "metadata": {},
   "outputs": [],
   "source": [
    "blindtfidf_topic"
   ]
  },
  {
   "cell_type": "code",
   "execution_count": null,
   "metadata": {},
   "outputs": [],
   "source": [
    "with open('nmf_tfidfblind.pickle', 'wb') as to_write:\n",
    "    pickle.dump(nmf_tfidfblind, to_write)\n",
    "\n",
    "with open('blindtfidf_topic.pickle', 'wb') as to_write:\n",
    "    pickle.dump(blindtfidf_topic, to_write)\n",
    "\n",
    "with open('blindtopic_tfidf.pickle', 'wb') as to_write:\n",
    "    pickle.dump(blindtopic_tfidf, to_write)"
   ]
  },
  {
   "cell_type": "markdown",
   "metadata": {},
   "source": [
    "## NMF on TLDR\n",
    "min_df=20, max_df=1000 with 7 or 8 topics starts getting what seem to be real profiles\n",
    "Reducing max_df from 3000 to 1000 only eliminates 4 words from corpus (coffee, cup, fruit, sweet)\n",
    "3000 to 1500 only removes cup, to 1200 removes coffee and cup"
   ]
  },
  {
   "cell_type": "code",
   "execution_count": null,
   "metadata": {},
   "outputs": [],
   "source": [
    "nmf_tldr2 = NMF(2)\n",
    "tldrdoc_topic2 = nmf_tldr2.fit_transform(tldr_word)\n",
    "tldrtopic_word2 = pd.DataFrame(nmf_tldr2.components_.round(3),\n",
    "             index = [\"component_1\",\"component_2\"],\n",
    "             columns = tldrvectorizer.get_feature_names())\n",
    "display_topics(nmf_tldr2, tldrvectorizer.get_feature_names(), 10)"
   ]
  },
  {
   "cell_type": "markdown",
   "metadata": {},
   "source": [
    "## NMF on the full text of all reviews, notes, and summaries\n",
    "\n",
    "### Notes for two topics\n",
    "We begin to see more common terms of robust notes chocolate, rich, dark, roast in the first topic\n",
    "We see more delicate terms in the second like fruit, floral, ethiopia, washed"
   ]
  },
  {
   "cell_type": "code",
   "execution_count": null,
   "metadata": {},
   "outputs": [],
   "source": [
    "nmf_model2 = NMF(2)\n",
    "doc_topic2 = nmf_model2.fit_transform(doc_word)"
   ]
  },
  {
   "cell_type": "code",
   "execution_count": null,
   "metadata": {},
   "outputs": [],
   "source": [
    "topic_word = pd.DataFrame(nmf_model2.components_.round(3),\n",
    "             index = [\"component_1\",\"component_2\"],\n",
    "             columns = vectorizer.get_feature_names())\n",
    "topic_word.sort_values(by='component_1',axis=1,ascending=False)"
   ]
  },
  {
   "cell_type": "code",
   "execution_count": null,
   "metadata": {},
   "outputs": [],
   "source": [
    "display_topics(nmf_model2, vectorizer.get_feature_names(), 10)"
   ]
  },
  {
   "cell_type": "code",
   "execution_count": null,
   "metadata": {},
   "outputs": [],
   "source": [
    "nmf_model3 = NMF(3)\n",
    "doc_topic3 = nmf_model3.fit_transform(doc_word)\n",
    "topic_word = pd.DataFrame(nmf_model3.components_.round(3),\n",
    "             index = [\"component_1\",\"component_2\",\"component_3\"],\n",
    "             columns = vectorizer.get_feature_names())\n",
    "display_topics(nmf_model3, vectorizer.get_feature_names(), 10)"
   ]
  },
  {
   "cell_type": "markdown",
   "metadata": {},
   "source": [
    "## Assignments to the different topics for each review were added to the original text datarame for further analysis"
   ]
  },
  {
   "cell_type": "code",
   "execution_count": null,
   "metadata": {},
   "outputs": [],
   "source": [
    "blindtfidf_topic[0]"
   ]
  },
  {
   "cell_type": "code",
   "execution_count": null,
   "metadata": {},
   "outputs": [],
   "source": [
    "topic_vect = pd.DataFrame(blindtfidf_topic,columns=['bright_floral_citrus','choc_woody_dark','tart_sweet_smooth','cacao_nut_clean','sweet_nut_pine','juicy_cacao_honey','red_berries','woody_nut_caramel','cherry_vinuous_choc'])"
   ]
  },
  {
   "cell_type": "code",
   "execution_count": null,
   "metadata": {},
   "outputs": [],
   "source": [
    "df_topic_breakdown = pd.DataFrame()\n",
    "df_topic_breakdown['roaster'] = df['Roaster']\n",
    "df_topic_breakdown['origin'] = ratings['Coffee Origin']\n",
    "df_topic_breakdown['roast_level'] = ratings['Roast Level']\n",
    "df_topic_breakdown['rating'] = ratings.Overall\n",
    "df_topic_breakdown['length'] = coffee.Review.str.replace(r'\\d+','',regex=True).str.len()\n",
    "df_topic_breakdown['word count'] = blind_word.todense().sum(axis=1)\n",
    "df_topic_breakdown['group'] = df['Topic']\n",
    "df_topic_breakdown = pd.concat([df_topic_breakdown,topic_vect],axis=1)"
   ]
  },
  {
   "cell_type": "code",
   "execution_count": null,
   "metadata": {},
   "outputs": [],
   "source": [
    "with open('df_topic_breakdown.pickle', 'wb') as to_write:\n",
    "    pickle.dump(df_topic_breakdown, to_write)"
   ]
  },
  {
   "cell_type": "code",
   "execution_count": null,
   "metadata": {},
   "outputs": [],
   "source": [
    "counts = df['Topic'].value_counts()\n",
    "\n",
    "counts.plot(kind='bar')"
   ]
  },
  {
   "cell_type": "code",
   "execution_count": null,
   "metadata": {},
   "outputs": [],
   "source": [
    "df[df['Ten Topic'] == 1].iloc[15].Text"
   ]
  },
  {
   "cell_type": "markdown",
   "metadata": {},
   "source": [
    "## Below is a plot of the distribution of assignments to the various topics from two topics down to ten topics\n",
    "\n",
    "This was completed on some initial versions of the NMF topics as a potential use for predicting coffee scores, but did not ultimately carry as much weight there or in gaining interpretation in topics. The plot below was valuable to better understand how coffee reviews eventually were distributed across a variety of topics, moreso to understand NMF than the coffees."
   ]
  },
  {
   "cell_type": "code",
   "execution_count": null,
   "metadata": {},
   "outputs": [],
   "source": [
    "two = df['Two Topic'].value_counts()\n",
    "three = df['Three Topic'].value_counts()\n",
    "four = df['Four Topic'].value_counts()\n",
    "five = df['Five Topic'].value_counts()\n",
    "six = df['Six Topic'].value_counts()\n",
    "seven = df['Seven Topic'].value_counts()\n",
    "eight = df['Eight Topic'].value_counts()\n",
    "nine = df['Nine Topic'].value_counts()\n",
    "ten = df['Ten Topic'].value_counts()\n",
    "\n",
    "fig, axes = plt.subplots(nrows=3, ncols=3, figsize=(15,10))\n",
    "fig.suptitle('Distributions of Topics from Text')\n",
    "\n",
    "two.plot(ax=axes[0,0], kind='bar')\n",
    "three.plot(ax=axes[0,1], kind='bar')\n",
    "four.plot(ax=axes[0,2], kind='bar')\n",
    "five.plot(ax=axes[1,0], kind='bar')\n",
    "six.plot(ax=axes[1,1], kind='bar')\n",
    "seven.plot(ax=axes[1,2], kind='bar')\n",
    "eight.plot(ax=axes[2,0], kind='bar')\n",
    "nine.plot(ax=axes[2,1], kind='bar')\n",
    "ten.plot(ax=axes[2,2], kind='bar')"
   ]
  },
  {
   "cell_type": "markdown",
   "metadata": {},
   "source": [
    "## Using the three topic model above as an example, ratings from the ratings data set can be compiled for comparison across the different topics."
   ]
  },
  {
   "cell_type": "code",
   "execution_count": null,
   "metadata": {},
   "outputs": [],
   "source": [
    "combined = pd.DataFrame()\n",
    "combined['roaster'] = df['Roaster']\n",
    "combined['origin'] = ratings['Coffee Origin']\n",
    "combined['roast_level'] = ratings['Roast Level']\n",
    "combined['group'] = df['Topic']\n",
    "combined['rating'] = ratings.Overall\n",
    "combined['aroma'] = ratings.Aroma\n",
    "combined['body'] = ratings.Body\n",
    "combined['flavor'] = ratings.Flavor\n",
    "combined['aftertaste'] = ratings.Aftertaste\n",
    "combined['acidity'] = ratings.Acidity\n",
    "combined.sample(5)"
   ]
  },
  {
   "cell_type": "code",
   "execution_count": null,
   "metadata": {},
   "outputs": [],
   "source": [
    "# How does the overall rating of coffee compare across the three topics?\n",
    "combined.loc[combined.rating == 'NR','rating'] = '-999'\n",
    "combined.rating = combined.rating.astype(int)\n",
    "combined[combined.rating>0].groupby(by='group').rating.mean()"
   ]
  },
  {
   "cell_type": "code",
   "execution_count": null,
   "metadata": {},
   "outputs": [],
   "source": [
    "# How does the aroma rating of coffee compare across the three topics?\n",
    "combined.loc[(combined.aroma == 'NR')|(combined.aroma == 'NA'),'aroma'] = '-999'\n",
    "combined.aroma = combined.aroma.astype(float)\n",
    "combined.aroma = combined.aroma.round(0)\n",
    "combined[combined.aroma>0].groupby(by='group').aroma.mean()"
   ]
  },
  {
   "cell_type": "code",
   "execution_count": null,
   "metadata": {},
   "outputs": [],
   "source": [
    "# How does the body rating of coffee compare across the three topics?\n",
    "combined.loc[(combined.body == 'NR')|(combined.body == 'NA'),'body'] = '-999'\n",
    "combined.body = combined.body.astype(float)\n",
    "combined.body = combined.body.round(0)\n",
    "combined[combined.body>0].groupby(by='group').body.mean()"
   ]
  },
  {
   "cell_type": "code",
   "execution_count": null,
   "metadata": {},
   "outputs": [],
   "source": [
    "# How does the flavor rating of coffee compare across the three topics?\n",
    "combined.loc[(combined.flavor == 'NR')|(combined.flavor == 'NA'),'flavor'] = '-999'\n",
    "combined.flavor = combined.flavor.astype(float)\n",
    "combined.flavor = combined.flavor.round(0)\n",
    "combined[combined.flavor>0].groupby(by='group').flavor.mean()"
   ]
  },
  {
   "cell_type": "code",
   "execution_count": null,
   "metadata": {},
   "outputs": [],
   "source": [
    "# How does the aftertaste rating of coffee compare across the three topics?\n",
    "combined.aftertaste.fillna('-999',inplace=True)\n",
    "combined.aftertaste = combined.aftertaste.astype(float)\n",
    "combined.aftertaste = combined.aftertaste.round(0)\n",
    "combined[combined.aftertaste>0].groupby(by='group').aftertaste.mean()"
   ]
  },
  {
   "cell_type": "code",
   "execution_count": null,
   "metadata": {},
   "outputs": [],
   "source": [
    "# How does the acidity rating of coffee compare across the three topics?\n",
    "combined.loc[(combined.acidity == 'NR')|(combined.acidity == 'NA')|(combined.acidity == 'na')|(combined.acidity == 'n/a'),'acidity'] = '-999'\n",
    "combined.loc[(combined.acidity == 'Very Low'),'acidity'] = '1'\n",
    "combined.loc[(combined.acidity == 'Low'),'acidity'] = '3'\n",
    "combined.loc[(combined.acidity == 'Moderate'),'acidity'] = '5'\n",
    "combined.acidity.fillna(-999,inplace=True)\n",
    "combined.acidity = combined.acidity.astype(float)\n",
    "combined.acidity = combined.acidity.round(0)\n",
    "combined[combined.acidity>0].groupby(by='group').acidity.mean()"
   ]
  },
  {
   "cell_type": "code",
   "execution_count": null,
   "metadata": {},
   "outputs": [],
   "source": [
    "topic_df = combined[combined['origin'].isnull() == False][['roaster','origin','roast_level','group']]\n",
    "topic_df.sample(20)"
   ]
  },
  {
   "cell_type": "code",
   "execution_count": null,
   "metadata": {},
   "outputs": [],
   "source": [
    "with open('combined.pickle', 'wb') as to_write:\n",
    "    pickle.dump(combined, to_write)"
   ]
  },
  {
   "cell_type": "code",
   "execution_count": null,
   "metadata": {},
   "outputs": [],
   "source": [
    "combined.head()"
   ]
  },
  {
   "cell_type": "code",
   "execution_count": null,
   "metadata": {},
   "outputs": [],
   "source": [
    "df['rating'] =  combined['rating'] "
   ]
  },
  {
   "cell_type": "code",
   "execution_count": null,
   "metadata": {},
   "outputs": [],
   "source": [
    "with open('df.pickle', 'wb') as to_write:\n",
    "    pickle.dump(df, to_write)"
   ]
  },
  {
   "cell_type": "code",
   "execution_count": null,
   "metadata": {},
   "outputs": [],
   "source": [
    "feature_matrix = vectorizer.transform(df.Text.str.replace(r'\\d+','',regex=True))\n",
    "#Transform the data\n",
    "data = nmf_model10.transform(feature_matrix.todense())\n",
    "data"
   ]
  },
  {
   "cell_type": "code",
   "execution_count": null,
   "metadata": {},
   "outputs": [],
   "source": [
    "feature_matrix = vectorizer.transform(df.Text.str.replace(r'\\d+','',regex=True))\n",
    "#Transform the data\n",
    "data = nmf_model2.transform(feature_matrix.todense())\n",
    "data\n",
    "\n",
    "label = doc_topic2.argmax(axis=1)\n",
    "#Getting unique labels\n",
    "#plotting the results:\n",
    "plt.figure(figsize=(10,8))\n",
    "for i in range(0,10):\n",
    "    plt.scatter(data[label == i , 0] , data[label == i , 1] , label = i)\n",
    "plt.legend(['Light Roast','Dark Roast'],fontsize='large')\n",
    "plt.show()"
   ]
  },
  {
   "cell_type": "code",
   "execution_count": null,
   "metadata": {},
   "outputs": [],
   "source": [
    "label = blindtfidf_topic.argmax(axis=1)\n",
    "#Getting unique labels\n",
    "#plotting the results:\n",
    "plt.figure(figsize=(12,8))\n",
    "for i in range(0,10):\n",
    "    plt.scatter(data[label == i , 0] , data[label == i , 1] , label = i)\n",
    "plt.legend(['Ethiopia','Dark','Fair Trade','Easy Brew','Processing','Tart/Cocoa','Peaberries','Rich/Floral','Geisha/Floral','Kenya/Fruit'],fontsize='large')\n",
    "plt.show()"
   ]
  },
  {
   "cell_type": "code",
   "execution_count": null,
   "metadata": {},
   "outputs": [],
   "source": [
    "feature_matrix = blindtfidf.transform(coffee.Review.str.replace(r'\\d+','',regex=True))\n",
    "#Transform the data\n",
    "data = nmf_tfidfblind.transform(feature_matrix.todense())\n",
    "\n",
    "label = blindtfidf_topic.argmax(axis=1)\n",
    "#Getting unique labels\n",
    "#plotting the results:\n",
    "plt.figure(figsize=(12,8))\n",
    "for i in range(0,10):\n",
    "    plt.scatter(data[label == i , 0] , data[label == i , 1] , label = i)\n",
    "plt.legend(['Natural Ethiopia (Floral/Fruit)','Vinuous/Complex','Sweet/Savory/Tart','Espresso Drink','Darker Roast/Choc','Floral/Spice/Nut','Kenya/Bright/Acidic/Juicy','Citrus/Floral/Woody'],fontsize='large')\n",
    "plt.show()"
   ]
  },
  {
   "cell_type": "markdown",
   "metadata": {},
   "source": [
    "## Coffees with strongest links to the topics"
   ]
  },
  {
   "cell_type": "code",
   "execution_count": null,
   "metadata": {},
   "outputs": [],
   "source": [
    "nmf_embedding = nmf_tfidfblind.transform(tfidf_blind)\n",
    "nmf_embedding = (nmf_embedding - nmf_embedding.mean(axis=0))/nmf_embedding.std(axis=0)\n",
    "\n",
    "top_idx = np.argsort(nmf_embedding,axis=0)[-3:]\n",
    "\n",
    "count = 0\n",
    "for idxs in top_idx.T: \n",
    "    print(\"\\nTopic {}:\".format(count))\n",
    "    for idx in idxs:\n",
    "        print(ratings.iloc[idx]['Roaster'],\": \",ratings.iloc[idx]['Coffee Origin'])\n",
    "    count += 1"
   ]
  },
  {
   "cell_type": "markdown",
   "metadata": {},
   "source": [
    "## T-SNE Visualization"
   ]
  },
  {
   "cell_type": "code",
   "execution_count": null,
   "metadata": {},
   "outputs": [],
   "source": [
    "topics = ['Bright, Floral, Citrus', 'Chocolate, Dark, Woody', 'Tart, Sweet, Smooth','Cacao, Nutty, Clean', 'Sweet, Hazelnut, Pine', 'Juicy, Honey, Cacao', 'Red Berries','Nutty, Caramel, Woody', 'Cherry, Vinous, Chocolate']"
   ]
  },
  {
   "cell_type": "code",
   "execution_count": null,
   "metadata": {},
   "outputs": [],
   "source": [
    "tsne10 = TSNE(random_state=3211,metric='cosine',perplexity=10,n_iter=5000,n_iter_without_progress=250)\n",
    "tsne10_embedding = tsne10.fit_transform(nmf_embedding)\n",
    "tsne10_embedding = pd.DataFrame(tsne10_embedding,columns=['x','y'])\n",
    "tsne10_embedding['hue'] = nmf_embedding.argmax(axis=1)\n",
    "\n",
    "# tsne30 = TSNE(random_state=3211,metric='cosine',perplexity=30,n_iter=5000,n_iter_without_progress=250)\n",
    "# tsne30_embedding = tsne30.fit_transform(nmf_embedding)\n",
    "# tsne30_embedding = pd.DataFrame(tsne30_embedding,columns=['x','y'])\n",
    "# tsne30_embedding['hue'] = nmf_embedding.argmax(axis=1)\n",
    "\n",
    "# tsne50 = TSNE(random_state=3211,metric='cosine',perplexity=50,n_iter=5000,n_iter_without_progress=250)\n",
    "# tsne50_embedding = tsne50.fit_transform(nmf_embedding)\n",
    "# tsne50_embedding = pd.DataFrame(tsne30_embedding,columns=['x','y'])\n",
    "# tsne50_embedding['hue'] = nmf_embedding.argmax(axis=1)"
   ]
  },
  {
   "cell_type": "code",
   "execution_count": null,
   "metadata": {},
   "outputs": [],
   "source": [
    "from matplotlib import cm\n",
    "colors = np.array([list(cm.tab10(0)),\n",
    "                  list(cm.tab10(1)),\n",
    "                  list(cm.tab10(2)),\n",
    "                  list(cm.tab10(3)),\n",
    "                  list(cm.tab10(4)),\n",
    "                  list(cm.tab10(5)),\n",
    "                  list(cm.tab10(6)),\n",
    "                  list(cm.tab10(7)),\n",
    "                  list(cm.tab10(8)),\n",
    "                  ])\n",
    "\n",
    "\n",
    "legend_list = []\n",
    "\n",
    "for i in range(len(topics)):   \n",
    "    color = colors[i]\n",
    "    legend_list.append(mpatches.Ellipse((0, 0), 1, 1, fc=color))"
   ]
  },
  {
   "cell_type": "code",
   "execution_count": null,
   "metadata": {},
   "outputs": [],
   "source": [
    "# Perplexity of 10\n",
    "matplotlib.rc('font',family='monospace')\n",
    "\n",
    "fig, axs = plt.subplots(1,1, figsize=(15, 15), facecolor='w', edgecolor='k')\n",
    "fig.subplots_adjust(hspace = .1, wspace=0)\n",
    "\n",
    "count = 0\n",
    "legend = []\n",
    "\n",
    "data = tsne10_embedding\n",
    "scatter = axs.scatter(data=data,x='x',y='y',s=6,c=data['hue'],cmap='tab10')\n",
    "axs.set_title('Blind Reviews from Coffee-Review.com',**{'fontsize':'10'})\n",
    "axs.axis('off')\n",
    "\n",
    "plt.suptitle(\"All Coffee Reviews Clustered by Category\",**{'fontsize':'14','weight':'bold'})\n",
    "plt.figtext(.51,0.95,'Unsupervised topic modeling with NMF based on textual content + 2D-embedding with t-SNE:', **{'fontsize':'10','weight':'light'}, ha='center')\n",
    "\n",
    "\n",
    "fig.legend(legend_list,topics,loc=(0.2,0.89),ncol=3)\n",
    "plt.subplots_adjust(top=0.85)\n",
    "plt.savefig(r'C:\\Users\\ejfel\\Documents\\metis_repos\\Coffee-Reviews-NLP\\tsne_nmf10')\n",
    "plt.show()"
   ]
  },
  {
   "cell_type": "code",
   "execution_count": null,
   "metadata": {},
   "outputs": [],
   "source": [
    "# Perplexity of 30\n",
    "matplotlib.rc('font',family='monospace')\n",
    "\n",
    "fig, axs = plt.subplots(1,1, figsize=(15, 15), facecolor='w', edgecolor='k')\n",
    "fig.subplots_adjust(hspace = .1, wspace=0)\n",
    "\n",
    "count = 0\n",
    "legend = []\n",
    "\n",
    "data = tsne30_embedding\n",
    "scatter = axs.scatter(data=data,x='x',y='y',s=6,c=data['hue'],cmap='tab10')\n",
    "axs.set_title('Blind Reviews from Coffee-Review.com',**{'fontsize':'10'})\n",
    "axs.axis('off')\n",
    "\n",
    "plt.suptitle(\"All Coffee Reviews Clustered by Category\",**{'fontsize':'14','weight':'bold'})\n",
    "plt.figtext(.51,0.95,'Unsupervised topic modeling with NMF based on textual content + 2D-embedding with t-SNE:', **{'fontsize':'10','weight':'light'}, ha='center')\n",
    "\n",
    "\n",
    "fig.legend(legend_list,topics,loc=(0.2,0.89),ncol=3)\n",
    "plt.subplots_adjust(top=0.85)\n",
    "plt.savefig(r'C:\\Users\\ejfel\\Documents\\metis_repos\\Coffee-Reviews-NLP\\tsne_nmf30')\n",
    "plt.show()"
   ]
  },
  {
   "cell_type": "code",
   "execution_count": null,
   "metadata": {},
   "outputs": [],
   "source": [
    "# Perplexity of 50\n",
    "matplotlib.rc('font',family='monospace')\n",
    "\n",
    "fig, axs = plt.subplots(1,1, figsize=(15, 15), facecolor='w', edgecolor='k')\n",
    "fig.subplots_adjust(hspace = .1, wspace=0)\n",
    "\n",
    "count = 0\n",
    "legend = []\n",
    "\n",
    "data = tsne50_embedding\n",
    "scatter = axs.scatter(data=data,x='x',y='y',s=6,c=data['hue'],cmap='tab10')\n",
    "axs.set_title('Blind Reviews from Coffee-Review.com',**{'fontsize':'10'})\n",
    "axs.axis('off')\n",
    "\n",
    "plt.suptitle(\"All Coffee Reviews Clustered by Category\",**{'fontsize':'14','weight':'bold'})\n",
    "plt.figtext(.51,0.95,'Unsupervised topic modeling with NMF based on textual content + 2D-embedding with t-SNE:', **{'fontsize':'10','weight':'light'}, ha='center')\n",
    "\n",
    "\n",
    "fig.legend(legend_list,topics,loc=(0.2,0.89),ncol=3)\n",
    "plt.subplots_adjust(top=0.85)\n",
    "plt.savefig(r'C:\\Users\\ejfel\\Documents\\metis_repos\\Coffee-Reviews-NLP\\tsne_nmf50')\n",
    "plt.show()"
   ]
  },
  {
   "cell_type": "code",
   "execution_count": null,
   "metadata": {},
   "outputs": [],
   "source": [
    "# tsne = TSNE(random_state=3211,metric='cosine')\n",
    "# tsne_embedding = tsne.fit_transform(nmf_embedding)\n",
    "# tsne_embedding = pd.DataFrame(tsne_embedding,columns=['x','y'])\n",
    "# tsne_embedding['hue'] = nmf_embedding.argmax(axis=1)\n",
    "from itertools import cycle\n",
    "X = nmf_embedding\n",
    "\n",
    "model = TSNE(n_components=2, random_state=0,verbose=0, metric='cosine')\n",
    "low_data = model.fit_transform(X)\n",
    "\n",
    "target = df_topic_breakdown.group\n",
    "\n",
    "\n",
    "colors = cycle(['r','g','b','c','m','y','orange','k','aqua','yellow'])\n",
    "target_ids = range(len(topics))\n",
    "plt.figure(dpi=150)\n",
    "for i, c, label in zip(target_ids, colors, topics):\n",
    "    plt.scatter(low_data[target == i, 0], low_data[target == i, 1], c=c, label=label, s=15, alpha=1)\n",
    "plt.legend(fontsize=8, bbox_to_anchor=(1.05, 1.0), loc='upper left', frameon=True, facecolor='#FFFFFF', edgecolor='#333333')\n",
    "plt.xlim(-100,100);\n",
    "plt.title(\"Coffee Description Clusters with TSNE\", fontsize=12)\n",
    "plt.ylabel(\"Junk TSNE Axis 2\", fontsize=12)\n",
    "plt.xlabel(\"Junk TSNE Axis 1\", fontsize=12);\n",
    "plt.xticks(fontsize=10)\n",
    "plt.yticks(fontsize=10);"
   ]
  },
  {
   "cell_type": "code",
   "execution_count": null,
   "metadata": {},
   "outputs": [],
   "source": []
  }
 ],
 "metadata": {
  "kernelspec": {
   "display_name": "Python 3",
   "language": "python",
   "name": "python3"
  },
  "language_info": {
   "codemirror_mode": {
    "name": "ipython",
    "version": 3
   },
   "file_extension": ".py",
   "mimetype": "text/x-python",
   "name": "python",
   "nbconvert_exporter": "python",
   "pygments_lexer": "ipython3",
   "version": "3.8.3"
  }
 },
 "nbformat": 4,
 "nbformat_minor": 4
}
