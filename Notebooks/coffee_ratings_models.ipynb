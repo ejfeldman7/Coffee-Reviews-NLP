{
 "cells": [
  {
   "cell_type": "code",
   "execution_count": 1,
   "metadata": {},
   "outputs": [],
   "source": [
    "import pandas as pd\n",
    "pd.set_option('display.max_columns', None)\n",
    "import numpy as np\n",
    "import re\n",
    "import requests\n",
    "import pickle\n",
    "import seaborn as sns\n",
    "import matplotlib.pyplot as plt\n",
    "\n",
    "from sklearn.model_selection import train_test_split\n",
    "from sklearn.linear_model import LinearRegression\n",
    "from sklearn.metrics import r2_score\n",
    "from sklearn.model_selection import KFold\n",
    "from sklearn.preprocessing import StandardScaler, PolynomialFeatures, OneHotEncoder\n",
    "from sklearn.metrics import mean_squared_error\n",
    "from sklearn.linear_model import LinearRegression, Lasso, LassoCV, Ridge, RidgeCV\n"
   ]
  },
  {
   "cell_type": "code",
   "execution_count": 2,
   "metadata": {},
   "outputs": [],
   "source": [
    "with open('coffee_words.pickle','rb') as read_file:\n",
    "    coffee = pickle.load(read_file)\n",
    "with open('coffee_ratings.pickle','rb') as read_file:\n",
    "    ratings = pickle.load(read_file)\n",
    "with open('combined.pickle','rb') as read_file:\n",
    "    combined = pickle.load(read_file)\n",
    "with open('df_full.pickle','rb') as read_file:\n",
    "    df = pickle.load(read_file)\n",
    "with open('df_topic_breakdown.pickle','rb') as read_file:\n",
    "    df_topic_breakdown = pickle.load(read_file)\n",
    "with open('sentiment.pickle','rb') as read_file:\n",
    "    sentiment = pickle.load(read_file)\n",
    "\n",
    "with open('blindtfidf_vec.pickle', 'rb') as read_file:\n",
    "    blindtfidf = pickle.load(read_file)\n",
    "with open('blindtfidf_mat.pickle', 'rb') as read_file:\n",
    "    tfidf_blind = pickle.load(read_file)"
   ]
  },
  {
   "cell_type": "code",
   "execution_count": 17,
   "metadata": {},
   "outputs": [],
   "source": [
    "#Mean Absolute Error (MAE)\n",
    "def mae(y_true, y_pred):\n",
    "    return np.mean(np.abs(y_pred - y_true))"
   ]
  },
  {
   "cell_type": "markdown",
   "metadata": {},
   "source": [
    "## Predicting Rating based on topic assignment"
   ]
  },
  {
   "cell_type": "code",
   "execution_count": 3,
   "metadata": {},
   "outputs": [],
   "source": [
    "df_topic_breakdown = pd.concat([df_topic_breakdown,sentiment.drop(columns=['roaster','review'])],axis=1)"
   ]
  },
  {
   "cell_type": "code",
   "execution_count": 4,
   "metadata": {},
   "outputs": [
    {
     "data": {
      "text/plain": [
       "Index(['roaster', 'origin', 'roast_level', 'rating', 'length', 'word count',\n",
       "       'group', 'bright_floral_citrus', 'choc_woody_dark', 'tart_sweet_smooth',\n",
       "       'cacao_nut_clean', 'sweet_nut_pine', 'juicy_cacao_honey', 'red_berries',\n",
       "       'woody_nut_caramel', 'cherry_vinuous_choc', 'pos', 'neg', 'compound'],\n",
       "      dtype='object')"
      ]
     },
     "execution_count": 4,
     "metadata": {},
     "output_type": "execute_result"
    }
   ],
   "source": [
    "df_topic_breakdown.columns"
   ]
  },
  {
   "cell_type": "code",
   "execution_count": 372,
   "metadata": {},
   "outputs": [],
   "source": [
    "df_topic_breakdown.to_csv(path_or_buf=r'C:\\Users\\ejfel\\Documents\\metis_repos\\Coffee-Reviews-NLP\\coffee')"
   ]
  },
  {
   "cell_type": "markdown",
   "metadata": {},
   "source": [
    "## RFR on subscores to predict score"
   ]
  },
  {
   "cell_type": "code",
   "execution_count": 5,
   "metadata": {},
   "outputs": [],
   "source": [
    "from sklearn.ensemble import RandomForestRegressor"
   ]
  },
  {
   "cell_type": "code",
   "execution_count": 8,
   "metadata": {},
   "outputs": [],
   "source": [
    "features = ['aroma','body','flavor','aftertaste','acidity']\n",
    "useful = combined[(combined.rating>0)&(combined.aroma>0)&(combined.body>0)&(combined.flavor>0)&(combined.aftertaste>0)&(combined.acidity>0)]\n",
    "numerical_X, X_numerical, numerical_y, y_numerical = train_test_split(useful[features],useful.rating,test_size=.2,random_state=42)"
   ]
  },
  {
   "cell_type": "code",
   "execution_count": 9,
   "metadata": {},
   "outputs": [
    {
     "name": "stdout",
     "output_type": "stream",
     "text": [
      "0.9561816365496244\n",
      "0.9411986097602637\n"
     ]
    }
   ],
   "source": [
    "rf_numerical = RandomForestRegressor(max_depth=10, n_estimators=500,criterion='mse', random_state=0)\n",
    "rf_numerical.fit(numerical_X, numerical_y)\n",
    "print(rf_numerical.score(numerical_X, numerical_y))\n",
    "print(rf_numerical.score(X_numerical, y_numerical))"
   ]
  },
  {
   "cell_type": "code",
   "execution_count": 351,
   "metadata": {},
   "outputs": [
    {
     "name": "stdout",
     "output_type": "stream",
     "text": [
      "Fitting 3 folds for each of 100 candidates, totalling 300 fits\n"
     ]
    },
    {
     "name": "stderr",
     "output_type": "stream",
     "text": [
      "[Parallel(n_jobs=-1)]: Using backend LokyBackend with 8 concurrent workers.\n",
      "[Parallel(n_jobs=-1)]: Done  25 tasks      | elapsed:   16.1s\n",
      "[Parallel(n_jobs=-1)]: Done 146 tasks      | elapsed:  1.2min\n",
      "[Parallel(n_jobs=-1)]: Done 300 out of 300 | elapsed:  2.6min finished\n"
     ]
    },
    {
     "data": {
      "text/plain": [
       "RandomizedSearchCV(cv=3, estimator=RandomForestRegressor(), n_iter=100,\n",
       "                   n_jobs=-1,\n",
       "                   param_distributions={'bootstrap': [True, False],\n",
       "                                        'max_depth': [10, 20, 30, 40, 50, 60,\n",
       "                                                      70, 80, 90, 100, 110,\n",
       "                                                      None],\n",
       "                                        'max_features': ['auto', 'sqrt'],\n",
       "                                        'min_samples_leaf': [1, 2, 4],\n",
       "                                        'min_samples_split': [2, 5, 10],\n",
       "                                        'n_estimators': [200, 400, 600, 800,\n",
       "                                                         1000, 1200, 1400, 1600,\n",
       "                                                         1800, 2000]},\n",
       "                   random_state=42, verbose=2)"
      ]
     },
     "execution_count": 351,
     "metadata": {},
     "output_type": "execute_result"
    }
   ],
   "source": [
    "# Number of trees in random forest\n",
    "n_estimators = [int(x) for x in np.linspace(start = 200, stop = 2000, num = 10)]\n",
    "# Number of features to consider at every split\n",
    "max_features = ['auto', 'sqrt']\n",
    "# Maximum number of levels in tree\n",
    "max_depth = [int(x) for x in np.linspace(10, 110, num = 11)]\n",
    "max_depth.append(None)\n",
    "# Minimum number of samples required to split a node\n",
    "min_samples_split = [2, 5, 10]\n",
    "# Minimum number of samples required at each leaf node\n",
    "min_samples_leaf = [1, 2, 4]\n",
    "# Method of selecting samples for training each tree\n",
    "bootstrap = [True, False]\n",
    "# Create the random grid\n",
    "random_grid = {'n_estimators': n_estimators,\n",
    "               'max_features': max_features,\n",
    "               'max_depth': max_depth,\n",
    "               'min_samples_split': min_samples_split,\n",
    "               'min_samples_leaf': min_samples_leaf,\n",
    "               'bootstrap': bootstrap}\n",
    "\n",
    "# Use the random grid to search for best hyperparameters\n",
    "# First create the base model to tune\n",
    "rf = RandomForestRegressor()\n",
    "# Random search of parameters, using 3 fold cross validation, \n",
    "# search across 100 different combinations, and use all available cores\n",
    "rf_randomnum = RandomizedSearchCV(estimator = rf, param_distributions = random_grid, n_iter = 100, cv = 3, verbose=2, random_state=42, n_jobs = -1)\n",
    "# Fit the random search model\n",
    "rf_randomnum.fit(numerical_X, numerical_y)"
   ]
  },
  {
   "cell_type": "code",
   "execution_count": 352,
   "metadata": {},
   "outputs": [
    {
     "data": {
      "text/plain": [
       "{'n_estimators': 1200,\n",
       " 'min_samples_split': 2,\n",
       " 'min_samples_leaf': 2,\n",
       " 'max_features': 'sqrt',\n",
       " 'max_depth': 20,\n",
       " 'bootstrap': True}"
      ]
     },
     "execution_count": 352,
     "metadata": {},
     "output_type": "execute_result"
    }
   ],
   "source": [
    "rf_randomnum.best_params_"
   ]
  },
  {
   "cell_type": "code",
   "execution_count": 354,
   "metadata": {},
   "outputs": [
    {
     "name": "stdout",
     "output_type": "stream",
     "text": [
      "0.9517195717206176\n",
      "0.9404697902989432\n"
     ]
    }
   ],
   "source": [
    "print(rf_randomnum.score(numerical_X, numerical_y))\n",
    "print(rf_randomnum.score(X_numerical, y_numerical))"
   ]
  },
  {
   "cell_type": "markdown",
   "metadata": {},
   "source": [
    "## RFR on reviews to predict score"
   ]
  },
  {
   "cell_type": "code",
   "execution_count": 11,
   "metadata": {},
   "outputs": [
    {
     "name": "stderr",
     "output_type": "stream",
     "text": [
      "C:\\Users\\ejfel\\anaconda3\\lib\\site-packages\\pandas\\core\\generic.py:5303: SettingWithCopyWarning: \n",
      "A value is trying to be set on a copy of a slice from a DataFrame.\n",
      "Try using .loc[row_indexer,col_indexer] = value instead\n",
      "\n",
      "See the caveats in the documentation: https://pandas.pydata.org/pandas-docs/stable/user_guide/indexing.html#returning-a-view-versus-a-copy\n",
      "  self[name] = value\n"
     ]
    }
   ],
   "source": [
    "for_model = df_topic_breakdown[df_topic_breakdown.rating != 'NR']\n",
    "for_model.rating = for_model.rating.astype(int)\n",
    "\n",
    "topic_features = ['pos','neg','compound','length','word count','bright_floral_citrus', 'choc_woody_dark', 'tart_sweet_smooth','cacao_nut_clean', 'sweet_nut_pine', 'juicy_cacao_honey', 'red_berries','woody_nut_caramel', 'cherry_vinuous_choc']\n",
    "big_X, X_big, big_y, y_big = train_test_split(for_model[topic_features],for_model.rating,test_size=.2,random_state=42)"
   ]
  },
  {
   "cell_type": "code",
   "execution_count": 14,
   "metadata": {},
   "outputs": [
    {
     "data": {
      "text/plain": [
       "RandomForestRegressor(criterion='mae', max_depth=10, random_state=0)"
      ]
     },
     "execution_count": 14,
     "metadata": {},
     "output_type": "execute_result"
    }
   ],
   "source": [
    "rfr = RandomForestRegressor(max_depth=10, criterion='mae', random_state=0)\n",
    "rfr.fit(big_X, big_y)"
   ]
  },
  {
   "cell_type": "code",
   "execution_count": 13,
   "metadata": {},
   "outputs": [
    {
     "data": {
      "text/plain": [
       "0.6788130666325242"
      ]
     },
     "execution_count": 13,
     "metadata": {},
     "output_type": "execute_result"
    }
   ],
   "source": [
    "rfr.score(big_X,big_y)"
   ]
  },
  {
   "cell_type": "code",
   "execution_count": 15,
   "metadata": {},
   "outputs": [
    {
     "data": {
      "text/plain": [
       "0.6786098356865988"
      ]
     },
     "execution_count": 15,
     "metadata": {},
     "output_type": "execute_result"
    }
   ],
   "source": [
    "rfr.score(X_big,y_big)"
   ]
  },
  {
   "cell_type": "code",
   "execution_count": 18,
   "metadata": {},
   "outputs": [
    {
     "data": {
      "text/plain": [
       "1.7406339210747277"
      ]
     },
     "execution_count": 18,
     "metadata": {},
     "output_type": "execute_result"
    }
   ],
   "source": [
    "mae(y_big, rfr.predict(X_big))"
   ]
  },
  {
   "cell_type": "code",
   "execution_count": 16,
   "metadata": {},
   "outputs": [
    {
     "data": {
      "image/png": "[encoded data removed]",
      "text/plain": [
       "<Figure size 720x720 with 1 Axes>"
      ]
     },
     "metadata": {},
     "output_type": "display_data"
    }
   ],
   "source": [
    "y = useful.rating\n",
    "test_set_pred = rfr.predict(X_big)\n",
    "sns.set(rc={'figure.figsize':(10, 10)})\n",
    "fig, ax = plt.subplots()\n",
    "ax.scatter(y_big, test_set_pred, s=20,color='#6f4e37')\n",
    "ax.set_facecolor('white')\n",
    "ax.plot([y.min(), y.max()], [y.min(), y.max()], 'k--', lw=2)\n",
    "ax.set_xlabel('Actual Rating',fontsize=18)\n",
    "ax.set_ylabel('Predicted Rating',fontsize=18)\n",
    "ax.set_title('Can we predict coffee ratings from reviews using a RandomForest?',fontsize=24)\n",
    "txt = 'The dotted line represents accurate predictions' + '\\n \\n'+' - Below the line represents underpredictions' + '\\n\\n'+ ' - Above the line represents over predictions'\n",
    "text = fig.text(1,.5,txt,fontsize=16)\n",
    "plt.savefig(r'C:\\Users\\ejfel\\Documents\\metis_repos\\Coffee-Reviews-NLP\\rfr_word_to_num')\n",
    "plt.show()"
   ]
  },
  {
   "cell_type": "markdown",
   "metadata": {},
   "source": [
    "### Considering largest errors in predictions"
   ]
  },
  {
   "cell_type": "code",
   "execution_count": 26,
   "metadata": {},
   "outputs": [
    {
     "data": {
      "text/html": [
       "<div>\n",
       "<style scoped>\n",
       "    .dataframe tbody tr th:only-of-type {\n",
       "        vertical-align: middle;\n",
       "    }\n",
       "\n",
       "    .dataframe tbody tr th {\n",
       "        vertical-align: top;\n",
       "    }\n",
       "\n",
       "    .dataframe thead th {\n",
       "        text-align: right;\n",
       "    }\n",
       "</style>\n",
       "<table border=\"1\" class=\"dataframe\">\n",
       "  <thead>\n",
       "    <tr style=\"text-align: right;\">\n",
       "      <th></th>\n",
       "      <th>rating</th>\n",
       "      <th>pos</th>\n",
       "      <th>neg</th>\n",
       "      <th>compound</th>\n",
       "      <th>length</th>\n",
       "      <th>word count</th>\n",
       "      <th>bright_floral_citrus</th>\n",
       "      <th>choc_woody_dark</th>\n",
       "      <th>tart_sweet_smooth</th>\n",
       "      <th>cacao_nut_clean</th>\n",
       "      <th>sweet_nut_pine</th>\n",
       "      <th>juicy_cacao_honey</th>\n",
       "      <th>red_berries</th>\n",
       "      <th>woody_nut_caramel</th>\n",
       "      <th>cherry_vinuous_choc</th>\n",
       "      <th>preds</th>\n",
       "      <th>error</th>\n",
       "    </tr>\n",
       "  </thead>\n",
       "  <tbody>\n",
       "    <tr>\n",
       "      <th>3532</th>\n",
       "      <td>63</td>\n",
       "      <td>0.145</td>\n",
       "      <td>0.056</td>\n",
       "      <td>0.5719</td>\n",
       "      <td>240</td>\n",
       "      <td>21</td>\n",
       "      <td>0.006650</td>\n",
       "      <td>0.000000</td>\n",
       "      <td>0.000000</td>\n",
       "      <td>0.000000</td>\n",
       "      <td>0.015168</td>\n",
       "      <td>0.002739</td>\n",
       "      <td>0.002741</td>\n",
       "      <td>0.020428</td>\n",
       "      <td>0.026225</td>\n",
       "      <td>87.925</td>\n",
       "      <td>24.925</td>\n",
       "    </tr>\n",
       "    <tr>\n",
       "      <th>5830</th>\n",
       "      <td>63</td>\n",
       "      <td>0.131</td>\n",
       "      <td>0.076</td>\n",
       "      <td>0.9135</td>\n",
       "      <td>1172</td>\n",
       "      <td>50</td>\n",
       "      <td>0.002594</td>\n",
       "      <td>0.000000</td>\n",
       "      <td>0.000000</td>\n",
       "      <td>0.000000</td>\n",
       "      <td>0.000000</td>\n",
       "      <td>0.000444</td>\n",
       "      <td>0.000000</td>\n",
       "      <td>0.019024</td>\n",
       "      <td>0.033497</td>\n",
       "      <td>81.400</td>\n",
       "      <td>18.400</td>\n",
       "    </tr>\n",
       "    <tr>\n",
       "      <th>3534</th>\n",
       "      <td>67</td>\n",
       "      <td>0.033</td>\n",
       "      <td>0.043</td>\n",
       "      <td>-0.1027</td>\n",
       "      <td>273</td>\n",
       "      <td>22</td>\n",
       "      <td>0.000060</td>\n",
       "      <td>0.021956</td>\n",
       "      <td>0.000000</td>\n",
       "      <td>0.000000</td>\n",
       "      <td>0.004294</td>\n",
       "      <td>0.000800</td>\n",
       "      <td>0.000962</td>\n",
       "      <td>0.025729</td>\n",
       "      <td>0.004686</td>\n",
       "      <td>82.350</td>\n",
       "      <td>15.350</td>\n",
       "    </tr>\n",
       "    <tr>\n",
       "      <th>5523</th>\n",
       "      <td>67</td>\n",
       "      <td>0.225</td>\n",
       "      <td>0.216</td>\n",
       "      <td>0.3919</td>\n",
       "      <td>340</td>\n",
       "      <td>22</td>\n",
       "      <td>0.007297</td>\n",
       "      <td>0.000000</td>\n",
       "      <td>0.000000</td>\n",
       "      <td>0.000000</td>\n",
       "      <td>0.001432</td>\n",
       "      <td>0.002460</td>\n",
       "      <td>0.000000</td>\n",
       "      <td>0.025901</td>\n",
       "      <td>0.000000</td>\n",
       "      <td>81.095</td>\n",
       "      <td>14.095</td>\n",
       "    </tr>\n",
       "    <tr>\n",
       "      <th>978</th>\n",
       "      <td>72</td>\n",
       "      <td>0.081</td>\n",
       "      <td>0.039</td>\n",
       "      <td>0.4588</td>\n",
       "      <td>416</td>\n",
       "      <td>34</td>\n",
       "      <td>0.000000</td>\n",
       "      <td>0.038827</td>\n",
       "      <td>0.000965</td>\n",
       "      <td>0.019040</td>\n",
       "      <td>0.014875</td>\n",
       "      <td>0.000000</td>\n",
       "      <td>0.000000</td>\n",
       "      <td>0.058978</td>\n",
       "      <td>0.000000</td>\n",
       "      <td>85.810</td>\n",
       "      <td>13.810</td>\n",
       "    </tr>\n",
       "    <tr>\n",
       "      <th>3007</th>\n",
       "      <td>67</td>\n",
       "      <td>0.161</td>\n",
       "      <td>0.128</td>\n",
       "      <td>0.2718</td>\n",
       "      <td>318</td>\n",
       "      <td>24</td>\n",
       "      <td>0.000850</td>\n",
       "      <td>0.000235</td>\n",
       "      <td>0.000000</td>\n",
       "      <td>0.000000</td>\n",
       "      <td>0.000000</td>\n",
       "      <td>0.000000</td>\n",
       "      <td>0.000000</td>\n",
       "      <td>0.049224</td>\n",
       "      <td>0.000000</td>\n",
       "      <td>79.430</td>\n",
       "      <td>12.430</td>\n",
       "    </tr>\n",
       "    <tr>\n",
       "      <th>5465</th>\n",
       "      <td>75</td>\n",
       "      <td>0.185</td>\n",
       "      <td>0.055</td>\n",
       "      <td>0.8176</td>\n",
       "      <td>314</td>\n",
       "      <td>25</td>\n",
       "      <td>0.008200</td>\n",
       "      <td>0.006497</td>\n",
       "      <td>0.002462</td>\n",
       "      <td>0.000000</td>\n",
       "      <td>0.000000</td>\n",
       "      <td>0.004334</td>\n",
       "      <td>0.006068</td>\n",
       "      <td>0.033863</td>\n",
       "      <td>0.005032</td>\n",
       "      <td>87.215</td>\n",
       "      <td>12.215</td>\n",
       "    </tr>\n",
       "    <tr>\n",
       "      <th>3303</th>\n",
       "      <td>73</td>\n",
       "      <td>0.088</td>\n",
       "      <td>0.029</td>\n",
       "      <td>0.5454</td>\n",
       "      <td>350</td>\n",
       "      <td>21</td>\n",
       "      <td>0.008889</td>\n",
       "      <td>0.000000</td>\n",
       "      <td>0.000000</td>\n",
       "      <td>0.000506</td>\n",
       "      <td>0.000000</td>\n",
       "      <td>0.015240</td>\n",
       "      <td>0.000000</td>\n",
       "      <td>0.047644</td>\n",
       "      <td>0.004958</td>\n",
       "      <td>84.380</td>\n",
       "      <td>11.380</td>\n",
       "    </tr>\n",
       "    <tr>\n",
       "      <th>5920</th>\n",
       "      <td>70</td>\n",
       "      <td>0.119</td>\n",
       "      <td>0.164</td>\n",
       "      <td>-0.2152</td>\n",
       "      <td>221</td>\n",
       "      <td>16</td>\n",
       "      <td>0.004589</td>\n",
       "      <td>0.000861</td>\n",
       "      <td>0.000000</td>\n",
       "      <td>0.008898</td>\n",
       "      <td>0.000945</td>\n",
       "      <td>0.000000</td>\n",
       "      <td>0.000000</td>\n",
       "      <td>0.047132</td>\n",
       "      <td>0.008463</td>\n",
       "      <td>80.795</td>\n",
       "      <td>10.795</td>\n",
       "    </tr>\n",
       "    <tr>\n",
       "      <th>5918</th>\n",
       "      <td>71</td>\n",
       "      <td>0.100</td>\n",
       "      <td>0.044</td>\n",
       "      <td>0.4872</td>\n",
       "      <td>208</td>\n",
       "      <td>12</td>\n",
       "      <td>0.000000</td>\n",
       "      <td>0.001505</td>\n",
       "      <td>0.000367</td>\n",
       "      <td>0.000000</td>\n",
       "      <td>0.000000</td>\n",
       "      <td>0.000469</td>\n",
       "      <td>0.003358</td>\n",
       "      <td>0.047818</td>\n",
       "      <td>0.000736</td>\n",
       "      <td>80.940</td>\n",
       "      <td>9.940</td>\n",
       "    </tr>\n",
       "  </tbody>\n",
       "</table>\n",
       "</div>"
      ],
      "text/plain": [
       "      rating    pos    neg  compound  length  word count  \\\n",
       "3532      63  0.145  0.056    0.5719     240          21   \n",
       "5830      63  0.131  0.076    0.9135    1172          50   \n",
       "3534      67  0.033  0.043   -0.1027     273          22   \n",
       "5523      67  0.225  0.216    0.3919     340          22   \n",
       "978       72  0.081  0.039    0.4588     416          34   \n",
       "3007      67  0.161  0.128    0.2718     318          24   \n",
       "5465      75  0.185  0.055    0.8176     314          25   \n",
       "3303      73  0.088  0.029    0.5454     350          21   \n",
       "5920      70  0.119  0.164   -0.2152     221          16   \n",
       "5918      71  0.100  0.044    0.4872     208          12   \n",
       "\n",
       "      bright_floral_citrus  choc_woody_dark  tart_sweet_smooth  \\\n",
       "3532              0.006650         0.000000           0.000000   \n",
       "5830              0.002594         0.000000           0.000000   \n",
       "3534              0.000060         0.021956           0.000000   \n",
       "5523              0.007297         0.000000           0.000000   \n",
       "978               0.000000         0.038827           0.000965   \n",
       "3007              0.000850         0.000235           0.000000   \n",
       "5465              0.008200         0.006497           0.002462   \n",
       "3303              0.008889         0.000000           0.000000   \n",
       "5920              0.004589         0.000861           0.000000   \n",
       "5918              0.000000         0.001505           0.000367   \n",
       "\n",
       "      cacao_nut_clean  sweet_nut_pine  juicy_cacao_honey  red_berries  \\\n",
       "3532         0.000000        0.015168           0.002739     0.002741   \n",
       "5830         0.000000        0.000000           0.000444     0.000000   \n",
       "3534         0.000000        0.004294           0.000800     0.000962   \n",
       "5523         0.000000        0.001432           0.002460     0.000000   \n",
       "978          0.019040        0.014875           0.000000     0.000000   \n",
       "3007         0.000000        0.000000           0.000000     0.000000   \n",
       "5465         0.000000        0.000000           0.004334     0.006068   \n",
       "3303         0.000506        0.000000           0.015240     0.000000   \n",
       "5920         0.008898        0.000945           0.000000     0.000000   \n",
       "5918         0.000000        0.000000           0.000469     0.003358   \n",
       "\n",
       "      woody_nut_caramel  cherry_vinuous_choc   preds   error  \n",
       "3532           0.020428             0.026225  87.925  24.925  \n",
       "5830           0.019024             0.033497  81.400  18.400  \n",
       "3534           0.025729             0.004686  82.350  15.350  \n",
       "5523           0.025901             0.000000  81.095  14.095  \n",
       "978            0.058978             0.000000  85.810  13.810  \n",
       "3007           0.049224             0.000000  79.430  12.430  \n",
       "5465           0.033863             0.005032  87.215  12.215  \n",
       "3303           0.047644             0.004958  84.380  11.380  \n",
       "5920           0.047132             0.008463  80.795  10.795  \n",
       "5918           0.047818             0.000736  80.940   9.940  "
      ]
     },
     "execution_count": 26,
     "metadata": {},
     "output_type": "execute_result"
    }
   ],
   "source": [
    "errors_rf = pd.concat([pd.DataFrame(y_big),pd.DataFrame(X_big)],axis=1)\n",
    "errors_rf['preds'] = rfr.predict(errors_rf[topic_features])\n",
    "errors_rf['error'] = np.absolute(errors_rf.rating-errors_rf.preds)\n",
    "errors_rf.sort_values(by='error',ascending=False).head(10)"
   ]
  },
  {
   "cell_type": "code",
   "execution_count": 32,
   "metadata": {},
   "outputs": [
    {
     "data": {
      "text/plain": [
       "'Flat and woody with a cloying, disturbing sweetness and not much else in way of flavor or aroma. The sweetness could be taken as slightly composty or slightly chocolaty or both. Virtually no acidity; smooth but leanish mouthfeel. The composty sweetness is most intense and unpleasant in the cup, less so in the finish.'"
      ]
     },
     "execution_count": 32,
     "metadata": {},
     "output_type": "execute_result"
    }
   ],
   "source": [
    "coffee.iloc[3007].Review"
   ]
  },
  {
   "cell_type": "markdown",
   "metadata": {},
   "source": [
    "## GridSearch/RandomizedSearch CV for hyperparameters on RF"
   ]
  },
  {
   "cell_type": "code",
   "execution_count": 336,
   "metadata": {},
   "outputs": [
    {
     "name": "stdout",
     "output_type": "stream",
     "text": [
      "Fitting 3 folds for each of 100 candidates, totalling 300 fits\n"
     ]
    },
    {
     "name": "stderr",
     "output_type": "stream",
     "text": [
      "[Parallel(n_jobs=-1)]: Using backend LokyBackend with 8 concurrent workers.\n",
      "[Parallel(n_jobs=-1)]: Done  25 tasks      | elapsed:  1.8min\n",
      "[Parallel(n_jobs=-1)]: Done 146 tasks      | elapsed:  8.2min\n",
      "[Parallel(n_jobs=-1)]: Done 300 out of 300 | elapsed: 20.0min finished\n"
     ]
    },
    {
     "data": {
      "text/plain": [
       "RandomizedSearchCV(cv=3, estimator=RandomForestRegressor(), n_iter=100,\n",
       "                   n_jobs=-1,\n",
       "                   param_distributions={'bootstrap': [True, False],\n",
       "                                        'max_depth': [10, 20, 30, 40, 50, 60,\n",
       "                                                      70, 80, 90, 100, 110,\n",
       "                                                      None],\n",
       "                                        'max_features': ['auto', 'sqrt'],\n",
       "                                        'min_samples_leaf': [1, 2, 4],\n",
       "                                        'min_samples_split': [2, 5, 10],\n",
       "                                        'n_estimators': [200, 400, 600, 800,\n",
       "                                                         1000, 1200, 1400, 1600,\n",
       "                                                         1800, 2000]},\n",
       "                   random_state=42, verbose=2)"
      ]
     },
     "execution_count": 336,
     "metadata": {},
     "output_type": "execute_result"
    }
   ],
   "source": [
    "from sklearn.model_selection import RandomizedSearchCV\n",
    "# Number of trees in random forest\n",
    "n_estimators = [int(x) for x in np.linspace(start = 200, stop = 2000, num = 10)]\n",
    "# Number of features to consider at every split\n",
    "max_features = ['auto', 'sqrt']\n",
    "# Maximum number of levels in tree\n",
    "max_depth = [int(x) for x in np.linspace(10, 110, num = 11)]\n",
    "max_depth.append(None)\n",
    "# Minimum number of samples required to split a node\n",
    "min_samples_split = [2, 5, 10]\n",
    "# Minimum number of samples required at each leaf node\n",
    "min_samples_leaf = [1, 2, 4]\n",
    "# Method of selecting samples for training each tree\n",
    "bootstrap = [True, False]\n",
    "# Create the random grid\n",
    "random_grid = {'n_estimators': n_estimators,\n",
    "               'max_features': max_features,\n",
    "               'max_depth': max_depth,\n",
    "               'min_samples_split': min_samples_split,\n",
    "               'min_samples_leaf': min_samples_leaf,\n",
    "               'bootstrap': bootstrap}\n",
    "\n",
    "# Use the random grid to search for best hyperparameters\n",
    "# First create the base model to tune\n",
    "rf = RandomForestRegressor()\n",
    "# Random search of parameters, using 3 fold cross validation, \n",
    "# search across 100 different combinations, and use all available cores\n",
    "rf_random = RandomizedSearchCV(estimator = rf, param_distributions = random_grid, n_iter = 100, cv = 3, verbose=2, random_state=42, n_jobs = -1)\n",
    "# Fit the random search model\n",
    "rf_random.fit(big_X, big_y)"
   ]
  },
  {
   "cell_type": "code",
   "execution_count": 337,
   "metadata": {},
   "outputs": [
    {
     "name": "stdout",
     "output_type": "stream",
     "text": [
      "0.9919291285935002\n",
      "0.6907053376038641\n"
     ]
    }
   ],
   "source": [
    "print(rf_random.score(big_X,big_y))\n",
    "print(rf_random.score(X_big,y_big))"
   ]
  },
  {
   "cell_type": "code",
   "execution_count": 338,
   "metadata": {},
   "outputs": [
    {
     "name": "stdout",
     "output_type": "stream",
     "text": [
      "Model Performance\n",
      "Average Error: 1.8460 degrees.\n",
      "Accuracy = 97.87%.\n",
      "Model Performance\n",
      "Average Error: 1.6863 degrees.\n",
      "Accuracy = 98.05%.\n",
      "Improvement of 0.18%.\n"
     ]
    }
   ],
   "source": [
    "def evaluate(model, test_features, test_labels):\n",
    "    predictions = model.predict(test_features)\n",
    "    errors = abs(predictions - test_labels)\n",
    "    mape = 100 * np.mean(errors / test_labels)\n",
    "    accuracy = 100 - mape\n",
    "    print('Model Performance')\n",
    "    print('Average Error: {:0.4f} degrees.'.format(np.mean(errors)))\n",
    "    print('Accuracy = {:0.2f}%.'.format(accuracy))\n",
    "    \n",
    "    return accuracy\n",
    "base_model = RandomForestRegressor(n_estimators = 10, random_state = 42)\n",
    "base_model.fit(big_X, big_y)\n",
    "base_accuracy = evaluate(base_model, X_big, y_big)\n",
    "\n",
    "best_random = rf_random.best_estimator_\n",
    "random_accuracy = evaluate(best_random, X_big, y_big)\n",
    "\n",
    "print('Improvement of {:0.2f}%.'.format( 100 * (random_accuracy - base_accuracy) / base_accuracy))"
   ]
  },
  {
   "cell_type": "code",
   "execution_count": 339,
   "metadata": {},
   "outputs": [
    {
     "data": {
      "text/plain": [
       "RandomForestRegressor(bootstrap=False, max_depth=60, max_features='sqrt',\n",
       "                      min_samples_split=5, n_estimators=600)"
      ]
     },
     "execution_count": 339,
     "metadata": {},
     "output_type": "execute_result"
    }
   ],
   "source": [
    "rf_random.best_estimator_"
   ]
  },
  {
   "cell_type": "code",
   "execution_count": 341,
   "metadata": {},
   "outputs": [],
   "source": [
    "from sklearn.model_selection import GridSearchCV\n",
    "# Create the parameter grid based on the results of random search \n",
    "param_grid = {\n",
    "    'bootstrap': [True],\n",
    "    'max_depth': [3, 5, 10, 60, 100],\n",
    "#     'max_features': ,\n",
    "    'min_samples_leaf': [1,2,4],\n",
    "    'min_samples_split': [4,5,6],\n",
    "    'n_estimators': [100, 300, 600, 750]\n",
    "}\n",
    "# Create a based model\n",
    "rf = RandomForestRegressor()\n",
    "# Instantiate the grid search model\n",
    "grid_search = GridSearchCV(estimator = rf, param_grid = param_grid, \n",
    "                          cv = 3, n_jobs = -1, verbose = 2)"
   ]
  },
  {
   "cell_type": "code",
   "execution_count": 342,
   "metadata": {},
   "outputs": [
    {
     "name": "stdout",
     "output_type": "stream",
     "text": [
      "Fitting 3 folds for each of 180 candidates, totalling 540 fits\n"
     ]
    },
    {
     "name": "stderr",
     "output_type": "stream",
     "text": [
      "[Parallel(n_jobs=-1)]: Using backend LokyBackend with 8 concurrent workers.\n",
      "[Parallel(n_jobs=-1)]: Done  25 tasks      | elapsed:   16.8s\n",
      "[Parallel(n_jobs=-1)]: Done 146 tasks      | elapsed:  1.7min\n",
      "[Parallel(n_jobs=-1)]: Done 349 tasks      | elapsed:  6.5min\n",
      "[Parallel(n_jobs=-1)]: Done 540 out of 540 | elapsed: 13.0min finished\n"
     ]
    },
    {
     "name": "stdout",
     "output_type": "stream",
     "text": [
      "Model Performance\n",
      "Average Error: 1.7197 degrees.\n",
      "Accuracy = 98.02%.\n",
      "Improvement of 0.15%.\n"
     ]
    }
   ],
   "source": [
    "# Fit the grid search to the data\n",
    "grid_search.fit(big_X, big_y)\n",
    "grid_search.best_params_\n",
    "\n",
    "best_grid = grid_search.best_estimator_\n",
    "grid_accuracy = evaluate(best_grid, X_big, y_big)\n",
    "\n",
    "print('Improvement of {:0.2f}%.'.format( 100 * (grid_accuracy - base_accuracy) / base_accuracy))"
   ]
  },
  {
   "cell_type": "code",
   "execution_count": 343,
   "metadata": {},
   "outputs": [
    {
     "data": {
      "text/plain": [
       "RandomForestRegressor(max_depth=60, min_samples_leaf=2, min_samples_split=4,\n",
       "                      n_estimators=600)"
      ]
     },
     "execution_count": 343,
     "metadata": {},
     "output_type": "execute_result"
    }
   ],
   "source": [
    "best_grid\n"
   ]
  },
  {
   "cell_type": "code",
   "execution_count": 344,
   "metadata": {},
   "outputs": [
    {
     "name": "stdout",
     "output_type": "stream",
     "text": [
      "0.9359872889461786\n",
      "0.6811182793639442\n"
     ]
    }
   ],
   "source": [
    "print(best_grid.score(big_X,big_y))\n",
    "print(best_grid.score(X_big,y_big))"
   ]
  },
  {
   "cell_type": "code",
   "execution_count": 356,
   "metadata": {},
   "outputs": [],
   "source": [
    "with open('words_to_score_rf.pickle', 'wb') as to_write:\n",
    "    pickle.dump(best_grid, to_write)"
   ]
  },
  {
   "cell_type": "markdown",
   "metadata": {},
   "source": [
    "## Different Versions of Linear Models on Predicting Scores\n",
    "\n",
    "Initial model on NMF assignments across 2-10 topics got r^2 of .26 and average error of 2.7 on score  \n",
    "Second model using NMF vectors for each review got r^2 of .50 and average error of 2.2 on score  \n",
    "Third model included review length and count vector sum got r^2 of .53 and average error of 2.1 on score  \n",
    "Fourth model including sentiment analysis (pos, neg, compound scores) got r^2 of .59 and average error of 1.99  \n",
    "\n",
    "This points me to believe that the average review may only account for a portion of the final review score"
   ]
  },
  {
   "cell_type": "code",
   "execution_count": 326,
   "metadata": {},
   "outputs": [
    {
     "data": {
      "text/plain": [
       "array([ 50., 100., 150., 200., 250., 300., 350., 400., 450., 500.])"
      ]
     },
     "execution_count": 326,
     "metadata": {},
     "output_type": "execute_result"
    }
   ],
   "source": [
    "topic_features = ['pos','neg','compound','length','word count','bright_floral_citrus', 'choc_woody_dark', 'tart_sweet_smooth','cacao_nut_clean', 'sweet_nut_pine', 'juicy_cacao_honey', 'red_berries','woody_nut_caramel', 'cherry_vinuous_choc']\n",
    "np.linspace(start = 50, stop = 500, num = 10)"
   ]
  },
  {
   "cell_type": "code",
   "execution_count": 282,
   "metadata": {},
   "outputs": [
    {
     "name": "stderr",
     "output_type": "stream",
     "text": [
      "C:\\Users\\ejfel\\anaconda3\\lib\\site-packages\\pandas\\core\\generic.py:5303: SettingWithCopyWarning: \n",
      "A value is trying to be set on a copy of a slice from a DataFrame.\n",
      "Try using .loc[row_indexer,col_indexer] = value instead\n",
      "\n",
      "See the caveats in the documentation: https://pandas.pydata.org/pandas-docs/stable/user_guide/indexing.html#returning-a-view-versus-a-copy\n",
      "  self[name] = value\n"
     ]
    }
   ],
   "source": [
    "for_model = df_topic_breakdown[df_topic_breakdown.rating != 'NR']\n",
    "for_model.rating = for_model.rating.astype(int)\n",
    "big_X, X_big, big_y, y_big = train_test_split(for_model[topic_features],for_model.rating,test_size=.2,random_state=42)"
   ]
  },
  {
   "cell_type": "code",
   "execution_count": 283,
   "metadata": {},
   "outputs": [
    {
     "name": "stdout",
     "output_type": "stream",
     "text": [
      "Simple regression scores:  [0.597, 0.61, 0.601, 0.587, 0.562] \n",
      "\n",
      "Simple mean cv r^2: 0.591 +- 0.016 \n",
      "\n",
      "The average error (MAE) on a predicted value on the holdout test data is:  1.9978003029904747\n"
     ]
    }
   ],
   "source": [
    "train_X, train_y = np.array(big_X), np.array(big_y)\n",
    "#run the CV\n",
    "kf = KFold(n_splits=5, shuffle=True, random_state = 71)\n",
    "cv_lm_r2s = [] #collect the validation results\n",
    "\n",
    "for train_ind, val_ind in kf.split(train_X,train_y):\n",
    "    \n",
    "    tr_X, tr_y = train_X[train_ind], train_y[train_ind]\n",
    "    X_val, y_val = train_X[val_ind], train_y[val_ind] \n",
    "    \n",
    "    #simple linear regression\n",
    "    lm = LinearRegression()\n",
    "\n",
    "    lm.fit(tr_X, tr_y)\n",
    "    cv_lm_r2s.append(round(lm.score(X_val, y_val), 3))\n",
    "\n",
    "print('Simple regression scores: ', cv_lm_r2s, '\\n')\n",
    "\n",
    "print(f'Simple mean cv r^2: {np.mean(cv_lm_r2s):.3f} +- {np.std(cv_lm_r2s):.3f}','\\n')\n",
    "\n",
    "test_set_pred = lm.predict(X_big)\n",
    "\n",
    "mae_kfoldlinear = mae(y_big,test_set_pred)\n",
    "\n",
    "print('The average error (MAE) on a predicted value on the holdout test data is: ',mae_kfoldlinear)"
   ]
  },
  {
   "cell_type": "code",
   "execution_count": 284,
   "metadata": {},
   "outputs": [
    {
     "data": {
      "text/plain": [
       "[('pos', -2.6155616671168005),\n",
       " ('neg', -37.135879833679795),\n",
       " ('compound', 2.493541146002903),\n",
       " ('length', -0.012562114260267609),\n",
       " ('word count', 0.23403649213257308),\n",
       " ('bright_floral_citrus', 57.215110563435225),\n",
       " ('choc_woody_dark', 17.725129099693856),\n",
       " ('tart_sweet_smooth', 30.9375353650145),\n",
       " ('cacao_nut_clean', 8.205166997187849),\n",
       " ('sweet_nut_pine', -0.369238129503529),\n",
       " ('juicy_cacao_honey', 12.686145317773786),\n",
       " ('red_berries', 21.468285848846357),\n",
       " ('woody_nut_caramel', -31.1228876889177),\n",
       " ('cherry_vinuous_choc', 23.392100649405275)]"
      ]
     },
     "execution_count": 284,
     "metadata": {},
     "output_type": "execute_result"
    }
   ],
   "source": [
    "list(zip(big_X.columns, lm.coef_))"
   ]
  },
  {
   "cell_type": "code",
   "execution_count": 285,
   "metadata": {},
   "outputs": [
    {
     "data": {
      "image/png": "[encoded data removed]",
      "text/plain": [
       "<Figure size 720x720 with 1 Axes>"
      ]
     },
     "metadata": {},
     "output_type": "display_data"
    }
   ],
   "source": [
    "y = useful.rating\n",
    "sns.set(rc={'figure.figsize':(10, 10)})\n",
    "fig, ax = plt.subplots()\n",
    "ax.scatter(y_big, test_set_pred, s=20,color='#6f4e37')\n",
    "ax.set_facecolor('white')\n",
    "ax.plot([y.min(), y.max()], [y.min(), y.max()], 'k--', lw=2)\n",
    "ax.set_xlabel('Actual Rating',fontsize=18)\n",
    "ax.set_ylabel('Predicted Rating',fontsize=18)\n",
    "ax.set_title('Can we predict coffee ratings from their flavor category?',fontsize=24)\n",
    "txt = 'The dotted line represents accurate predictions' + '\\n \\n'+' - Below the line represents underpredictions' + '\\n\\n'+ ' - Above the line represents over predictions'\n",
    "text = fig.text(1,.5,txt,fontsize=16)\n",
    "# fig.savefig('OneDrive\\Desktop\\Metis\\Projects\\Project 2\\wridge_actualvspredicted',kind='png')\n",
    "plt.show()"
   ]
  },
  {
   "cell_type": "code",
   "execution_count": 222,
   "metadata": {},
   "outputs": [
    {
     "data": {
      "text/html": [
       "<div>\n",
       "<style scoped>\n",
       "    .dataframe tbody tr th:only-of-type {\n",
       "        vertical-align: middle;\n",
       "    }\n",
       "\n",
       "    .dataframe tbody tr th {\n",
       "        vertical-align: top;\n",
       "    }\n",
       "\n",
       "    .dataframe thead th {\n",
       "        text-align: right;\n",
       "    }\n",
       "</style>\n",
       "<table border=\"1\" class=\"dataframe\">\n",
       "  <thead>\n",
       "    <tr style=\"text-align: right;\">\n",
       "      <th></th>\n",
       "      <th>rating</th>\n",
       "      <th>pos</th>\n",
       "      <th>neg</th>\n",
       "      <th>compound</th>\n",
       "      <th>length</th>\n",
       "      <th>word count</th>\n",
       "      <th>bright_floral_citrus</th>\n",
       "      <th>choc_woody_dark</th>\n",
       "      <th>tart_sweet_smooth</th>\n",
       "      <th>cacao_nut_clean</th>\n",
       "      <th>sweet_nut_pine</th>\n",
       "      <th>juicy_cacao_honey</th>\n",
       "      <th>red_berries</th>\n",
       "      <th>woody_nut_caramel</th>\n",
       "      <th>cherry_vinuous_choc</th>\n",
       "      <th>preds</th>\n",
       "      <th>error</th>\n",
       "    </tr>\n",
       "  </thead>\n",
       "  <tbody>\n",
       "    <tr>\n",
       "      <th>3532</th>\n",
       "      <td>63</td>\n",
       "      <td>0.123</td>\n",
       "      <td>0.030</td>\n",
       "      <td>0.8070</td>\n",
       "      <td>240</td>\n",
       "      <td>21</td>\n",
       "      <td>0.006650</td>\n",
       "      <td>0.000000</td>\n",
       "      <td>0.0</td>\n",
       "      <td>0.0</td>\n",
       "      <td>0.015168</td>\n",
       "      <td>0.002739</td>\n",
       "      <td>0.002741</td>\n",
       "      <td>0.020428</td>\n",
       "      <td>0.026225</td>\n",
       "      <td>86.873642</td>\n",
       "      <td>23.873642</td>\n",
       "    </tr>\n",
       "    <tr>\n",
       "      <th>3534</th>\n",
       "      <td>67</td>\n",
       "      <td>0.077</td>\n",
       "      <td>0.022</td>\n",
       "      <td>0.6694</td>\n",
       "      <td>273</td>\n",
       "      <td>22</td>\n",
       "      <td>0.000060</td>\n",
       "      <td>0.021956</td>\n",
       "      <td>0.0</td>\n",
       "      <td>0.0</td>\n",
       "      <td>0.004294</td>\n",
       "      <td>0.000800</td>\n",
       "      <td>0.000962</td>\n",
       "      <td>0.025729</td>\n",
       "      <td>0.004686</td>\n",
       "      <td>86.051939</td>\n",
       "      <td>19.051939</td>\n",
       "    </tr>\n",
       "    <tr>\n",
       "      <th>5830</th>\n",
       "      <td>63</td>\n",
       "      <td>0.119</td>\n",
       "      <td>0.082</td>\n",
       "      <td>0.8896</td>\n",
       "      <td>1172</td>\n",
       "      <td>50</td>\n",
       "      <td>0.002594</td>\n",
       "      <td>0.000000</td>\n",
       "      <td>0.0</td>\n",
       "      <td>0.0</td>\n",
       "      <td>0.000000</td>\n",
       "      <td>0.000444</td>\n",
       "      <td>0.000000</td>\n",
       "      <td>0.019024</td>\n",
       "      <td>0.033497</td>\n",
       "      <td>80.137572</td>\n",
       "      <td>17.137572</td>\n",
       "    </tr>\n",
       "  </tbody>\n",
       "</table>\n",
       "</div>"
      ],
      "text/plain": [
       "      rating    pos    neg  compound  length  word count  \\\n",
       "3532      63  0.123  0.030    0.8070     240          21   \n",
       "3534      67  0.077  0.022    0.6694     273          22   \n",
       "5830      63  0.119  0.082    0.8896    1172          50   \n",
       "\n",
       "      bright_floral_citrus  choc_woody_dark  tart_sweet_smooth  \\\n",
       "3532              0.006650         0.000000                0.0   \n",
       "3534              0.000060         0.021956                0.0   \n",
       "5830              0.002594         0.000000                0.0   \n",
       "\n",
       "      cacao_nut_clean  sweet_nut_pine  juicy_cacao_honey  red_berries  \\\n",
       "3532              0.0        0.015168           0.002739     0.002741   \n",
       "3534              0.0        0.004294           0.000800     0.000962   \n",
       "5830              0.0        0.000000           0.000444     0.000000   \n",
       "\n",
       "      woody_nut_caramel  cherry_vinuous_choc      preds      error  \n",
       "3532           0.020428             0.026225  86.873642  23.873642  \n",
       "3534           0.025729             0.004686  86.051939  19.051939  \n",
       "5830           0.019024             0.033497  80.137572  17.137572  "
      ]
     },
     "execution_count": 222,
     "metadata": {},
     "output_type": "execute_result"
    }
   ],
   "source": [
    "error_on_words = pd.concat([pd.DataFrame(y_big),pd.DataFrame(X_big)],axis=1)\n",
    "error_on_words['preds'] = lm.predict(error_on_words[topic_features])\n",
    "error_on_words['error'] = np.absolute(error_on_words.rating-error_on_words.preds)\n",
    "error_on_words.sort_values(by='error',ascending=False).head(3)"
   ]
  },
  {
   "cell_type": "code",
   "execution_count": 357,
   "metadata": {},
   "outputs": [],
   "source": [
    "with open('words_to_score_linear.pickle', 'wb') as to_write:\n",
    "    pickle.dump(lm, to_write)"
   ]
  },
  {
   "cell_type": "markdown",
   "metadata": {},
   "source": [
    "## Predicting subcategories"
   ]
  },
  {
   "cell_type": "code",
   "execution_count": 227,
   "metadata": {},
   "outputs": [
    {
     "data": {
      "text/plain": [
       "Index(['roaster', 'origin', 'roast_level', 'rating', 'length', 'word count',\n",
       "       'group', 'bright_floral_citrus', 'choc_woody_dark', 'tart_sweet_smooth',\n",
       "       'cacao_nut_clean', 'sweet_nut_pine', 'juicy_cacao_honey', 'red_berries',\n",
       "       'woody_nut_caramel', 'cherry_vinuous_choc', 'pos', 'neg', 'compound',\n",
       "       'rating', 'aroma', 'body', 'flavor', 'aftertaste', 'acidity'],\n",
       "      dtype='object')"
      ]
     },
     "execution_count": 227,
     "metadata": {},
     "output_type": "execute_result"
    }
   ],
   "source": [
    "subcats = pd.concat([for_model,combined.drop(columns=['roaster','origin','roast_level','group'])],axis=1)\n",
    "subcats.columns"
   ]
  },
  {
   "cell_type": "code",
   "execution_count": 286,
   "metadata": {},
   "outputs": [
    {
     "name": "stdout",
     "output_type": "stream",
     "text": [
      "Simple regression scores:  [0.486, 0.379, 0.496, 0.479, 0.494] \n",
      "\n",
      "Simple mean cv r^2: 0.467 +- 0.044 \n",
      "\n",
      "The average error (MAE) on a predicted value on the holdout test data is:  0.5140084958599477\n"
     ]
    },
    {
     "name": "stderr",
     "output_type": "stream",
     "text": [
      "C:\\Users\\ejfel\\anaconda3\\lib\\site-packages\\pandas\\core\\generic.py:5303: SettingWithCopyWarning: \n",
      "A value is trying to be set on a copy of a slice from a DataFrame.\n",
      "Try using .loc[row_indexer,col_indexer] = value instead\n",
      "\n",
      "See the caveats in the documentation: https://pandas.pydata.org/pandas-docs/stable/user_guide/indexing.html#returning-a-view-versus-a-copy\n",
      "  self[name] = value\n"
     ]
    }
   ],
   "source": [
    "modeling_aroma = subcats[(subcats.roaster.isnull() == False)&(subcats.aroma.isnull() == False)&(subcats.aroma>0)]\n",
    "modeling_aroma.aroma = modeling_aroma.aroma.astype(int)\n",
    "\n",
    "aroma_X, X_aroma, aroma_y, y_aroma = train_test_split(modeling_aroma[topic_features],modeling_aroma.aroma,test_size=.2,random_state=42)\n",
    "train_X, train_y = np.array(aroma_X), np.array(aroma_y)\n",
    "\n",
    "#run the CV\n",
    "kf = KFold(n_splits=5, shuffle=True, random_state = 42)\n",
    "cv_lm_r2s = [] #collect the validation results\n",
    "\n",
    "for train_ind, val_ind in kf.split(train_X,train_y):\n",
    "    \n",
    "    tr_X, tr_y = train_X[train_ind], train_y[train_ind]\n",
    "    X_val, y_val = train_X[val_ind], train_y[val_ind] \n",
    "    \n",
    "    #simple linear regression\n",
    "    lm_aroma = LinearRegression()\n",
    "\n",
    "    lm_aroma.fit(tr_X, tr_y)\n",
    "    cv_lm_r2s.append(round(lm_aroma.score(X_val, y_val), 3))\n",
    "\n",
    "print('Simple regression scores: ', cv_lm_r2s, '\\n')\n",
    "\n",
    "print(f'Simple mean cv r^2: {np.mean(cv_lm_r2s):.3f} +- {np.std(cv_lm_r2s):.3f}','\\n')\n",
    "\n",
    "test_set_pred = lm_aroma.predict(X_aroma)\n",
    "\n",
    "mae_kfoldlinear = mae(y_aroma,test_set_pred)\n",
    "\n",
    "print('The average error (MAE) on a predicted value on the holdout test data is: ',mae_kfoldlinear)"
   ]
  },
  {
   "cell_type": "code",
   "execution_count": 287,
   "metadata": {},
   "outputs": [
    {
     "name": "stdout",
     "output_type": "stream",
     "text": [
      "Simple regression scores:  [0.443, 0.432, 0.469, 0.422, 0.425] \n",
      "\n",
      "Simple mean cv r^2: 0.438 +- 0.017 \n",
      "\n",
      "The average error (MAE) on a predicted value on the holdout test data is:  0.5264061628369012\n"
     ]
    },
    {
     "name": "stderr",
     "output_type": "stream",
     "text": [
      "C:\\Users\\ejfel\\anaconda3\\lib\\site-packages\\pandas\\core\\generic.py:5303: SettingWithCopyWarning: \n",
      "A value is trying to be set on a copy of a slice from a DataFrame.\n",
      "Try using .loc[row_indexer,col_indexer] = value instead\n",
      "\n",
      "See the caveats in the documentation: https://pandas.pydata.org/pandas-docs/stable/user_guide/indexing.html#returning-a-view-versus-a-copy\n",
      "  self[name] = value\n"
     ]
    }
   ],
   "source": [
    "modeling_body = subcats[(subcats.roaster.isnull() == False)&(subcats.body.isnull() == False)&(subcats.body>0)]\n",
    "modeling_body.body = modeling_body.body.astype(int)\n",
    "\n",
    "body_X, X_body, body_y, y_body = train_test_split(modeling_body[topic_features],modeling_body.body,test_size=.2,random_state=42)\n",
    "train_X, train_y = np.array(body_X), np.array(body_y)\n",
    "\n",
    "#run the CV\n",
    "kf = KFold(n_splits=5, shuffle=True, random_state = 42)\n",
    "cv_lm_r2s = [] #collect the validation results\n",
    "\n",
    "for train_ind, val_ind in kf.split(train_X,train_y):\n",
    "    \n",
    "    tr_X, tr_y = train_X[train_ind], train_y[train_ind]\n",
    "    X_val, y_val = train_X[val_ind], train_y[val_ind] \n",
    "    \n",
    "    #simple linear regression\n",
    "    lm_body = LinearRegression()\n",
    "\n",
    "    lm_body.fit(tr_X, tr_y)\n",
    "    cv_lm_r2s.append(round(lm_body.score(X_val, y_val), 3))\n",
    "\n",
    "print('Simple regression scores: ', cv_lm_r2s, '\\n')\n",
    "\n",
    "print(f'Simple mean cv r^2: {np.mean(cv_lm_r2s):.3f} +- {np.std(cv_lm_r2s):.3f}','\\n')\n",
    "\n",
    "test_set_pred = lm_body.predict(X_body)\n",
    "\n",
    "mae_kfoldlinear = mae(y_body,test_set_pred)\n",
    "\n",
    "print('The average error (MAE) on a predicted value on the holdout test data is: ',mae_kfoldlinear)"
   ]
  },
  {
   "cell_type": "code",
   "execution_count": 288,
   "metadata": {},
   "outputs": [
    {
     "name": "stdout",
     "output_type": "stream",
     "text": [
      "Simple regression scores:  [0.576, 0.55, 0.557, 0.502, 0.579] \n",
      "\n",
      "Simple mean cv r^2: 0.553 +- 0.028 \n",
      "\n",
      "The average error (MAE) on a predicted value on the holdout test data is:  0.4942264744623297\n"
     ]
    },
    {
     "name": "stderr",
     "output_type": "stream",
     "text": [
      "C:\\Users\\ejfel\\anaconda3\\lib\\site-packages\\pandas\\core\\generic.py:5303: SettingWithCopyWarning: \n",
      "A value is trying to be set on a copy of a slice from a DataFrame.\n",
      "Try using .loc[row_indexer,col_indexer] = value instead\n",
      "\n",
      "See the caveats in the documentation: https://pandas.pydata.org/pandas-docs/stable/user_guide/indexing.html#returning-a-view-versus-a-copy\n",
      "  self[name] = value\n"
     ]
    }
   ],
   "source": [
    "modeling_flavor = subcats[(subcats.roaster.isnull() == False)&(subcats.flavor.isnull() == False)&(subcats.flavor>0)]\n",
    "modeling_flavor.flavor = modeling_flavor.flavor.astype(int)\n",
    "\n",
    "flavor_X, X_flavor, flavor_y, y_flavor = train_test_split(modeling_flavor[topic_features],modeling_flavor.flavor,test_size=.2,random_state=42)\n",
    "train_X, train_y = np.array(flavor_X), np.array(flavor_y)\n",
    "\n",
    "#run the CV\n",
    "kf = KFold(n_splits=5, shuffle=True, random_state = 42)\n",
    "cv_lm_r2s = [] #collect the validation results\n",
    "\n",
    "for train_ind, val_ind in kf.split(train_X,train_y):\n",
    "    \n",
    "    tr_X, tr_y = train_X[train_ind], train_y[train_ind]\n",
    "    X_val, y_val = train_X[val_ind], train_y[val_ind] \n",
    "    \n",
    "    #simple linear regression\n",
    "    lm_flavor = LinearRegression()\n",
    "\n",
    "    lm_flavor.fit(tr_X, tr_y)\n",
    "    cv_lm_r2s.append(round(lm_flavor.score(X_val, y_val), 3))\n",
    "\n",
    "print('Simple regression scores: ', cv_lm_r2s, '\\n')\n",
    "\n",
    "print(f'Simple mean cv r^2: {np.mean(cv_lm_r2s):.3f} +- {np.std(cv_lm_r2s):.3f}','\\n')\n",
    "\n",
    "test_set_pred = lm_flavor.predict(X_flavor)\n",
    "\n",
    "mae_kfoldlinear = mae(y_flavor,test_set_pred)\n",
    "\n",
    "print('The average error (MAE) on a predicted value on the holdout test data is: ',mae_kfoldlinear)"
   ]
  },
  {
   "cell_type": "code",
   "execution_count": 289,
   "metadata": {},
   "outputs": [
    {
     "name": "stdout",
     "output_type": "stream",
     "text": [
      "Simple regression scores:  [0.19, 0.167, 0.257, 0.248, 0.26] \n",
      "\n",
      "Simple mean cv r^2: 0.224 +- 0.038 \n",
      "\n",
      "The average error (MAE) on a predicted value on the holdout test data is:  0.4745089857737524\n"
     ]
    },
    {
     "name": "stderr",
     "output_type": "stream",
     "text": [
      "C:\\Users\\ejfel\\anaconda3\\lib\\site-packages\\pandas\\core\\generic.py:5303: SettingWithCopyWarning: \n",
      "A value is trying to be set on a copy of a slice from a DataFrame.\n",
      "Try using .loc[row_indexer,col_indexer] = value instead\n",
      "\n",
      "See the caveats in the documentation: https://pandas.pydata.org/pandas-docs/stable/user_guide/indexing.html#returning-a-view-versus-a-copy\n",
      "  self[name] = value\n"
     ]
    }
   ],
   "source": [
    "modeling_aftertaste = subcats[(subcats.roaster.isnull() == False)&(subcats.aftertaste.isnull() == False)&(subcats.aftertaste>0)]\n",
    "modeling_aftertaste.aftertaste = modeling_aftertaste.aftertaste.astype(int)\n",
    "\n",
    "aftertaste_X, X_aftertaste, aftertaste_y, y_aftertaste = train_test_split(modeling_aftertaste[topic_features],modeling_aftertaste.aftertaste,test_size=.2,random_state=42)\n",
    "train_X, train_y = np.array(aftertaste_X), np.array(aftertaste_y)\n",
    "\n",
    "#run the CV\n",
    "kf = KFold(n_splits=5, shuffle=True, random_state = 42)\n",
    "cv_lm_r2s = [] #collect the validation results\n",
    "\n",
    "for train_ind, val_ind in kf.split(train_X,train_y):\n",
    "    \n",
    "    tr_X, tr_y = train_X[train_ind], train_y[train_ind]\n",
    "    X_val, y_val = train_X[val_ind], train_y[val_ind] \n",
    "    \n",
    "    #simple linear regression\n",
    "    lm_aftertaste = LinearRegression()\n",
    "\n",
    "    lm_aftertaste.fit(tr_X, tr_y)\n",
    "    cv_lm_r2s.append(round(lm_aftertaste.score(X_val, y_val), 3))\n",
    "\n",
    "print('Simple regression scores: ', cv_lm_r2s, '\\n')\n",
    "\n",
    "print(f'Simple mean cv r^2: {np.mean(cv_lm_r2s):.3f} +- {np.std(cv_lm_r2s):.3f}','\\n')\n",
    "\n",
    "test_set_pred = lm_aftertaste.predict(X_aftertaste)\n",
    "\n",
    "mae_kfoldlinear = mae(y_aftertaste,test_set_pred)\n",
    "\n",
    "print('The average error (MAE) on a predicted value on the holdout test data is: ',mae_kfoldlinear)"
   ]
  },
  {
   "cell_type": "code",
   "execution_count": 290,
   "metadata": {},
   "outputs": [
    {
     "name": "stdout",
     "output_type": "stream",
     "text": [
      "Simple regression scores:  [0.547, 0.583, 0.577, 0.513, 0.499] \n",
      "\n",
      "Simple mean cv r^2: 0.544 +- 0.033 \n",
      "\n",
      "The average error (MAE) on a predicted value on the holdout test data is:  0.5706627887226385\n"
     ]
    },
    {
     "name": "stderr",
     "output_type": "stream",
     "text": [
      "C:\\Users\\ejfel\\anaconda3\\lib\\site-packages\\pandas\\core\\generic.py:5303: SettingWithCopyWarning: \n",
      "A value is trying to be set on a copy of a slice from a DataFrame.\n",
      "Try using .loc[row_indexer,col_indexer] = value instead\n",
      "\n",
      "See the caveats in the documentation: https://pandas.pydata.org/pandas-docs/stable/user_guide/indexing.html#returning-a-view-versus-a-copy\n",
      "  self[name] = value\n"
     ]
    }
   ],
   "source": [
    "modeling_acidity = subcats[(subcats.roaster.isnull() == False)&(subcats.acidity.isnull() == False)&(subcats.acidity>0)]\n",
    "modeling_acidity.acidity = modeling_acidity.acidity.astype(int)\n",
    "\n",
    "acidity_X, X_acidity, acidity_y, y_acidity = train_test_split(modeling_acidity[topic_features],modeling_acidity.acidity,test_size=.2,random_state=42)\n",
    "train_X, train_y = np.array(acidity_X), np.array(acidity_y)\n",
    "\n",
    "#run the CV\n",
    "kf = KFold(n_splits=5, shuffle=True, random_state = 42)\n",
    "cv_lm_r2s = [] #collect the validation results\n",
    "\n",
    "for train_ind, val_ind in kf.split(train_X,train_y):\n",
    "    \n",
    "    tr_X, tr_y = train_X[train_ind], train_y[train_ind]\n",
    "    X_val, y_val = train_X[val_ind], train_y[val_ind] \n",
    "    \n",
    "    #simple linear regression\n",
    "    lm_acidity = LinearRegression()\n",
    "\n",
    "    lm_acidity.fit(tr_X, tr_y)\n",
    "    cv_lm_r2s.append(round(lm_acidity.score(X_val, y_val), 3))\n",
    "\n",
    "print('Simple regression scores: ', cv_lm_r2s, '\\n')\n",
    "\n",
    "print(f'Simple mean cv r^2: {np.mean(cv_lm_r2s):.3f} +- {np.std(cv_lm_r2s):.3f}','\\n')\n",
    "\n",
    "test_set_pred = lm_acidity.predict(X_acidity)\n",
    "\n",
    "mae_kfoldlinear = mae(y_acidity,test_set_pred)\n",
    "\n",
    "print('The average error (MAE) on a predicted value on the holdout test data is: ',mae_kfoldlinear)"
   ]
  },
  {
   "cell_type": "markdown",
   "metadata": {},
   "source": [
    "## Use the above models to make predictions for scores, then combining for a prediction on final score"
   ]
  },
  {
   "cell_type": "code",
   "execution_count": 291,
   "metadata": {},
   "outputs": [
    {
     "data": {
      "text/html": [
       "<div>\n",
       "<style scoped>\n",
       "    .dataframe tbody tr th:only-of-type {\n",
       "        vertical-align: middle;\n",
       "    }\n",
       "\n",
       "    .dataframe tbody tr th {\n",
       "        vertical-align: top;\n",
       "    }\n",
       "\n",
       "    .dataframe thead th {\n",
       "        text-align: right;\n",
       "    }\n",
       "</style>\n",
       "<table border=\"1\" class=\"dataframe\">\n",
       "  <thead>\n",
       "    <tr style=\"text-align: right;\">\n",
       "      <th></th>\n",
       "      <th>pred_aroma</th>\n",
       "      <th>pred_body</th>\n",
       "      <th>pred_aftertaste</th>\n",
       "      <th>pred_flavor</th>\n",
       "      <th>pred_acidity</th>\n",
       "      <th>rating</th>\n",
       "    </tr>\n",
       "  </thead>\n",
       "  <tbody>\n",
       "    <tr>\n",
       "      <th>0</th>\n",
       "      <td>8.485640</td>\n",
       "      <td>8.114167</td>\n",
       "      <td>8.313316</td>\n",
       "      <td>8.582578</td>\n",
       "      <td>8.198264</td>\n",
       "      <td>93.0</td>\n",
       "    </tr>\n",
       "    <tr>\n",
       "      <th>1</th>\n",
       "      <td>9.583666</td>\n",
       "      <td>8.963000</td>\n",
       "      <td>8.670203</td>\n",
       "      <td>10.187582</td>\n",
       "      <td>9.671808</td>\n",
       "      <td>92.0</td>\n",
       "    </tr>\n",
       "    <tr>\n",
       "      <th>2</th>\n",
       "      <td>9.096377</td>\n",
       "      <td>8.783150</td>\n",
       "      <td>8.125554</td>\n",
       "      <td>9.230827</td>\n",
       "      <td>8.717394</td>\n",
       "      <td>96.0</td>\n",
       "    </tr>\n",
       "    <tr>\n",
       "      <th>3</th>\n",
       "      <td>6.974857</td>\n",
       "      <td>6.779329</td>\n",
       "      <td>7.471054</td>\n",
       "      <td>6.843888</td>\n",
       "      <td>6.318828</td>\n",
       "      <td>95.0</td>\n",
       "    </tr>\n",
       "  </tbody>\n",
       "</table>\n",
       "</div>"
      ],
      "text/plain": [
       "   pred_aroma  pred_body  pred_aftertaste  pred_flavor  pred_acidity  rating\n",
       "0    8.485640   8.114167         8.313316     8.582578      8.198264    93.0\n",
       "1    9.583666   8.963000         8.670203    10.187582      9.671808    92.0\n",
       "2    9.096377   8.783150         8.125554     9.230827      8.717394    96.0\n",
       "3    6.974857   6.779329         7.471054     6.843888      6.318828    95.0"
      ]
     },
     "execution_count": 291,
     "metadata": {},
     "output_type": "execute_result"
    }
   ],
   "source": [
    "subcat_preds = pd.DataFrame()\n",
    "subcat_preds['pred_aroma'] = lm_aroma.predict(big_X[topic_features])\n",
    "subcat_preds['pred_body'] = lm_body.predict(big_X[topic_features])\n",
    "subcat_preds['pred_aftertaste'] = lm_aftertaste.predict(big_X[topic_features])\n",
    "subcat_preds['pred_flavor'] = lm_flavor.predict(big_X[topic_features])\n",
    "subcat_preds['pred_acidity'] = lm_acidity.predict(big_X[topic_features])\n",
    "subcat_preds['rating'] = big_y\n",
    "subcat_preds.head(4)"
   ]
  },
  {
   "cell_type": "code",
   "execution_count": 292,
   "metadata": {},
   "outputs": [
    {
     "data": {
      "text/html": [
       "<div>\n",
       "<style scoped>\n",
       "    .dataframe tbody tr th:only-of-type {\n",
       "        vertical-align: middle;\n",
       "    }\n",
       "\n",
       "    .dataframe tbody tr th {\n",
       "        vertical-align: top;\n",
       "    }\n",
       "\n",
       "    .dataframe thead th {\n",
       "        text-align: right;\n",
       "    }\n",
       "</style>\n",
       "<table border=\"1\" class=\"dataframe\">\n",
       "  <thead>\n",
       "    <tr style=\"text-align: right;\">\n",
       "      <th></th>\n",
       "      <th>pred_aroma</th>\n",
       "      <th>pred_body</th>\n",
       "      <th>pred_aftertaste</th>\n",
       "      <th>pred_flavor</th>\n",
       "      <th>pred_acidity</th>\n",
       "      <th>rating</th>\n",
       "    </tr>\n",
       "  </thead>\n",
       "  <tbody>\n",
       "    <tr>\n",
       "      <th>count</th>\n",
       "      <td>4763.000000</td>\n",
       "      <td>4763.000000</td>\n",
       "      <td>4763.000000</td>\n",
       "      <td>4763.000000</td>\n",
       "      <td>4763.000000</td>\n",
       "      <td>3807.000000</td>\n",
       "    </tr>\n",
       "    <tr>\n",
       "      <th>mean</th>\n",
       "      <td>8.237124</td>\n",
       "      <td>7.944908</td>\n",
       "      <td>7.858724</td>\n",
       "      <td>8.317786</td>\n",
       "      <td>7.730276</td>\n",
       "      <td>91.652220</td>\n",
       "    </tr>\n",
       "    <tr>\n",
       "      <th>std</th>\n",
       "      <td>0.678111</td>\n",
       "      <td>0.603435</td>\n",
       "      <td>0.404017</td>\n",
       "      <td>0.806189</td>\n",
       "      <td>0.847041</td>\n",
       "      <td>2.908643</td>\n",
       "    </tr>\n",
       "    <tr>\n",
       "      <th>min</th>\n",
       "      <td>5.233174</td>\n",
       "      <td>5.524063</td>\n",
       "      <td>5.982486</td>\n",
       "      <td>4.844183</td>\n",
       "      <td>4.003198</td>\n",
       "      <td>52.000000</td>\n",
       "    </tr>\n",
       "    <tr>\n",
       "      <th>25%</th>\n",
       "      <td>7.805281</td>\n",
       "      <td>7.539129</td>\n",
       "      <td>7.610268</td>\n",
       "      <td>7.786997</td>\n",
       "      <td>7.157785</td>\n",
       "      <td>90.000000</td>\n",
       "    </tr>\n",
       "    <tr>\n",
       "      <th>50%</th>\n",
       "      <td>8.377643</td>\n",
       "      <td>8.057208</td>\n",
       "      <td>7.936921</td>\n",
       "      <td>8.515331</td>\n",
       "      <td>7.901968</td>\n",
       "      <td>92.000000</td>\n",
       "    </tr>\n",
       "    <tr>\n",
       "      <th>75%</th>\n",
       "      <td>8.750958</td>\n",
       "      <td>8.411347</td>\n",
       "      <td>8.148504</td>\n",
       "      <td>8.924902</td>\n",
       "      <td>8.363624</td>\n",
       "      <td>93.000000</td>\n",
       "    </tr>\n",
       "    <tr>\n",
       "      <th>max</th>\n",
       "      <td>9.692005</td>\n",
       "      <td>9.250000</td>\n",
       "      <td>8.846855</td>\n",
       "      <td>10.187582</td>\n",
       "      <td>9.671808</td>\n",
       "      <td>98.000000</td>\n",
       "    </tr>\n",
       "  </tbody>\n",
       "</table>\n",
       "</div>"
      ],
      "text/plain": [
       "        pred_aroma    pred_body  pred_aftertaste  pred_flavor  pred_acidity  \\\n",
       "count  4763.000000  4763.000000      4763.000000  4763.000000   4763.000000   \n",
       "mean      8.237124     7.944908         7.858724     8.317786      7.730276   \n",
       "std       0.678111     0.603435         0.404017     0.806189      0.847041   \n",
       "min       5.233174     5.524063         5.982486     4.844183      4.003198   \n",
       "25%       7.805281     7.539129         7.610268     7.786997      7.157785   \n",
       "50%       8.377643     8.057208         7.936921     8.515331      7.901968   \n",
       "75%       8.750958     8.411347         8.148504     8.924902      8.363624   \n",
       "max       9.692005     9.250000         8.846855    10.187582      9.671808   \n",
       "\n",
       "            rating  \n",
       "count  3807.000000  \n",
       "mean     91.652220  \n",
       "std       2.908643  \n",
       "min      52.000000  \n",
       "25%      90.000000  \n",
       "50%      92.000000  \n",
       "75%      93.000000  \n",
       "max      98.000000  "
      ]
     },
     "execution_count": 292,
     "metadata": {},
     "output_type": "execute_result"
    }
   ],
   "source": [
    "subcat_preds.describe()"
   ]
  },
  {
   "cell_type": "code",
   "execution_count": 273,
   "metadata": {},
   "outputs": [
    {
     "data": {
      "text/html": [
       "<div>\n",
       "<style scoped>\n",
       "    .dataframe tbody tr th:only-of-type {\n",
       "        vertical-align: middle;\n",
       "    }\n",
       "\n",
       "    .dataframe tbody tr th {\n",
       "        vertical-align: top;\n",
       "    }\n",
       "\n",
       "    .dataframe thead th {\n",
       "        text-align: right;\n",
       "    }\n",
       "</style>\n",
       "<table border=\"1\" class=\"dataframe\">\n",
       "  <thead>\n",
       "    <tr style=\"text-align: right;\">\n",
       "      <th></th>\n",
       "      <th>aroma</th>\n",
       "      <th>body</th>\n",
       "      <th>flavor</th>\n",
       "      <th>aftertaste</th>\n",
       "      <th>acidity</th>\n",
       "    </tr>\n",
       "  </thead>\n",
       "  <tbody>\n",
       "    <tr>\n",
       "      <th>count</th>\n",
       "      <td>4099.000000</td>\n",
       "      <td>4099.000000</td>\n",
       "      <td>4099.000000</td>\n",
       "      <td>4099.000000</td>\n",
       "      <td>4099.000000</td>\n",
       "    </tr>\n",
       "    <tr>\n",
       "      <th>mean</th>\n",
       "      <td>8.497194</td>\n",
       "      <td>8.210783</td>\n",
       "      <td>8.639424</td>\n",
       "      <td>7.958283</td>\n",
       "      <td>8.091486</td>\n",
       "    </tr>\n",
       "    <tr>\n",
       "      <th>std</th>\n",
       "      <td>0.750584</td>\n",
       "      <td>0.661624</td>\n",
       "      <td>0.780289</td>\n",
       "      <td>0.737986</td>\n",
       "      <td>0.799691</td>\n",
       "    </tr>\n",
       "    <tr>\n",
       "      <th>min</th>\n",
       "      <td>2.000000</td>\n",
       "      <td>5.000000</td>\n",
       "      <td>1.000000</td>\n",
       "      <td>2.000000</td>\n",
       "      <td>1.000000</td>\n",
       "    </tr>\n",
       "    <tr>\n",
       "      <th>25%</th>\n",
       "      <td>8.000000</td>\n",
       "      <td>8.000000</td>\n",
       "      <td>8.000000</td>\n",
       "      <td>8.000000</td>\n",
       "      <td>8.000000</td>\n",
       "    </tr>\n",
       "    <tr>\n",
       "      <th>50%</th>\n",
       "      <td>9.000000</td>\n",
       "      <td>8.000000</td>\n",
       "      <td>9.000000</td>\n",
       "      <td>8.000000</td>\n",
       "      <td>8.000000</td>\n",
       "    </tr>\n",
       "    <tr>\n",
       "      <th>75%</th>\n",
       "      <td>9.000000</td>\n",
       "      <td>9.000000</td>\n",
       "      <td>9.000000</td>\n",
       "      <td>8.000000</td>\n",
       "      <td>9.000000</td>\n",
       "    </tr>\n",
       "    <tr>\n",
       "      <th>max</th>\n",
       "      <td>10.000000</td>\n",
       "      <td>10.000000</td>\n",
       "      <td>10.000000</td>\n",
       "      <td>10.000000</td>\n",
       "      <td>10.000000</td>\n",
       "    </tr>\n",
       "  </tbody>\n",
       "</table>\n",
       "</div>"
      ],
      "text/plain": [
       "             aroma         body       flavor   aftertaste      acidity\n",
       "count  4099.000000  4099.000000  4099.000000  4099.000000  4099.000000\n",
       "mean      8.497194     8.210783     8.639424     7.958283     8.091486\n",
       "std       0.750584     0.661624     0.780289     0.737986     0.799691\n",
       "min       2.000000     5.000000     1.000000     2.000000     1.000000\n",
       "25%       8.000000     8.000000     8.000000     8.000000     8.000000\n",
       "50%       9.000000     8.000000     9.000000     8.000000     8.000000\n",
       "75%       9.000000     9.000000     9.000000     8.000000     9.000000\n",
       "max      10.000000    10.000000    10.000000    10.000000    10.000000"
      ]
     },
     "execution_count": 273,
     "metadata": {},
     "output_type": "execute_result"
    }
   ],
   "source": [
    "combined[(combined.rating>0)&(combined.aroma>0)&(combined.body>0)&(combined.flavor>0)&(combined.aftertaste>0)&(combined.acidity>0)].drop(columns=['group','rating']).describe()"
   ]
  },
  {
   "cell_type": "code",
   "execution_count": 293,
   "metadata": {},
   "outputs": [
    {
     "name": "stdout",
     "output_type": "stream",
     "text": [
      "Simple regression scores:  [-0.005, -0.019, -0.01, -0.005, -0.003] \n",
      "\n",
      "Simple mean cv r^2: -0.008 +- 0.006 \n",
      "\n",
      "The average error (MAE) on a predicted value on the holdout test data is:  2.0495132822338915\n"
     ]
    }
   ],
   "source": [
    "features = ['pred_aroma','pred_body','pred_flavor','pred_aftertaste','pred_acidity']\n",
    "to_model = subcat_preds[subcat_preds.rating.isnull()==False]\n",
    "\n",
    "sub_X, X_sub, sub_y, y_sub = train_test_split(to_model[features],to_model.rating,test_size=.2,random_state=42)\n",
    "train_X, train_y = np.array(sub_X), np.array(sub_y)\n",
    "#run the CV\n",
    "kf = KFold(n_splits=5, shuffle=True, random_state = 71)\n",
    "cv_lm_r2s = [] #collect the validation results\n",
    "\n",
    "for train_ind, val_ind in kf.split(train_X,train_y):\n",
    "    \n",
    "    tr_X, tr_y = train_X[train_ind], train_y[train_ind]\n",
    "    X_val, y_val = train_X[val_ind], train_y[val_ind] \n",
    "    \n",
    "    #simple linear regression\n",
    "    lm_subcats = LinearRegression()\n",
    "\n",
    "    lm_subcats.fit(tr_X, tr_y)\n",
    "    cv_lm_r2s.append(round(lm_subcats.score(X_val, y_val), 3))\n",
    "\n",
    "print('Simple regression scores: ', cv_lm_r2s, '\\n')\n",
    "\n",
    "print(f'Simple mean cv r^2: {np.mean(cv_lm_r2s):.3f} +- {np.std(cv_lm_r2s):.3f}','\\n')\n",
    "\n",
    "test_set_pred = lm_subcats.predict(X_sub)\n",
    "\n",
    "mae_kfoldlinear = mae(y_sub,test_set_pred)\n",
    "\n",
    "print('The average error (MAE) on a predicted value on the holdout test data is: ',mae_kfoldlinear)"
   ]
  },
  {
   "cell_type": "code",
   "execution_count": 304,
   "metadata": {},
   "outputs": [
    {
     "name": "stdout",
     "output_type": "stream",
     "text": [
      "The strong model predicting on predicted subcats has a r^2 score of:  -1.2314740909332493\n",
      "The average error (MAE) on a predicted value predicted from subcats test data is:  3.383374901653508\n"
     ]
    }
   ],
   "source": [
    "print('The strong model predicting on predicted subcats has a r^2 score of: ',lm_scores.score(X_, y_))\n",
    "\n",
    "test_set_pred = lm_numerical.predict(X_sub)\n",
    "mae_kfoldlinear = mae(y_sub,test_set_pred)\n",
    "print('The average error (MAE) on a predicted value predicted from subcats test data is: ',mae_kfoldlinear)"
   ]
  },
  {
   "cell_type": "code",
   "execution_count": null,
   "metadata": {},
   "outputs": [],
   "source": []
  },
  {
   "cell_type": "markdown",
   "metadata": {},
   "source": [
    "## Straight up numerical reviews to predict overall score"
   ]
  },
  {
   "cell_type": "code",
   "execution_count": 210,
   "metadata": {},
   "outputs": [
    {
     "data": {
      "text/html": [
       "<div>\n",
       "<style scoped>\n",
       "    .dataframe tbody tr th:only-of-type {\n",
       "        vertical-align: middle;\n",
       "    }\n",
       "\n",
       "    .dataframe tbody tr th {\n",
       "        vertical-align: top;\n",
       "    }\n",
       "\n",
       "    .dataframe thead th {\n",
       "        text-align: right;\n",
       "    }\n",
       "</style>\n",
       "<table border=\"1\" class=\"dataframe\">\n",
       "  <thead>\n",
       "    <tr style=\"text-align: right;\">\n",
       "      <th></th>\n",
       "      <th>roaster</th>\n",
       "      <th>origin</th>\n",
       "      <th>roast_level</th>\n",
       "      <th>group</th>\n",
       "      <th>rating</th>\n",
       "      <th>aroma</th>\n",
       "      <th>body</th>\n",
       "      <th>flavor</th>\n",
       "      <th>aftertaste</th>\n",
       "      <th>acidity</th>\n",
       "    </tr>\n",
       "  </thead>\n",
       "  <tbody>\n",
       "    <tr>\n",
       "      <th>0</th>\n",
       "      <td>Jackrabbit Java</td>\n",
       "      <td>Costa Rica</td>\n",
       "      <td>Medium-Light</td>\n",
       "      <td>1</td>\n",
       "      <td>93</td>\n",
       "      <td>9.0</td>\n",
       "      <td>9.0</td>\n",
       "      <td>9.0</td>\n",
       "      <td>8.0</td>\n",
       "      <td>8.0</td>\n",
       "    </tr>\n",
       "  </tbody>\n",
       "</table>\n",
       "</div>"
      ],
      "text/plain": [
       "           roaster      origin   roast_level  group  rating  aroma  body  \\\n",
       "0  Jackrabbit Java  Costa Rica  Medium-Light      1      93    9.0   9.0   \n",
       "\n",
       "   flavor  aftertaste  acidity  \n",
       "0     9.0         8.0      8.0  "
      ]
     },
     "execution_count": 210,
     "metadata": {},
     "output_type": "execute_result"
    }
   ],
   "source": [
    "combined.head(1)"
   ]
  },
  {
   "cell_type": "code",
   "execution_count": 224,
   "metadata": {},
   "outputs": [
    {
     "name": "stderr",
     "output_type": "stream",
     "text": [
      "C:\\Users\\ejfel\\anaconda3\\lib\\site-packages\\pandas\\core\\ops\\array_ops.py:253: FutureWarning: elementwise comparison failed; returning scalar instead, but in the future will perform elementwise comparison\n",
      "  res_values = method(rvalues)\n"
     ]
    }
   ],
   "source": [
    "combined.loc[(combined.aroma == 'NR')|(combined.aroma == 'NA'),'aroma'] = '-999'\n",
    "combined.aroma = combined.aroma.astype(float)\n",
    "combined.aroma = combined.aroma.round(0)\n",
    "\n",
    "combined.loc[(combined.body == 'NR')|(combined.body == 'NA'),'body'] = '-999'\n",
    "combined.body = combined.body.astype(float)\n",
    "combined.body = combined.body.round(0)\n",
    "\n",
    "combined.loc[(combined.flavor == 'NR')|(combined.flavor == 'NA'),'flavor'] = '-999'\n",
    "combined.flavor = combined.flavor.astype(float)\n",
    "combined.flavor = combined.flavor.round(0)\n",
    "\n",
    "combined.aftertaste.fillna('-999',inplace=True)\n",
    "combined.aftertaste = combined.aftertaste.astype(float)\n",
    "combined.aftertaste = combined.aftertaste.round(0)\n",
    "\n",
    "combined.loc[(combined.acidity == 'NR')|(combined.acidity == 'NA')|(combined.acidity == 'na')|(combined.acidity == 'n/a'),'acidity'] = '-999'\n",
    "combined.loc[(combined.acidity == 'Very Low'),'acidity'] = '1'\n",
    "combined.loc[(combined.acidity == 'Low'),'acidity'] = '3'\n",
    "combined.loc[(combined.acidity == 'Moderate'),'acidity'] = '5'\n",
    "combined.acidity.fillna(-999,inplace=True)\n",
    "combined.acidity = combined.acidity.astype(float)\n",
    "combined.acidity = combined.acidity.round(0)\n",
    "\n",
    "# combined.dropna(subset=['rating','aroma','body','flavor','aftertaste','acidity'],axis=0,inplace=True)"
   ]
  },
  {
   "cell_type": "code",
   "execution_count": 296,
   "metadata": {},
   "outputs": [],
   "source": [
    "features = ['aroma','body','flavor','aftertaste','acidity']\n",
    "useful = combined[(combined.rating>0)&(combined.aroma>0)&(combined.body>0)&(combined.flavor>0)&(combined.aftertaste>0)&(combined.acidity>0)]\n",
    "numerical_X, X_numerical, numerical_y, y_numerical = train_test_split(useful[features],useful.rating,test_size=.2,random_state=42)"
   ]
  },
  {
   "cell_type": "code",
   "execution_count": 275,
   "metadata": {},
   "outputs": [],
   "source": [
    "#Mean Absolute Error (MAE)\n",
    "def mae(y_true, y_pred):\n",
    "    return np.mean(np.abs(y_pred - y_true))"
   ]
  },
  {
   "cell_type": "code",
   "execution_count": 19,
   "metadata": {},
   "outputs": [
    {
     "name": "stdout",
     "output_type": "stream",
     "text": [
      "Simple regression scores:  [0.942, 0.934, 0.96, 0.944, 0.933] \n",
      "\n",
      "Simple mean cv r^2: 0.943 +- 0.010 \n",
      "\n",
      "The average error (MAE) on a predicted value on the holdout test data is:  0.3614933494948243\n"
     ]
    }
   ],
   "source": [
    "train_X, train_y = np.array(numerical_X), np.array(numerical_y)\n",
    "#run the CV\n",
    "kf = KFold(n_splits=5, shuffle=True, random_state = 71)\n",
    "cv_lm_r2s = [] #collect the validation results\n",
    "\n",
    "for train_ind, val_ind in kf.split(train_X,train_y):\n",
    "    \n",
    "    tr_X, tr_y = train_X[train_ind], train_y[train_ind]\n",
    "    X_val, y_val = train_X[val_ind], train_y[val_ind] \n",
    "    \n",
    "    #simple linear regression\n",
    "    lm_numerical = LinearRegression()\n",
    "\n",
    "    lm_numerical.fit(tr_X, tr_y)\n",
    "    cv_lm_r2s.append(round(lm_numerical.score(X_val, y_val), 3))\n",
    "\n",
    "print('Simple regression scores: ', cv_lm_r2s, '\\n')\n",
    "\n",
    "print(f'Simple mean cv r^2: {np.mean(cv_lm_r2s):.3f} +- {np.std(cv_lm_r2s):.3f}','\\n')\n",
    "\n",
    "test_set_pred = lm_numerical.predict(X_numerical)\n",
    "\n",
    "mae_kfoldlinear = mae(y_numerical,test_set_pred)\n",
    "\n",
    "print('The average error (MAE) on a predicted value on the holdout test data is: ',mae_kfoldlinear)"
   ]
  },
  {
   "cell_type": "code",
   "execution_count": 20,
   "metadata": {},
   "outputs": [
    {
     "data": {
      "text/plain": [
       "[('aroma', 1.0418377367675011),\n",
       " ('body', 0.7491857751629859),\n",
       " ('flavor', 1.003140009198338),\n",
       " ('aftertaste', 1.1398576026692442),\n",
       " ('acidity', 0.8886668258127939)]"
      ]
     },
     "execution_count": 20,
     "metadata": {},
     "output_type": "execute_result"
    }
   ],
   "source": [
    "list(zip(numerical_X.columns, lm_numerical.coef_))"
   ]
  },
  {
   "cell_type": "code",
   "execution_count": 24,
   "metadata": {},
   "outputs": [
    {
     "data": {
      "text/plain": [
       "51.659800010176"
      ]
     },
     "execution_count": 24,
     "metadata": {},
     "output_type": "execute_result"
    }
   ],
   "source": [
    "lm_numerical.intercept_"
   ]
  },
  {
   "cell_type": "code",
   "execution_count": 21,
   "metadata": {},
   "outputs": [
    {
     "data": {
      "text/plain": [
       "[('aroma', 0.762685361734256),\n",
       " ('body', 0.48443267950792995),\n",
       " ('flavor', 0.7936152348422367),\n",
       " ('aftertaste', 0.8508650016952471),\n",
       " ('acidity', 0.7192498495414757)]"
      ]
     },
     "execution_count": 21,
     "metadata": {},
     "output_type": "execute_result"
    }
   ],
   "source": [
    "alphavec = 10**np.linspace(-2,2,200)\n",
    "std = StandardScaler()\n",
    "std.fit(numerical_X)\n",
    "num_X = std.transform(numerical_X)\n",
    "\n",
    "lasso =  LassoCV(alphas = alphavec, cv = 5)\n",
    "lasso.fit(num_X,numerical_y)\n",
    "list(zip(numerical_X.columns, lasso.coef_))"
   ]
  },
  {
   "cell_type": "code",
   "execution_count": 22,
   "metadata": {},
   "outputs": [
    {
     "name": "stdout",
     "output_type": "stream",
     "text": [
      "The r^2 on a predicted value is:  0.9438300261450571\n",
      "The average error (MAE) on a predicted value is:  0.3650037421854297\n"
     ]
    }
   ],
   "source": [
    "test_lasso_pred = lasso.predict(std.transform(X_numerical))\n",
    "mae_lasso = mae(y_numerical,test_lasso_pred)\n",
    "print('The r^2 on a predicted value is: ',r2_score(y_numerical, test_lasso_pred))\n",
    "print('The average error (MAE) on a predicted value is: ',mae_lasso)"
   ]
  },
  {
   "cell_type": "code",
   "execution_count": 23,
   "metadata": {},
   "outputs": [
    {
     "data": {
      "image/png": "[encoded data removed]",
      "text/plain": [
       "<Figure size 720x720 with 1 Axes>"
      ]
     },
     "metadata": {},
     "output_type": "display_data"
    }
   ],
   "source": [
    "y = useful.rating\n",
    "sns.set(rc={'figure.figsize':(10, 10)})\n",
    "fig, ax = plt.subplots()\n",
    "ax.scatter(y_numerical, test_set_pred, s=20,color='#6f4e37')\n",
    "ax.set_facecolor('white')\n",
    "ax.plot([y.min(), y.max()], [y.min(), y.max()], 'k--', lw=2)\n",
    "ax.set_xlabel('Actual Rating',fontsize=18)\n",
    "ax.set_ylabel('Predicted Rating',fontsize=18)\n",
    "ax.set_title('How does the predicted rating of a coffee compare to reality?',fontsize=24)\n",
    "txt = 'The dotted line represents accurate predictions' + '\\n \\n'+' - Below the line represents underpredictions' + '\\n\\n'+ ' - Above the line represents over predictions'\n",
    "text = fig.text(1,.5,txt,fontsize=16)\n",
    "plt.savefig(r'C:\\Users\\ejfel\\Documents\\metis_repos\\Coffee-Reviews-NLP\\Visuals\\linear_num_to_num')\n",
    "plt.show()\n",
    "\n"
   ]
  },
  {
   "cell_type": "code",
   "execution_count": 303,
   "metadata": {},
   "outputs": [
    {
     "data": {
      "text/html": [
       "<div>\n",
       "<style scoped>\n",
       "    .dataframe tbody tr th:only-of-type {\n",
       "        vertical-align: middle;\n",
       "    }\n",
       "\n",
       "    .dataframe tbody tr th {\n",
       "        vertical-align: top;\n",
       "    }\n",
       "\n",
       "    .dataframe thead th {\n",
       "        text-align: right;\n",
       "    }\n",
       "</style>\n",
       "<table border=\"1\" class=\"dataframe\">\n",
       "  <thead>\n",
       "    <tr style=\"text-align: right;\">\n",
       "      <th></th>\n",
       "      <th>rating</th>\n",
       "      <th>aroma</th>\n",
       "      <th>body</th>\n",
       "      <th>flavor</th>\n",
       "      <th>aftertaste</th>\n",
       "      <th>acidity</th>\n",
       "      <th>preds</th>\n",
       "      <th>error</th>\n",
       "    </tr>\n",
       "  </thead>\n",
       "  <tbody>\n",
       "    <tr>\n",
       "      <th>4022</th>\n",
       "      <td>92</td>\n",
       "      <td>7.0</td>\n",
       "      <td>7.0</td>\n",
       "      <td>8.0</td>\n",
       "      <td>7.0</td>\n",
       "      <td>7.0</td>\n",
       "      <td>86.421756</td>\n",
       "      <td>5.578244</td>\n",
       "    </tr>\n",
       "    <tr>\n",
       "      <th>4929</th>\n",
       "      <td>91</td>\n",
       "      <td>7.0</td>\n",
       "      <td>7.0</td>\n",
       "      <td>8.0</td>\n",
       "      <td>7.0</td>\n",
       "      <td>7.0</td>\n",
       "      <td>86.421756</td>\n",
       "      <td>4.578244</td>\n",
       "    </tr>\n",
       "    <tr>\n",
       "      <th>4619</th>\n",
       "      <td>94</td>\n",
       "      <td>8.0</td>\n",
       "      <td>8.0</td>\n",
       "      <td>8.0</td>\n",
       "      <td>8.0</td>\n",
       "      <td>8.0</td>\n",
       "      <td>90.241304</td>\n",
       "      <td>3.758696</td>\n",
       "    </tr>\n",
       "    <tr>\n",
       "      <th>4909</th>\n",
       "      <td>90</td>\n",
       "      <td>8.0</td>\n",
       "      <td>7.0</td>\n",
       "      <td>7.0</td>\n",
       "      <td>7.0</td>\n",
       "      <td>7.0</td>\n",
       "      <td>86.460453</td>\n",
       "      <td>3.539547</td>\n",
       "    </tr>\n",
       "    <tr>\n",
       "      <th>4393</th>\n",
       "      <td>93</td>\n",
       "      <td>8.0</td>\n",
       "      <td>7.0</td>\n",
       "      <td>8.0</td>\n",
       "      <td>8.0</td>\n",
       "      <td>8.0</td>\n",
       "      <td>89.492118</td>\n",
       "      <td>3.507882</td>\n",
       "    </tr>\n",
       "    <tr>\n",
       "      <th>4362</th>\n",
       "      <td>93</td>\n",
       "      <td>8.0</td>\n",
       "      <td>7.0</td>\n",
       "      <td>8.0</td>\n",
       "      <td>8.0</td>\n",
       "      <td>8.0</td>\n",
       "      <td>89.492118</td>\n",
       "      <td>3.507882</td>\n",
       "    </tr>\n",
       "    <tr>\n",
       "      <th>4761</th>\n",
       "      <td>85</td>\n",
       "      <td>9.0</td>\n",
       "      <td>7.0</td>\n",
       "      <td>8.0</td>\n",
       "      <td>7.0</td>\n",
       "      <td>7.0</td>\n",
       "      <td>88.505431</td>\n",
       "      <td>3.505431</td>\n",
       "    </tr>\n",
       "    <tr>\n",
       "      <th>4496</th>\n",
       "      <td>96</td>\n",
       "      <td>9.0</td>\n",
       "      <td>7.0</td>\n",
       "      <td>10.0</td>\n",
       "      <td>8.0</td>\n",
       "      <td>8.0</td>\n",
       "      <td>92.540236</td>\n",
       "      <td>3.459764</td>\n",
       "    </tr>\n",
       "    <tr>\n",
       "      <th>4359</th>\n",
       "      <td>97</td>\n",
       "      <td>10.0</td>\n",
       "      <td>7.0</td>\n",
       "      <td>10.0</td>\n",
       "      <td>8.0</td>\n",
       "      <td>8.0</td>\n",
       "      <td>93.582073</td>\n",
       "      <td>3.417927</td>\n",
       "    </tr>\n",
       "    <tr>\n",
       "      <th>4415</th>\n",
       "      <td>92</td>\n",
       "      <td>8.0</td>\n",
       "      <td>8.0</td>\n",
       "      <td>8.0</td>\n",
       "      <td>7.0</td>\n",
       "      <td>8.0</td>\n",
       "      <td>89.101446</td>\n",
       "      <td>2.898554</td>\n",
       "    </tr>\n",
       "  </tbody>\n",
       "</table>\n",
       "</div>"
      ],
      "text/plain": [
       "      rating  aroma  body  flavor  aftertaste  acidity      preds     error\n",
       "4022      92    7.0   7.0     8.0         7.0      7.0  86.421756  5.578244\n",
       "4929      91    7.0   7.0     8.0         7.0      7.0  86.421756  4.578244\n",
       "4619      94    8.0   8.0     8.0         8.0      8.0  90.241304  3.758696\n",
       "4909      90    8.0   7.0     7.0         7.0      7.0  86.460453  3.539547\n",
       "4393      93    8.0   7.0     8.0         8.0      8.0  89.492118  3.507882\n",
       "4362      93    8.0   7.0     8.0         8.0      8.0  89.492118  3.507882\n",
       "4761      85    9.0   7.0     8.0         7.0      7.0  88.505431  3.505431\n",
       "4496      96    9.0   7.0    10.0         8.0      8.0  92.540236  3.459764\n",
       "4359      97   10.0   7.0    10.0         8.0      8.0  93.582073  3.417927\n",
       "4415      92    8.0   8.0     8.0         7.0      8.0  89.101446  2.898554"
      ]
     },
     "execution_count": 303,
     "metadata": {},
     "output_type": "execute_result"
    }
   ],
   "source": [
    "errors = pd.concat([pd.DataFrame(y_numerical),pd.DataFrame(X_numerical)],axis=1)\n",
    "errors['preds'] = lm_numerical.predict(errors[features])\n",
    "errors['error'] = np.absolute(errors.rating-errors.preds)\n",
    "errors.sort_values(by='error',ascending=False).head(10)"
   ]
  },
  {
   "cell_type": "code",
   "execution_count": 358,
   "metadata": {},
   "outputs": [],
   "source": [
    "with open('subcats_to_score_lasso.pickle', 'wb') as to_write:\n",
    "    pickle.dump(lasso, to_write)"
   ]
  },
  {
   "cell_type": "code",
   "execution_count": 98,
   "metadata": {},
   "outputs": [
    {
     "data": {
      "text/html": [
       "<div>\n",
       "<style scoped>\n",
       "    .dataframe tbody tr th:only-of-type {\n",
       "        vertical-align: middle;\n",
       "    }\n",
       "\n",
       "    .dataframe tbody tr th {\n",
       "        vertical-align: top;\n",
       "    }\n",
       "\n",
       "    .dataframe thead th {\n",
       "        text-align: right;\n",
       "    }\n",
       "</style>\n",
       "<table border=\"1\" class=\"dataframe\">\n",
       "  <thead>\n",
       "    <tr style=\"text-align: right;\">\n",
       "      <th></th>\n",
       "      <th>roaster</th>\n",
       "      <th>origin</th>\n",
       "      <th>roast_level</th>\n",
       "      <th>group</th>\n",
       "      <th>rating</th>\n",
       "      <th>aroma</th>\n",
       "      <th>body</th>\n",
       "      <th>flavor</th>\n",
       "      <th>aftertaste</th>\n",
       "      <th>acidity</th>\n",
       "    </tr>\n",
       "  </thead>\n",
       "  <tbody>\n",
       "    <tr>\n",
       "      <th>4022</th>\n",
       "      <td>Green Mountain Coffee</td>\n",
       "      <td>South-central Kenya</td>\n",
       "      <td>Medium-Dark</td>\n",
       "      <td>2</td>\n",
       "      <td>92</td>\n",
       "      <td>7.0</td>\n",
       "      <td>7.0</td>\n",
       "      <td>8.0</td>\n",
       "      <td>7.0</td>\n",
       "      <td>7.0</td>\n",
       "    </tr>\n",
       "    <tr>\n",
       "      <th>4929</th>\n",
       "      <td>Iron Brew Coffee</td>\n",
       "      <td>Cerrado growing region, Minas Gerais State, Br...</td>\n",
       "      <td>Medium-Light</td>\n",
       "      <td>1</td>\n",
       "      <td>91</td>\n",
       "      <td>7.0</td>\n",
       "      <td>7.0</td>\n",
       "      <td>8.0</td>\n",
       "      <td>7.0</td>\n",
       "      <td>7.0</td>\n",
       "    </tr>\n",
       "    <tr>\n",
       "      <th>4619</th>\n",
       "      <td>Atomic Cafe Coffee Roasters</td>\n",
       "      <td>Narino Department, southern Colombia</td>\n",
       "      <td>Medium</td>\n",
       "      <td>1</td>\n",
       "      <td>94</td>\n",
       "      <td>8.0</td>\n",
       "      <td>8.0</td>\n",
       "      <td>8.0</td>\n",
       "      <td>8.0</td>\n",
       "      <td>8.0</td>\n",
       "    </tr>\n",
       "    <tr>\n",
       "      <th>4909</th>\n",
       "      <td>The Roasterie</td>\n",
       "      <td>Colombia</td>\n",
       "      <td>Medium</td>\n",
       "      <td>1</td>\n",
       "      <td>90</td>\n",
       "      <td>8.0</td>\n",
       "      <td>7.0</td>\n",
       "      <td>7.0</td>\n",
       "      <td>7.0</td>\n",
       "      <td>7.0</td>\n",
       "    </tr>\n",
       "    <tr>\n",
       "      <th>4393</th>\n",
       "      <td>Klatch Coffee</td>\n",
       "      <td>Huila Department, Colombia.</td>\n",
       "      <td>Medium-Light</td>\n",
       "      <td>1</td>\n",
       "      <td>93</td>\n",
       "      <td>8.0</td>\n",
       "      <td>7.0</td>\n",
       "      <td>8.0</td>\n",
       "      <td>8.0</td>\n",
       "      <td>8.0</td>\n",
       "    </tr>\n",
       "    <tr>\n",
       "      <th>4496</th>\n",
       "      <td>Paradise Roasters</td>\n",
       "      <td>Boquete growing region, western Panama</td>\n",
       "      <td>Medium</td>\n",
       "      <td>1</td>\n",
       "      <td>96</td>\n",
       "      <td>9.0</td>\n",
       "      <td>7.0</td>\n",
       "      <td>10.0</td>\n",
       "      <td>8.0</td>\n",
       "      <td>8.0</td>\n",
       "    </tr>\n",
       "    <tr>\n",
       "      <th>4761</th>\n",
       "      <td>Supreme Bean Coffee Roasters</td>\n",
       "      <td>Kaanapali district, near Lahaina, West Maui, H...</td>\n",
       "      <td>Medium-Light</td>\n",
       "      <td>0</td>\n",
       "      <td>85</td>\n",
       "      <td>9.0</td>\n",
       "      <td>7.0</td>\n",
       "      <td>8.0</td>\n",
       "      <td>7.0</td>\n",
       "      <td>7.0</td>\n",
       "    </tr>\n",
       "    <tr>\n",
       "      <th>4362</th>\n",
       "      <td>Green Mountain Coffee</td>\n",
       "      <td>Yirgacheffe growing region, Sidamo Province, s...</td>\n",
       "      <td>Medium</td>\n",
       "      <td>2</td>\n",
       "      <td>93</td>\n",
       "      <td>8.0</td>\n",
       "      <td>7.0</td>\n",
       "      <td>8.0</td>\n",
       "      <td>8.0</td>\n",
       "      <td>8.0</td>\n",
       "    </tr>\n",
       "    <tr>\n",
       "      <th>4359</th>\n",
       "      <td>Terroir Coffee</td>\n",
       "      <td>South-central Kenya.</td>\n",
       "      <td>Medium</td>\n",
       "      <td>2</td>\n",
       "      <td>97</td>\n",
       "      <td>10.0</td>\n",
       "      <td>7.0</td>\n",
       "      <td>10.0</td>\n",
       "      <td>8.0</td>\n",
       "      <td>8.0</td>\n",
       "    </tr>\n",
       "    <tr>\n",
       "      <th>4415</th>\n",
       "      <td>PT's Coffee Roasting Co.</td>\n",
       "      <td>Rwanda.</td>\n",
       "      <td>Medium</td>\n",
       "      <td>1</td>\n",
       "      <td>92</td>\n",
       "      <td>8.0</td>\n",
       "      <td>8.0</td>\n",
       "      <td>8.0</td>\n",
       "      <td>7.0</td>\n",
       "      <td>8.0</td>\n",
       "    </tr>\n",
       "  </tbody>\n",
       "</table>\n",
       "</div>"
      ],
      "text/plain": [
       "                           roaster  \\\n",
       "4022         Green Mountain Coffee   \n",
       "4929              Iron Brew Coffee   \n",
       "4619   Atomic Cafe Coffee Roasters   \n",
       "4909                 The Roasterie   \n",
       "4393                 Klatch Coffee   \n",
       "4496             Paradise Roasters   \n",
       "4761  Supreme Bean Coffee Roasters   \n",
       "4362         Green Mountain Coffee   \n",
       "4359                Terroir Coffee   \n",
       "4415      PT's Coffee Roasting Co.   \n",
       "\n",
       "                                                 origin   roast_level  group  \\\n",
       "4022                                South-central Kenya   Medium-Dark      2   \n",
       "4929  Cerrado growing region, Minas Gerais State, Br...  Medium-Light      1   \n",
       "4619               Narino Department, southern Colombia        Medium      1   \n",
       "4909                                           Colombia        Medium      1   \n",
       "4393                        Huila Department, Colombia.  Medium-Light      1   \n",
       "4496             Boquete growing region, western Panama        Medium      1   \n",
       "4761  Kaanapali district, near Lahaina, West Maui, H...  Medium-Light      0   \n",
       "4362  Yirgacheffe growing region, Sidamo Province, s...        Medium      2   \n",
       "4359                               South-central Kenya.        Medium      2   \n",
       "4415                                            Rwanda.        Medium      1   \n",
       "\n",
       "      rating  aroma  body  flavor  aftertaste  acidity  \n",
       "4022      92    7.0   7.0     8.0         7.0      7.0  \n",
       "4929      91    7.0   7.0     8.0         7.0      7.0  \n",
       "4619      94    8.0   8.0     8.0         8.0      8.0  \n",
       "4909      90    8.0   7.0     7.0         7.0      7.0  \n",
       "4393      93    8.0   7.0     8.0         8.0      8.0  \n",
       "4496      96    9.0   7.0    10.0         8.0      8.0  \n",
       "4761      85    9.0   7.0     8.0         7.0      7.0  \n",
       "4362      93    8.0   7.0     8.0         8.0      8.0  \n",
       "4359      97   10.0   7.0    10.0         8.0      8.0  \n",
       "4415      92    8.0   8.0     8.0         7.0      8.0  "
      ]
     },
     "execution_count": 98,
     "metadata": {},
     "output_type": "execute_result"
    }
   ],
   "source": [
    "combined.loc[[4022,4929,4619,4909,4393,4496,4761,4362,4359,4415]]"
   ]
  },
  {
   "cell_type": "markdown",
   "metadata": {},
   "source": [
    "## Model based solely on NMF topics assigned across multiple NMF models from full text\n",
    "\n",
    "This was not very useful, don't follow up"
   ]
  },
  {
   "cell_type": "code",
   "execution_count": 104,
   "metadata": {},
   "outputs": [],
   "source": [
    "one_hot = pd.get_dummies(df,columns=['Two Topic','Three Topic','Four Topic','Five Topic','Six Topic','Seven Topic','Eight Topic','Nine Topic','Ten Topic'])\n",
    "one_hot = one_hot[one_hot.rating>0]"
   ]
  },
  {
   "cell_type": "code",
   "execution_count": 126,
   "metadata": {},
   "outputs": [],
   "source": [
    "_X, X_, _y, y_ = train_test_split(one_hot.drop(columns=['Roaster','Text','rating']),one_hot.rating,test_size=.2,random_state=42)"
   ]
  },
  {
   "cell_type": "code",
   "execution_count": 135,
   "metadata": {},
   "outputs": [
    {
     "name": "stdout",
     "output_type": "stream",
     "text": [
      "Simple regression scores:  [0.246, 0.265, 0.291, 0.285, 0.253] \n",
      "\n",
      "Simple mean cv r^2: 0.268 +- 0.018 \n",
      "\n",
      "The average error (MAE) on a predicted value on the holdout test data is:  2.719531413990344\n"
     ]
    },
    {
     "data": {
      "text/plain": [
       "[('Two Topic_0', 0.5140477122150904),\n",
       " ('Two Topic_1', -0.0),\n",
       " ('Three Topic_0', -0.0),\n",
       " ('Three Topic_1', 0.0640247909443561),\n",
       " ('Three Topic_2', -0.2776935253460187),\n",
       " ('Four Topic_0', 0.006912757950952578),\n",
       " ('Four Topic_1', -0.06933296799158246),\n",
       " ('Four Topic_2', 0.07306618932624573),\n",
       " ('Four Topic_3', -0.0),\n",
       " ('Five Topic_0', 0.0),\n",
       " ('Five Topic_1', -0.46373166369515545),\n",
       " ('Five Topic_2', -0.11739952805809296),\n",
       " ('Five Topic_3', 0.4411901336077375),\n",
       " ('Five Topic_4', 0.0),\n",
       " ('Six Topic_0', 0.013581674626825524),\n",
       " ('Six Topic_1', -0.0),\n",
       " ('Six Topic_2', -0.6722797244927596),\n",
       " ('Six Topic_3', 0.09787206150569563),\n",
       " ('Six Topic_4', -0.0),\n",
       " ('Six Topic_5', -0.0),\n",
       " ('Seven Topic_0', -0.15749577369307996),\n",
       " ('Seven Topic_1', 0.0),\n",
       " ('Seven Topic_2', -0.0),\n",
       " ('Seven Topic_3', 0.05898042593706846),\n",
       " ('Seven Topic_4', -0.2896866059890552),\n",
       " ('Seven Topic_5', -0.14984270668322006),\n",
       " ('Seven Topic_6', 0.09544904920202368),\n",
       " ('Eight Topic_0', 0.02825681512928924),\n",
       " ('Eight Topic_1', 0.0027774146539929854),\n",
       " ('Eight Topic_2', 0.025139474008963263),\n",
       " ('Eight Topic_3', -0.06833054382163468),\n",
       " ('Eight Topic_4', 0.40762469544628793),\n",
       " ('Eight Topic_5', -0.001082610774228714),\n",
       " ('Eight Topic_6', -0.0),\n",
       " ('Eight Topic_7', -0.5761159246769358),\n",
       " ('Nine Topic_0', 0.18441404828729235),\n",
       " ('Nine Topic_1', 0.0),\n",
       " ('Nine Topic_2', 0.0),\n",
       " ('Nine Topic_3', 0.0),\n",
       " ('Nine Topic_4', -0.22949472929885997),\n",
       " ('Nine Topic_5', 0.0),\n",
       " ('Nine Topic_6', -0.015341794589669451),\n",
       " ('Nine Topic_7', -0.8757036190350741),\n",
       " ('Nine Topic_8', 0.21076365439474293),\n",
       " ('Ten Topic_0', -0.0),\n",
       " ('Ten Topic_1', -0.0),\n",
       " ('Ten Topic_2', 0.0),\n",
       " ('Ten Topic_3', 0.0),\n",
       " ('Ten Topic_4', -0.0),\n",
       " ('Ten Topic_5', 0.0),\n",
       " ('Ten Topic_6', -0.2851234289314908),\n",
       " ('Ten Topic_7', 0.0),\n",
       " ('Ten Topic_8', 0.0),\n",
       " ('Ten Topic_9', -0.0)]"
      ]
     },
     "execution_count": 135,
     "metadata": {},
     "output_type": "execute_result"
    }
   ],
   "source": [
    "train_X, train_y = np.array(_X), np.array(_y)\n",
    "#run the CV\n",
    "kf = KFold(n_splits=5, shuffle=True, random_state = 71)\n",
    "cv_lm_r2s = [] #collect the validation results\n",
    "\n",
    "for train_ind, val_ind in kf.split(train_X,train_y):\n",
    "    \n",
    "    tr_X, tr_y = train_X[train_ind], train_y[train_ind]\n",
    "    X_val, y_val = train_X[val_ind], train_y[val_ind] \n",
    "    \n",
    "    #simple linear regression\n",
    "    lmwords = LinearRegression()\n",
    "\n",
    "    lmwords.fit(tr_X, tr_y)\n",
    "    cv_lm_r2s.append(round(lmwords.score(X_val, y_val), 3))\n",
    "\n",
    "print('Simple regression scores: ', cv_lm_r2s, '\\n')\n",
    "\n",
    "print(f'Simple mean cv r^2: {np.mean(cv_lm_r2s):.3f} +- {np.std(cv_lm_r2s):.3f}','\\n')\n",
    "\n",
    "word_set_pred = lmwords.predict(X_)\n",
    "\n",
    "mae_kfoldwords = mae(y_,word_set_pred)\n",
    "\n",
    "print('The average error (MAE) on a predicted value on the holdout test data is: ',mae_kfoldwords)\n",
    "\n",
    "alphavec = 10**np.linspace(-2,2,200)\n",
    "std_words= StandardScaler()\n",
    "std_words.fit(_X)\n",
    "X_words = std_words.transform(_X)\n",
    "\n",
    "lasso_words =  LassoCV(alphas = alphavec, cv = 5)\n",
    "lasso_words.fit(X_words,_y)\n",
    "word_lasso_pred = lasso_words.predict(std_words.transform(X_))\n",
    "list(zip(_X.columns, lasso_words.coef_))\n"
   ]
  },
  {
   "cell_type": "code",
   "execution_count": 108,
   "metadata": {},
   "outputs": [
    {
     "data": {
      "text/plain": [
       "[('Two Topic_0', -105335042908.53606),\n",
       " ('Two Topic_1', -105335042909.88904),\n",
       " ('Three Topic_0', -5062143314863.652),\n",
       " ('Three Topic_1', -5062143314863.207),\n",
       " ('Three Topic_2', -5062143314864.66),\n",
       " ('Four Topic_0', -99452048751.01141),\n",
       " ('Four Topic_1', -99452048751.38844),\n",
       " ('Four Topic_2', -99452048750.28162),\n",
       " ('Four Topic_3', -99452048751.19627),\n",
       " ('Five Topic_0', -111886118478.1836),\n",
       " ('Five Topic_1', -111886118479.36157),\n",
       " ('Five Topic_2', -111886118479.10608),\n",
       " ('Five Topic_3', -111886118477.16699),\n",
       " ('Five Topic_4', -111886118477.9851),\n",
       " ('Six Topic_0', 83741714811.13867),\n",
       " ('Six Topic_1', 83741714810.82837),\n",
       " ('Six Topic_2', 83741714807.0615),\n",
       " ('Six Topic_3', 83741714811.0122),\n",
       " ('Six Topic_4', 83741714810.65747),\n",
       " ('Six Topic_5', 83741714810.97934),\n",
       " ('Seven Topic_0', -18192116929.37732),\n",
       " ('Seven Topic_1', -18192116927.9646),\n",
       " ('Seven Topic_2', -18192116927.684296),\n",
       " ('Seven Topic_3', -18192116927.794678),\n",
       " ('Seven Topic_4', -18192116929.468994),\n",
       " ('Seven Topic_5', -18192116928.764008),\n",
       " ('Seven Topic_6', -18192116927.677734),\n",
       " ('Eight Topic_0', -45256986710.59558),\n",
       " ('Eight Topic_1', -45256986710.518555),\n",
       " ('Eight Topic_2', -45256986710.65964),\n",
       " ('Eight Topic_3', -45256986711.468506),\n",
       " ('Eight Topic_4', -45256986708.783936),\n",
       " ('Eight Topic_5', -45256986711.69183),\n",
       " ('Eight Topic_6', -45256986710.6333),\n",
       " ('Eight Topic_7', -45256986712.35156),\n",
       " ('Nine Topic_0', 42479500686.80957),\n",
       " ('Nine Topic_1', 42479500684.27319),\n",
       " ('Nine Topic_2', 42479500685.64447),\n",
       " ('Nine Topic_3', 42479500685.06311),\n",
       " ('Nine Topic_4', 42479500683.51196),\n",
       " ('Nine Topic_5', 42479500684.59723),\n",
       " ('Nine Topic_6', 42479500683.78491),\n",
       " ('Nine Topic_7', 42479500681.96118),\n",
       " ('Nine Topic_8', 42479500684.99756),\n",
       " ('Ten Topic_0', 20750448418.587463),\n",
       " ('Ten Topic_1', 20750448419.88086),\n",
       " ('Ten Topic_2', 20750448419.76758),\n",
       " ('Ten Topic_3', 20750448419.907806),\n",
       " ('Ten Topic_4', 20750448419.7583),\n",
       " ('Ten Topic_5', 20750448420.089478),\n",
       " ('Ten Topic_6', 20750448418.48584),\n",
       " ('Ten Topic_7', 20750448420.72412),\n",
       " ('Ten Topic_8', 20750448420.483246),\n",
       " ('Ten Topic_9', 20750448420.160156)]"
      ]
     },
     "execution_count": 108,
     "metadata": {},
     "output_type": "execute_result"
    }
   ],
   "source": [
    "list(zip(_X.columns, lmwords.coef_))"
   ]
  },
  {
   "cell_type": "code",
   "execution_count": 136,
   "metadata": {},
   "outputs": [
    {
     "data": {
      "image/png": "[encoded data removed]",
      "text/plain": [
       "<Figure size 720x720 with 1 Axes>"
      ]
     },
     "metadata": {},
     "output_type": "display_data"
    }
   ],
   "source": [
    "y = one_hot.rating\n",
    "sns.set(rc={'figure.figsize':(10, 10)})\n",
    "fig, ax = plt.subplots()\n",
    "ax.scatter(y_, word_lasso_pred, s=20,color='#6f4e37')\n",
    "ax.set_facecolor('white')\n",
    "ax.plot([y.min(), y.max()], [y.min(), y.max()], 'k--', lw=2)\n",
    "ax.set_xlabel('Actual Rating',fontsize=18)\n",
    "ax.set_ylabel('Predicted Rating',fontsize=18)\n",
    "ax.set_title('How does the predicted rating of a coffee compare to reality based only on topics of reviews?',fontsize=24)\n",
    "txt = 'The dotted line represents accurate predictions' + '\\n \\n'+' - Below the line represents underpredictions' + '\\n\\n'+ ' - Above the line represents over predictions'\n",
    "text = fig.text(1,.5,txt,fontsize=16)\n",
    "# fig.savefig('OneDrive\\Desktop\\Metis\\Projects\\Project 2\\wridge_actualvspredicted',kind='png')\n",
    "plt.show()"
   ]
  },
  {
   "cell_type": "code",
   "execution_count": 143,
   "metadata": {},
   "outputs": [
    {
     "data": {
      "text/plain": [
       "rating           79.580000\n",
       "Two Topic_0       0.240000\n",
       "Two Topic_1       0.760000\n",
       "Three Topic_0     0.250000\n",
       "Three Topic_1     0.540000\n",
       "Three Topic_2     0.210000\n",
       "Four Topic_0      0.170000\n",
       "Four Topic_1      0.470000\n",
       "Four Topic_2      0.180000\n",
       "Four Topic_3      0.180000\n",
       "Five Topic_0      0.060000\n",
       "Five Topic_1      0.390000\n",
       "Five Topic_2      0.160000\n",
       "Five Topic_3      0.220000\n",
       "Five Topic_4      0.170000\n",
       "Six Topic_0       0.030000\n",
       "Six Topic_1       0.360000\n",
       "Six Topic_2       0.100000\n",
       "Six Topic_3       0.170000\n",
       "Six Topic_4       0.190000\n",
       "Six Topic_5       0.150000\n",
       "Seven Topic_0     0.020000\n",
       "Seven Topic_1     0.350000\n",
       "Seven Topic_2     0.100000\n",
       "Seven Topic_3     0.090000\n",
       "Seven Topic_4     0.160000\n",
       "Seven Topic_5     0.150000\n",
       "Seven Topic_6     0.130000\n",
       "Eight Topic_0     0.000000\n",
       "Eight Topic_1     0.140000\n",
       "Eight Topic_2     0.040000\n",
       "Eight Topic_3     0.070000\n",
       "Eight Topic_4     0.140000\n",
       "Eight Topic_5     0.080000\n",
       "Eight Topic_6     0.030000\n",
       "Eight Topic_7     0.500000\n",
       "Nine Topic_0      0.000000\n",
       "Nine Topic_1      0.120000\n",
       "Nine Topic_2      0.060000\n",
       "Nine Topic_3      0.040000\n",
       "Nine Topic_4      0.140000\n",
       "Nine Topic_5      0.050000\n",
       "Nine Topic_6      0.030000\n",
       "Nine Topic_7      0.500000\n",
       "Nine Topic_8      0.060000\n",
       "Ten Topic_0       0.000000\n",
       "Ten Topic_1       0.120000\n",
       "Ten Topic_2       0.060000\n",
       "Ten Topic_3       0.040000\n",
       "Ten Topic_4       0.130000\n",
       "Ten Topic_5       0.050000\n",
       "Ten Topic_6       0.040000\n",
       "Ten Topic_7       0.490000\n",
       "Ten Topic_8       0.060000\n",
       "Ten Topic_9       0.010000\n",
       "preds            89.472175\n",
       "error            11.103167\n",
       "dtype: float64"
      ]
     },
     "execution_count": 143,
     "metadata": {},
     "output_type": "execute_result"
    }
   ],
   "source": [
    "# Can I look at which topics appear in the errors most often and surmise they are hurting predictions? Not good topics?\n",
    "word_errors = pd.concat([pd.DataFrame(y_),pd.DataFrame(X_)],axis=1)\n",
    "word_errors['preds'] = lasso_words.predict(word_errors.drop(columns='rating'))\n",
    "word_errors['error'] = np.absolute(word_errors.rating-word_errors.preds)\n",
    "word_errors.sort_values(by='error',ascending=False).head(100).mean()"
   ]
  },
  {
   "cell_type": "code",
   "execution_count": 128,
   "metadata": {},
   "outputs": [],
   "source": [
    "# kf = KFold(n_splits=5, shuffle=True, random_state = 42)\n",
    "# cv_lm_poly_r2s = []\n",
    "# train_X, train_y = np.array(_X), np.array(_y)\n",
    "# for train_ind, val_ind in kf.split(train_X, train_y):    \n",
    "    \n",
    "#     tr_X, tr_y = train_X[train_ind], train_y[train_ind]\n",
    "#     X_val, y_val = train_X[val_ind], train_y[val_ind] \n",
    "    \n",
    "#     #poly with degree 2\n",
    "#     poly = PolynomialFeatures(degree=2,interaction_only=True)\n",
    "\n",
    "#     X_train_poly = poly.fit_transform(tr_X)\n",
    "#     X_val_poly = poly.transform(X_val)\n",
    "\n",
    "#     lm_poly = LinearRegression()\n",
    "    \n",
    "#     lm_poly.fit(X_train_poly, tr_y)\n",
    "#     cv_lm_poly_r2s.append(round(lm_poly.score(X_val_poly, y_val), 3))\n",
    "    \n",
    "# print('Poly scores: ', cv_lm_poly_r2s, '\\n')\n",
    "\n",
    "# print(f'Poly mean cv r^2: {np.mean(cv_lm_poly_r2s):.3f} +- {np.std(cv_lm_poly_r2s):.3f}')\n",
    "\n",
    "# alphavec = 10**np.linspace(-2,2,200)\n",
    "# std_poly = StandardScaler()\n",
    "# std_poly.fit(X_train_poly)\n",
    "# X_polylasso = std_poly.transform(X_train_poly)\n",
    "\n",
    "# lasso_poly =  LassoCV(alphas = alphavec, cv = 5)\n",
    "# lasso_poly.fit(X_train_poly,tr_y)\n",
    "# list(zip(poly.get_feature_names(_X.columns), lasso_poly.coef_))"
   ]
  },
  {
   "cell_type": "code",
   "execution_count": 363,
   "metadata": {},
   "outputs": [],
   "source": [
    "with open('lm_aroma.pickle', 'wb') as to_write:\n",
    "    pickle.dump(lm_aroma, to_write)\n",
    "with open('lm_acidity.pickle', 'wb') as to_write:\n",
    "    pickle.dump(lm_acidity, to_write)\n",
    "with open('lm_aftertaste.pickle', 'wb') as to_write:\n",
    "    pickle.dump(lm_aftertaste, to_write)\n",
    "with open('lm_flavor.pickle', 'wb') as to_write:\n",
    "    pickle.dump(lm_flavor, to_write)\n",
    "with open('lm_body.pickle', 'wb') as to_write:\n",
    "    pickle.dump(lm_body, to_write)\n",
    "\n",
    "with open('words_to_score_RF.pickle', 'wb') as to_write:\n",
    "    pickle.dump(rfr, to_write)\n",
    "with open('num_to_score_RF.pickle', 'wb') as to_write:\n",
    "    pickle.dump(rf_numerical, to_write)"
   ]
  },
  {
   "cell_type": "code",
   "execution_count": null,
   "metadata": {},
   "outputs": [],
   "source": []
  }
 ],
 "metadata": {
  "kernelspec": {
   "display_name": "Python 3",
   "language": "python",
   "name": "python3"
  },
  "language_info": {
   "codemirror_mode": {
    "name": "ipython",
    "version": 3
   },
   "file_extension": ".py",
   "mimetype": "text/x-python",
   "name": "python",
   "nbconvert_exporter": "python",
   "pygments_lexer": "ipython3",
   "version": "3.8.3"
  }
 },
 "nbformat": 4,
 "nbformat_minor": 4
}
